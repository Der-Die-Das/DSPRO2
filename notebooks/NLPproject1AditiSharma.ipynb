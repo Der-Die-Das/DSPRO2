{
 "cells": [
  {
   "cell_type": "raw",
   "id": "0b5ba7d2-40f1-4458-a8a5-d434ed34db17",
   "metadata": {},
   "source": [
    "Link to experiment tracking-  https://wandb.ai/aditi-sharma-00073-hochschule-luzern"
   ]
  },
  {
   "cell_type": "raw",
   "id": "24fbcd9c-14be-471b-86e7-2687f348269a",
   "metadata": {},
   "source": [
    "INTRODUCTION\n",
    "\n",
    "Project Title: CommonsenseQA Classification using Word Embeddings\n",
    "\n",
    "Description:\n",
    "This project implements and compares two architectures for solving the CommonsenseQA multiple-choice task. \n",
    "Each question has five possible answer choices (A–E), and the model must predict the most plausible answer \n",
    "based on commonsense reasoning.\n",
    "\n",
    "Architectures:\n",
    "1. Architecture 1: Pre-trained FastText word embeddings + 2-layer feedforward classifier\n",
    "2. Architecture 2: FastText embeddings + RNN (LSTM/GRU) + classifier\n",
    "\n",
    "Key Features:\n",
    "- Uses FastText pretrained embeddings (frozen or trainable)\n",
    "- Implements padding, batching, and DataLoader pipelines\n",
    "- Tracks experiments and metrics using Weights & Biases (W&B)\n",
    "- Evaluates using accuracy, F1 score, precision, recall, and confusion matrix\n"
   ]
  },
  {
   "cell_type": "raw",
   "id": "6e36b8b7-9071-405a-9d7c-e0e1bf4bd3fa",
   "metadata": {},
   "source": [
    "SETUP"
   ]
  },
  {
   "cell_type": "code",
   "execution_count": 2,
   "id": "bb023dcf-0845-4774-b0d4-d17f9e0a1213",
   "metadata": {},
   "outputs": [
    {
     "name": "stdout",
     "output_type": "stream",
     "text": [
      "Requirement already satisfied: datasets in /opt/conda/lib/python3.12/site-packages (3.5.0)\n",
      "Requirement already satisfied: filelock in /opt/conda/lib/python3.12/site-packages (from datasets) (3.13.1)\n",
      "Requirement already satisfied: numpy>=1.17 in /opt/conda/lib/python3.12/site-packages (from datasets) (1.26.4)\n",
      "Requirement already satisfied: pyarrow>=15.0.0 in /opt/conda/lib/python3.12/site-packages (from datasets) (19.0.1)\n",
      "Requirement already satisfied: dill<0.3.9,>=0.3.0 in /opt/conda/lib/python3.12/site-packages (from datasets) (0.3.8)\n",
      "Requirement already satisfied: pandas in /opt/conda/lib/python3.12/site-packages (from datasets) (2.2.3)\n",
      "Requirement already satisfied: requests>=2.32.2 in /opt/conda/lib/python3.12/site-packages (from datasets) (2.32.3)\n",
      "Requirement already satisfied: tqdm>=4.66.3 in /opt/conda/lib/python3.12/site-packages (from datasets) (4.67.1)\n",
      "Requirement already satisfied: xxhash in /opt/conda/lib/python3.12/site-packages (from datasets) (3.5.0)\n",
      "Requirement already satisfied: multiprocess<0.70.17 in /opt/conda/lib/python3.12/site-packages (from datasets) (0.70.16)\n",
      "Requirement already satisfied: fsspec<=2024.12.0,>=2023.1.0 in /opt/conda/lib/python3.12/site-packages (from fsspec[http]<=2024.12.0,>=2023.1.0->datasets) (2024.12.0)\n",
      "Requirement already satisfied: aiohttp in /opt/conda/lib/python3.12/site-packages (from datasets) (3.11.16)\n",
      "Requirement already satisfied: huggingface-hub>=0.24.0 in /opt/conda/lib/python3.12/site-packages (from datasets) (0.30.1)\n",
      "Requirement already satisfied: packaging in /opt/conda/lib/python3.12/site-packages (from datasets) (24.2)\n",
      "Requirement already satisfied: pyyaml>=5.1 in /opt/conda/lib/python3.12/site-packages (from datasets) (6.0.2)\n",
      "Requirement already satisfied: aiohappyeyeballs>=2.3.0 in /opt/conda/lib/python3.12/site-packages (from aiohttp->datasets) (2.6.1)\n",
      "Requirement already satisfied: aiosignal>=1.1.2 in /opt/conda/lib/python3.12/site-packages (from aiohttp->datasets) (1.3.2)\n",
      "Requirement already satisfied: attrs>=17.3.0 in /opt/conda/lib/python3.12/site-packages (from aiohttp->datasets) (25.1.0)\n",
      "Requirement already satisfied: frozenlist>=1.1.1 in /opt/conda/lib/python3.12/site-packages (from aiohttp->datasets) (1.5.0)\n",
      "Requirement already satisfied: multidict<7.0,>=4.5 in /opt/conda/lib/python3.12/site-packages (from aiohttp->datasets) (6.3.2)\n",
      "Requirement already satisfied: propcache>=0.2.0 in /opt/conda/lib/python3.12/site-packages (from aiohttp->datasets) (0.3.1)\n",
      "Requirement already satisfied: yarl<2.0,>=1.17.0 in /opt/conda/lib/python3.12/site-packages (from aiohttp->datasets) (1.19.0)\n",
      "Requirement already satisfied: typing-extensions>=3.7.4.3 in /opt/conda/lib/python3.12/site-packages (from huggingface-hub>=0.24.0->datasets) (4.12.2)\n",
      "Requirement already satisfied: charset_normalizer<4,>=2 in /opt/conda/lib/python3.12/site-packages (from requests>=2.32.2->datasets) (3.4.1)\n",
      "Requirement already satisfied: idna<4,>=2.5 in /opt/conda/lib/python3.12/site-packages (from requests>=2.32.2->datasets) (3.10)\n",
      "Requirement already satisfied: urllib3<3,>=1.21.1 in /opt/conda/lib/python3.12/site-packages (from requests>=2.32.2->datasets) (2.3.0)\n",
      "Requirement already satisfied: certifi>=2017.4.17 in /opt/conda/lib/python3.12/site-packages (from requests>=2.32.2->datasets) (2025.1.31)\n",
      "Requirement already satisfied: python-dateutil>=2.8.2 in /opt/conda/lib/python3.12/site-packages (from pandas->datasets) (2.9.0.post0)\n",
      "Requirement already satisfied: pytz>=2020.1 in /opt/conda/lib/python3.12/site-packages (from pandas->datasets) (2024.1)\n",
      "Requirement already satisfied: tzdata>=2022.7 in /opt/conda/lib/python3.12/site-packages (from pandas->datasets) (2025.1)\n",
      "Requirement already satisfied: six>=1.5 in /opt/conda/lib/python3.12/site-packages (from python-dateutil>=2.8.2->pandas->datasets) (1.17.0)\n"
     ]
    }
   ],
   "source": [
    "!pip install datasets"
   ]
  },
  {
   "cell_type": "code",
   "execution_count": 3,
   "id": "a3afc3fc-cbdd-4518-aab9-7bc36555cbe3",
   "metadata": {},
   "outputs": [
    {
     "name": "stdout",
     "output_type": "stream",
     "text": [
      "Requirement already satisfied: nltk in /opt/conda/lib/python3.12/site-packages (3.9.1)\n",
      "Requirement already satisfied: gensim in /opt/conda/lib/python3.12/site-packages (4.3.3)\n",
      "Requirement already satisfied: click in /opt/conda/lib/python3.12/site-packages (from nltk) (8.1.8)\n",
      "Requirement already satisfied: joblib in /opt/conda/lib/python3.12/site-packages (from nltk) (1.4.2)\n",
      "Requirement already satisfied: regex>=2021.8.3 in /opt/conda/lib/python3.12/site-packages (from nltk) (2024.11.6)\n",
      "Requirement already satisfied: tqdm in /opt/conda/lib/python3.12/site-packages (from nltk) (4.67.1)\n",
      "Requirement already satisfied: numpy<2.0,>=1.18.5 in /opt/conda/lib/python3.12/site-packages (from gensim) (1.26.4)\n",
      "Requirement already satisfied: scipy<1.14.0,>=1.7.0 in /opt/conda/lib/python3.12/site-packages (from gensim) (1.13.1)\n",
      "Requirement already satisfied: smart-open>=1.8.1 in /opt/conda/lib/python3.12/site-packages (from gensim) (7.1.0)\n",
      "Requirement already satisfied: wrapt in /opt/conda/lib/python3.12/site-packages (from smart-open>=1.8.1->gensim) (1.17.2)\n"
     ]
    }
   ],
   "source": [
    "!pip install nltk gensim"
   ]
  },
  {
   "cell_type": "code",
   "execution_count": 4,
   "id": "f43bd3b4-191f-4785-9bcd-b3d257ec5aab",
   "metadata": {},
   "outputs": [
    {
     "name": "stdout",
     "output_type": "stream",
     "text": [
      "Requirement already satisfied: wandb in /opt/conda/lib/python3.12/site-packages (0.19.9)\n",
      "Requirement already satisfied: click!=8.0.0,>=7.1 in /opt/conda/lib/python3.12/site-packages (from wandb) (8.1.8)\n",
      "Requirement already satisfied: docker-pycreds>=0.4.0 in /opt/conda/lib/python3.12/site-packages (from wandb) (0.4.0)\n",
      "Requirement already satisfied: gitpython!=3.1.29,>=1.0.0 in /opt/conda/lib/python3.12/site-packages (from wandb) (3.1.44)\n",
      "Requirement already satisfied: platformdirs in /opt/conda/lib/python3.12/site-packages (from wandb) (4.3.6)\n",
      "Requirement already satisfied: protobuf!=4.21.0,!=5.28.0,<6,>=3.19.0 in /opt/conda/lib/python3.12/site-packages (from wandb) (5.28.3)\n",
      "Requirement already satisfied: psutil>=5.0.0 in /opt/conda/lib/python3.12/site-packages (from wandb) (7.0.0)\n",
      "Requirement already satisfied: pydantic<3 in /opt/conda/lib/python3.12/site-packages (from wandb) (2.10.6)\n",
      "Requirement already satisfied: pyyaml in /opt/conda/lib/python3.12/site-packages (from wandb) (6.0.2)\n",
      "Requirement already satisfied: requests<3,>=2.0.0 in /opt/conda/lib/python3.12/site-packages (from wandb) (2.32.3)\n",
      "Requirement already satisfied: sentry-sdk>=2.0.0 in /opt/conda/lib/python3.12/site-packages (from wandb) (2.25.1)\n",
      "Requirement already satisfied: setproctitle in /opt/conda/lib/python3.12/site-packages (from wandb) (1.3.5)\n",
      "Requirement already satisfied: setuptools in /opt/conda/lib/python3.12/site-packages (from wandb) (75.8.2)\n",
      "Requirement already satisfied: typing-extensions<5,>=4.4 in /opt/conda/lib/python3.12/site-packages (from wandb) (4.12.2)\n",
      "Requirement already satisfied: six>=1.4.0 in /opt/conda/lib/python3.12/site-packages (from docker-pycreds>=0.4.0->wandb) (1.17.0)\n",
      "Requirement already satisfied: gitdb<5,>=4.0.1 in /opt/conda/lib/python3.12/site-packages (from gitpython!=3.1.29,>=1.0.0->wandb) (4.0.12)\n",
      "Requirement already satisfied: annotated-types>=0.6.0 in /opt/conda/lib/python3.12/site-packages (from pydantic<3->wandb) (0.7.0)\n",
      "Requirement already satisfied: pydantic-core==2.27.2 in /opt/conda/lib/python3.12/site-packages (from pydantic<3->wandb) (2.27.2)\n",
      "Requirement already satisfied: charset_normalizer<4,>=2 in /opt/conda/lib/python3.12/site-packages (from requests<3,>=2.0.0->wandb) (3.4.1)\n",
      "Requirement already satisfied: idna<4,>=2.5 in /opt/conda/lib/python3.12/site-packages (from requests<3,>=2.0.0->wandb) (3.10)\n",
      "Requirement already satisfied: urllib3<3,>=1.21.1 in /opt/conda/lib/python3.12/site-packages (from requests<3,>=2.0.0->wandb) (2.3.0)\n",
      "Requirement already satisfied: certifi>=2017.4.17 in /opt/conda/lib/python3.12/site-packages (from requests<3,>=2.0.0->wandb) (2025.1.31)\n",
      "Requirement already satisfied: smmap<6,>=3.0.1 in /opt/conda/lib/python3.12/site-packages (from gitdb<5,>=4.0.1->gitpython!=3.1.29,>=1.0.0->wandb) (5.0.2)\n"
     ]
    }
   ],
   "source": [
    "!pip install wandb"
   ]
  },
  {
   "cell_type": "code",
   "execution_count": 5,
   "id": "733ee70a-3096-4110-bd58-ee287947008f",
   "metadata": {},
   "outputs": [
    {
     "name": "stdout",
     "output_type": "stream",
     "text": [
      "Requirement already satisfied: numpy in /opt/conda/lib/python3.12/site-packages (1.26.4)\n",
      "Collecting numpy\n",
      "  Using cached numpy-2.2.4-cp312-cp312-manylinux_2_17_x86_64.manylinux2014_x86_64.whl.metadata (62 kB)\n",
      "Requirement already satisfied: gensim in /opt/conda/lib/python3.12/site-packages (4.3.3)\n",
      "Requirement already satisfied: scipy<1.14.0,>=1.7.0 in /opt/conda/lib/python3.12/site-packages (from gensim) (1.13.1)\n",
      "Requirement already satisfied: smart-open>=1.8.1 in /opt/conda/lib/python3.12/site-packages (from gensim) (7.1.0)\n",
      "Requirement already satisfied: wrapt in /opt/conda/lib/python3.12/site-packages (from smart-open>=1.8.1->gensim) (1.17.2)\n"
     ]
    }
   ],
   "source": [
    "!pip install --upgrade numpy gensim"
   ]
  },
  {
   "cell_type": "code",
   "execution_count": null,
   "id": "71e6a9a2-a07e-420a-840d-868d63e9ca82",
   "metadata": {},
   "outputs": [],
   "source": [
    "import gensim.downloader as api\n",
    "\n",
    "# Load the pre-trained FastText model\n",
    "fasttext_model = api.load('fasttext-wiki-news-subwords-300')"
   ]
  },
  {
   "cell_type": "code",
   "execution_count": null,
   "id": "9b174b42-d1c9-44fc-aaf1-db8a116e3d75",
   "metadata": {},
   "outputs": [],
   "source": [
    "# Download tokenizer assets\n",
    "import nltk\n",
    "nltk.download('punkt')\n",
    "nltk.download('punkt_tab')\n"
   ]
  },
  {
   "cell_type": "code",
   "execution_count": null,
   "id": "e94c7eac-a491-4ced-bafb-722b06752b82",
   "metadata": {},
   "outputs": [],
   "source": [
    "import numpy as np\n",
    "import pandas as pd\n",
    "import torch\n",
    "import torch.nn as nn\n",
    "import torch.optim as optim\n",
    "from torch.utils.data import DataLoader, Dataset\n",
    "from sklearn.metrics import accuracy_score, classification_report, confusion_matrix\n",
    "import matplotlib.pyplot as plt\n",
    "import seaborn as sns\n",
    "import torch.nn.functional as F\n",
    "from datasets import load_dataset\n",
    "from nltk.tokenize import word_tokenize\n",
    "import random\n",
    "import os"
   ]
  },
  {
   "cell_type": "raw",
   "id": "5293d93b-93c1-499a-9f68-b9b83192c6c3",
   "metadata": {},
   "source": [
    "Load the dataset in the notebook as per the required distribution"
   ]
  },
  {
   "cell_type": "code",
   "execution_count": null,
   "id": "90fb7fc2-f211-494c-a177-feb7b260d772",
   "metadata": {},
   "outputs": [],
   "source": [
    "train_dataset = load_dataset(\"tau/commonsense_qa\", split=\"train[:-1000]\")\n",
    "valid_dataset = load_dataset(\"tau/commonsense_qa\", split=\"train[-1000:]\")\n",
    "test_dataset = load_dataset(\"tau/commonsense_qa\", split=\"validation\")"
   ]
  },
  {
   "cell_type": "code",
   "execution_count": null,
   "id": "7de8f187-a71a-4ab5-ac36-0606980d6eb0",
   "metadata": {},
   "outputs": [],
   "source": [
    "train_dataset = train_dataset.remove_columns(['id', 'question_concept'])\n",
    "valid_dataset = valid_dataset.remove_columns(['id', 'question_concept'])\n",
    "test_dataset = test_dataset.remove_columns(['id', 'question_concept'])"
   ]
  },
  {
   "cell_type": "raw",
   "id": "50749551-5212-4d41-8c73-adfc919c611e",
   "metadata": {},
   "source": [
    "PREPROCESSING"
   ]
  },
  {
   "cell_type": "raw",
   "id": "47837b5b-a004-4de4-b4cc-01fe0c8aaf6d",
   "metadata": {},
   "source": [
    "1. Tokenization\n",
    "Word Tokenization: NLTK's word_tokenize() function splits a text into individual words while considering \n",
    "punctuation, special characters, and word boundaries, making it ideal for general-purpose tokenization.\n",
    "2. Lowercasing\n",
    "Preserving case sensitivity retains semantic distinctions critical for proper nouns, acronyms, and context-specific capitalization (e.g., \"US\" as a country vs. \"us\" as a pronoun).\n",
    "3. Stemming\n",
    "While stemming reduces words to roots (e.g., \"running\" → \"run\"), it risks oversimplification by stripping suffixes without considering context. Hence not done.\n",
    "4. Lemmatization\n",
    "Lemmatization maps words to their dictionary forms (e.g., \"better\" → \"good\") using linguistic context and part-of-speech tagging, ensuring accurate normalization without loss of meaning.\n",
    "5. Stopword/Punctuation Removal\n",
    "Stopwords (e.g., \"however,\" \"not\") and punctuation (e.g., question marks, quotation marks) provide critical syntactic, semantic, and tonal context. For instance, negation words (\"no,\" \"never\") are essential for sentiment analysis, while punctuation can define sentence boundaries or emphasize urgency (e.g., \"Help!\" vs. \"Help.\"). Not removed.\n",
    "6. Unknown Words\n",
    "While these terms won’t contribute to pre-trained embeddings, their presence allows to infer patterns from surrounding context. Not removed.\n",
    "7. Format cleaning (e.g. html-extracted text) \n",
    "Not required here, as text doesn't contain them."
   ]
  },
  {
   "cell_type": "code",
   "execution_count": null,
   "id": "bcbd2ceb-c7b2-4814-9e57-dcc8cd80b657",
   "metadata": {},
   "outputs": [],
   "source": [
    "def tokenize(dataset):\n",
    "    dataset['question'] = nltk.word_tokenize(dataset['question'])\n",
    "    dataset['choices']['text'] = [nltk.word_tokenize(choice) for choice in dataset['choices']['text']]\n",
    "    return dataset\n",
    "\n",
    "train_dataset = train_dataset.map(tokenize)\n",
    "valid_dataset = valid_dataset.map(tokenize)\n",
    "test_dataset = test_dataset.map(tokenize)"
   ]
  },
  {
   "cell_type": "code",
   "execution_count": null,
   "id": "e0c91cdd-c0ba-42a4-bf38-7eaa86d2a3e4",
   "metadata": {},
   "outputs": [],
   "source": [
    "nltk.download('wordnet')\n",
    "lemmatizer = nltk.stem.WordNetLemmatizer()\n",
    "def lemmatize_tokens(tokens):\n",
    "    return [lemmatizer.lemmatize(token) for token in tokens]\n",
    "for dataset in [train_dataset, valid_dataset, test_dataset]:\n",
    "    for example in dataset:\n",
    "        example['question'] = lemmatize_tokens(example['question']) "
   ]
  },
  {
   "cell_type": "raw",
   "id": "872b34e4-d393-404a-b49c-091eecc51bb6",
   "metadata": {},
   "source": [
    "Batching:\n",
    "Instead of feeding one (question + 5 choices) sample at a time, we group multiple samples into a batch (e.g., batch_size = 32) to process them together.\n",
    "\n",
    "Input\n",
    "For Architecture 1 (Classifier):\n",
    "Shape is (batch_size × 5, 600) — one 600-dim vector per Q+choice pair.\n",
    "For Architecture 2 (RNN):\n",
    "Each batch becomes a tensor of shape:\n",
    "(batch_size × 5, max_seq_len, embedding_dim) — because each sample has 5 (Q+choice) pairs.\n",
    "\n",
    "Label\n",
    "Target label is a single integer from 0 to 4\n",
    "Used in nn.CrossEntropyLoss(), which expects:\n",
    "Logits shape: (batch_size, 5)\n",
    "Target shape: (batch_size,) with values ∈ {0,1,2,3,4}"
   ]
  },
  {
   "cell_type": "code",
   "execution_count": null,
   "id": "85537e4e-864f-4a68-9869-9f081d2c9e8a",
   "metadata": {},
   "outputs": [],
   "source": [
    "PART-1 : Word embeddings (fastText) together with a classifier (2-layer with ReLU \n",
    "non-linearity)."
   ]
  },
  {
   "cell_type": "raw",
   "id": "adaa5371-5120-4f26-a685-12f3b9d88534",
   "metadata": {},
   "source": [
    "FastText Embeddings are used.\n",
    "popular choice for robustly processing diverse question-answer pairs in QA tasks.\n",
    "\n",
    "Vocabulary : Pretrained. Not my own\n",
    "\n",
    "Padding- Not needed in Model-1. (but needed for rnns- Model-2)"
   ]
  },
  {
   "cell_type": "code",
   "execution_count": null,
   "id": "1e0a668f-8d7a-449b-8223-9e80ce7c9465",
   "metadata": {},
   "outputs": [],
   "source": [
    "def get_embedding(word, model=fasttext_model):\n",
    "    try:\n",
    "        return model[word]  # Retrieve the embedding for the word\n",
    "    except KeyError:\n",
    "        return np.zeros(300)  # Return a zero vector if the word is not in vocabulary"
   ]
  },
  {
   "cell_type": "code",
   "execution_count": null,
   "id": "a60951ad-20ed-4323-b2d2-6066f2e95a3f",
   "metadata": {},
   "outputs": [],
   "source": [
    "def preprocess_data(data):\n",
    "    processed_data = []\n",
    "\n",
    "    for item in data:\n",
    "        question = item['question']\n",
    "        choices = item['choices']['text']\n",
    "        answer_key = item['answerKey']\n",
    "        \n",
    "        # Compute average embedding for the question\n",
    "        question_embedding = np.mean([get_embedding(word) for word in question], axis=0)\n",
    "        \n",
    "        # Compute average embeddings for each choice\n",
    "        choice_embeddings = [np.mean([get_embedding(word) for word in choice], axis=0) for choice in choices]\n",
    "        \n",
    "        # Concatenate question embedding with each choice embedding\n",
    "        concatenated_inputs = [np.concatenate([question_embedding, choice_embedding]) for choice_embedding in choice_embeddings]\n",
    "        \n",
    "        # Map the answer to a label (A -> 0, B -> 1, ..., E -> 4)\n",
    "        label = ord(answer_key) - ord('A')  # 'A' maps to 0, 'B' to 1, etc.\n",
    "        \n",
    "        processed_data.append({\n",
    "            'inputs': concatenated_inputs,\n",
    "            'label': label\n",
    "        })\n",
    "    \n",
    "    return processed_data\n",
    "\n",
    "processed_train_data_1 = preprocess_data(train_dataset)\n",
    "print(f\"Processed data (example): {processed_train_data_1[1]}\")\n"
   ]
  },
  {
   "cell_type": "code",
   "execution_count": null,
   "id": "555935fa-4198-4dcf-9263-a9f83db22f20",
   "metadata": {},
   "outputs": [],
   "source": [
    "\n",
    "# CommonsenseQADataset class for preparing dataset\n",
    "class CommonsenseQADataset_model1(Dataset):\n",
    "    def __init__(self, processed_data):\n",
    "        self.data = processed_data\n",
    "    \n",
    "    def __len__(self):\n",
    "        return len(self.data)\n",
    "    \n",
    "    def __getitem__(self, idx):\n",
    "        item = self.data[idx]\n",
    "        inputs = item['inputs']  # List of 5 embeddings\n",
    "        label = item['label']    # Correct answer's index\n",
    "        \n",
    "        # Convert inputs (list of 5 embeddings) into a tensor\n",
    "        inputs_tensor = torch.tensor(inputs, dtype=torch.float32)\n",
    "        label_tensor = torch.tensor(label, dtype=torch.long)\n",
    "        \n",
    "        return inputs_tensor, label_tensor\n",
    "\n",
    "train_dataset = CommonsenseQADataset_model1(processed_train_data_1)\n",
    "train_dataloader = DataLoader(train_dataset, batch_size=32, shuffle=True)\n",
    "\n",
    "# Check shapes for debugging\n",
    "for inputs, label in train_dataloader:\n",
    "    print(f\"Inputs shape: {inputs.shape}\")  # Should be (batch_size, 5, 600)\n",
    "    print(f\"Labels shape: {label.shape}\")  # Should be (batch_size,)\n",
    "    break"
   ]
  },
  {
   "cell_type": "raw",
   "id": "749a5fb0-e7c8-43e1-842e-494872124742",
   "metadata": {},
   "source": [
    "Model-1 Architecture"
   ]
  },
  {
   "cell_type": "raw",
   "id": "dc359ebc-0d1b-42a8-816e-b0738a7762b3",
   "metadata": {},
   "source": [
    "Preprocessing: Tokenize question and each choice, get FastText embeddings, and compute average for both.  \n",
    "Input to Model: Concatenate avg(question) + avg(choice) → 600-dim vector per option → shape (5, 600).  \n",
    "Model: 2-layer feedforward classifier with ReLU → outputs logits for each of 5 options.  \n",
    "Output: Softmax over logits → probabilities over 5 choices → predicted label (0–4)."
   ]
  },
  {
   "cell_type": "code",
   "execution_count": null,
   "id": "aa06ddde-21ce-486b-a76c-d98e5c07eb8d",
   "metadata": {},
   "outputs": [],
   "source": [
    "# Classifier model\n",
    "class ClassifierModel(nn.Module):\n",
    "    def __init__(self, input_dim, hidden_dim, num_classes):\n",
    "        super(ClassifierModel, self).__init__()\n",
    "        # Define the layers of the 2-layer fully connected (FC) network\n",
    "        self.fc1 = nn.Linear(input_dim, hidden_dim)  # Input to hidden layer\n",
    "        self.fc2 = nn.Linear(hidden_dim, num_classes)  # Hidden to output layer\n",
    "        \n",
    "    def forward(self, x):\n",
    "        # Flatten the input for each sample: (batch_size, 5, 600) -> (batch_size * 5, 600)\n",
    "        x = x.view(-1, 600)\n",
    "        # Pass the input through the first hidden layer with ReLU activation\n",
    "        x = F.relu(self.fc1(x))\n",
    "        # Pass through the second layer (output layer)\n",
    "        x = self.fc2(x)\n",
    "        return x"
   ]
  },
  {
   "cell_type": "raw",
   "id": "8f04cee8-436e-4073-a452-8882b507c81b",
   "metadata": {},
   "source": [
    "Training"
   ]
  },
  {
   "cell_type": "code",
   "execution_count": null,
   "id": "28766a0d-f7bd-432d-a143-b6fcaa5af8f6",
   "metadata": {},
   "outputs": [],
   "source": [
    "import wandb\n",
    "# Initialize W&B\n",
    "wandb.init(project='CQA_Model-1', name='train-1', config={\n",
    "    'epochs': 3,\n",
    "    'batch_size': 32,\n",
    "    'learning_rate': 1e-3,\n",
    "    'hidden_dim': 256,\n",
    "    'input_dim': 600,\n",
    "    'num_classes': 5\n",
    "})"
   ]
  },
  {
   "cell_type": "code",
   "execution_count": null,
   "id": "40e2d7b2-89ab-4fcb-83ea-7dc126c82965",
   "metadata": {},
   "outputs": [],
   "source": [
    "# Set the model, loss function, and optimizer\n",
    "model = ClassifierModel(input_dim=600, hidden_dim=256, num_classes=5)\n",
    "optimizer = optim.Adam(model.parameters(), lr=wandb.config.learning_rate)\n",
    "loss_fn = nn.CrossEntropyLoss()\n",
    "\n",
    "# Training loop with W&B tracking\n",
    "def train_with_wandb(model, dataloader, epochs=3):\n",
    "    model.train()\n",
    "    device = next(model.parameters()).device  # Get model's device\n",
    "    \n",
    "    for epoch in range(epochs):\n",
    "        total_loss = 0\n",
    "        correct_predictions = 0\n",
    "        total_samples = 0\n",
    "        \n",
    "        for inputs, labels in dataloader:\n",
    "            # Move data to model's device\n",
    "            inputs = inputs.to(device)\n",
    "            labels = labels.to(device)\n",
    "            \n",
    "            # Reshape and expand\n",
    "            inputs = inputs.view(-1, 600)  # [batch_size*5, 600]\n",
    "            expanded_labels = labels.repeat_interleave(5)  # [batch_size*5]\n",
    "            \n",
    "            # Forward pass\n",
    "            optimizer.zero_grad()\n",
    "            outputs = model(inputs)\n",
    "            \n",
    "            # Loss calculation\n",
    "            loss = loss_fn(outputs, expanded_labels)\n",
    "            total_loss += loss.item()\n",
    "            \n",
    "            # Accuracy calculation\n",
    "            outputs = outputs.view(-1, 5, 5)  # [batch_size, 5, 5]\n",
    "            _, predicted = outputs.max(dim=-1)  # Get predictions per option\n",
    "            correct = (predicted == labels.unsqueeze(1)).any(dim=1).sum().item()\n",
    "            \n",
    "            correct_predictions += correct\n",
    "            total_samples += labels.size(0)\n",
    "            \n",
    "            # Backprop\n",
    "            loss.backward()\n",
    "            optimizer.step()\n",
    "        \n",
    "        # Epoch metrics\n",
    "        epoch_loss = total_loss / len(dataloader)\n",
    "        epoch_acc = correct_predictions / total_samples\n",
    "        \n",
    "        wandb.log({'epoch': epoch+1, 'loss': epoch_loss, 'accuracy': epoch_acc})\n",
    "        print(f\"Epoch {epoch+1}/{epochs} | Loss: {epoch_loss:.4f} | Acc: {epoch_acc:.4f}\")\n",
    "\n",
    "train_with_wandb(model, train_dataloader, epochs=wandb.config.epochs)\n",
    "\n"
   ]
  },
  {
   "cell_type": "code",
   "execution_count": 26,
   "id": "bb86716a-ca99-48c8-bdf0-0c64cf9b76f7",
   "metadata": {
    "scrolled": true
   },
   "outputs": [
    {
     "data": {
      "text/html": [],
      "text/plain": [
       "<IPython.core.display.HTML object>"
      ]
     },
     "metadata": {},
     "output_type": "display_data"
    },
    {
     "data": {
      "text/html": [
       "<br>    <style><br>        .wandb-row {<br>            display: flex;<br>            flex-direction: row;<br>            flex-wrap: wrap;<br>            justify-content: flex-start;<br>            width: 100%;<br>        }<br>        .wandb-col {<br>            display: flex;<br>            flex-direction: column;<br>            flex-basis: 100%;<br>            flex: 1;<br>            padding: 10px;<br>        }<br>    </style><br><div class=\"wandb-row\"><div class=\"wandb-col\"><h3>Run history:</h3><br/><table class=\"wandb\"><tr><td>accuracy</td><td>▁▆█</td></tr><tr><td>epoch</td><td>▁▅█</td></tr><tr><td>loss</td><td>█▅▁</td></tr></table><br/></div><div class=\"wandb-col\"><h3>Run summary:</h3><br/><table class=\"wandb\"><tr><td>accuracy</td><td>0.38348</td></tr><tr><td>epoch</td><td>3</td></tr><tr><td>loss</td><td>1.6071</td></tr></table><br/></div></div>"
      ],
      "text/plain": [
       "<IPython.core.display.HTML object>"
      ]
     },
     "metadata": {},
     "output_type": "display_data"
    },
    {
     "data": {
      "text/html": [
       " View run <strong style=\"color:#cdcd00\">train-1</strong> at: <a href='https://wandb.ai/aditi-sharma-00073-hochschule-luzern/CQA_Model-1/runs/gfl54fcp' target=\"_blank\">https://wandb.ai/aditi-sharma-00073-hochschule-luzern/CQA_Model-1/runs/gfl54fcp</a><br> View project at: <a href='https://wandb.ai/aditi-sharma-00073-hochschule-luzern/CQA_Model-1' target=\"_blank\">https://wandb.ai/aditi-sharma-00073-hochschule-luzern/CQA_Model-1</a><br>Synced 5 W&B file(s), 0 media file(s), 0 artifact file(s) and 0 other file(s)"
      ],
      "text/plain": [
       "<IPython.core.display.HTML object>"
      ]
     },
     "metadata": {},
     "output_type": "display_data"
    },
    {
     "data": {
      "text/html": [
       "Find logs at: <code>./wandb/run-20250408_003721-gfl54fcp/logs</code>"
      ],
      "text/plain": [
       "<IPython.core.display.HTML object>"
      ]
     },
     "metadata": {},
     "output_type": "display_data"
    }
   ],
   "source": [
    "wandb.finish()"
   ]
  },
  {
   "cell_type": "raw",
   "id": "1a81056d-250f-4dd7-a85d-0a4949aa0836",
   "metadata": {},
   "source": [
    "Hyperparameter Tuning using Optuna"
   ]
  },
  {
   "cell_type": "code",
   "execution_count": null,
   "id": "dfa0dd50-6c73-4b91-bf75-77a4569bbb03",
   "metadata": {},
   "outputs": [],
   "source": [
    "processed_valid_data_1 = preprocess_data(valid_dataset)\n",
    "valid_dataset = CommonsenseQADataset_model1(processed_valid_data_1)  \n"
   ]
  },
  {
   "cell_type": "code",
   "execution_count": 28,
   "id": "e5330f53-9390-4cad-b629-9c53ba57c322",
   "metadata": {},
   "outputs": [],
   "source": [
    "\n",
    "def validate_model(model, valid_loader):\n",
    "    model.eval()\n",
    "    correct, total = 0, 0\n",
    "    \n",
    "    with torch.no_grad():\n",
    "        for inputs, labels in valid_loader:\n",
    "            inputs = inputs.to('cuda')\n",
    "            labels = labels.to('cuda')\n",
    "            \n",
    "            outputs = model(inputs.view(-1, 600))\n",
    "            outputs = outputs.view(-1, 5, 5)\n",
    "            _, predicted = outputs.max(dim=-1)\n",
    "            correct += (predicted == labels.unsqueeze(1)).any(dim=1).sum().item()\n",
    "            total += labels.size(0)\n",
    "    \n",
    "    return correct / total"
   ]
  },
  {
   "cell_type": "code",
   "execution_count": 30,
   "id": "d00e91ab-31cf-4513-b302-a43d8bd25607",
   "metadata": {},
   "outputs": [
    {
     "name": "stdout",
     "output_type": "stream",
     "text": [
      "Collecting optuna\n",
      "  Using cached optuna-4.2.1-py3-none-any.whl.metadata (17 kB)\n",
      "Requirement already satisfied: alembic>=1.5.0 in /opt/conda/lib/python3.12/site-packages (from optuna) (1.15.1)\n",
      "Collecting colorlog (from optuna)\n",
      "  Using cached colorlog-6.9.0-py3-none-any.whl.metadata (10 kB)\n",
      "Requirement already satisfied: numpy in /opt/conda/lib/python3.12/site-packages (from optuna) (1.26.4)\n",
      "Requirement already satisfied: packaging>=20.0 in /opt/conda/lib/python3.12/site-packages (from optuna) (24.2)\n",
      "Requirement already satisfied: sqlalchemy>=1.4.2 in /opt/conda/lib/python3.12/site-packages (from optuna) (2.0.39)\n",
      "Requirement already satisfied: tqdm in /opt/conda/lib/python3.12/site-packages (from optuna) (4.67.1)\n",
      "Requirement already satisfied: PyYAML in /opt/conda/lib/python3.12/site-packages (from optuna) (6.0.2)\n",
      "Requirement already satisfied: Mako in /opt/conda/lib/python3.12/site-packages (from alembic>=1.5.0->optuna) (1.3.9)\n",
      "Requirement already satisfied: typing-extensions>=4.12 in /opt/conda/lib/python3.12/site-packages (from alembic>=1.5.0->optuna) (4.12.2)\n",
      "Requirement already satisfied: greenlet!=0.4.17 in /opt/conda/lib/python3.12/site-packages (from sqlalchemy>=1.4.2->optuna) (3.1.1)\n",
      "Requirement already satisfied: MarkupSafe>=0.9.2 in /opt/conda/lib/python3.12/site-packages (from Mako->alembic>=1.5.0->optuna) (3.0.2)\n",
      "Using cached optuna-4.2.1-py3-none-any.whl (383 kB)\n",
      "Using cached colorlog-6.9.0-py3-none-any.whl (11 kB)\n",
      "Installing collected packages: colorlog, optuna\n",
      "Successfully installed colorlog-6.9.0 optuna-4.2.1\n"
     ]
    }
   ],
   "source": [
    "!pip install optuna"
   ]
  },
  {
   "cell_type": "code",
   "execution_count": 32,
   "id": "89f986c6-d1b6-4bef-ac10-8a421e950c71",
   "metadata": {},
   "outputs": [],
   "source": [
    "import optuna"
   ]
  },
  {
   "cell_type": "code",
   "execution_count": 35,
   "id": "36e40092-dfa8-48c6-a766-fb6e4431e41f",
   "metadata": {},
   "outputs": [
    {
     "name": "stderr",
     "output_type": "stream",
     "text": [
      "[I 2025-04-08 01:48:14,857] A new study created in memory with name: no-name-2f80c05e-fc4d-44b6-b4e9-e91c97be9728\n"
     ]
    },
    {
     "data": {
      "text/html": [],
      "text/plain": [
       "<IPython.core.display.HTML object>"
      ]
     },
     "metadata": {},
     "output_type": "display_data"
    },
    {
     "data": {
      "text/html": [
       " View run <strong style=\"color:#cdcd00\">trial_0</strong> at: <a href='https://wandb.ai/aditi-sharma-00073-hochschule-luzern/CQA_Model-1_Optuna/runs/vyqmapsj' target=\"_blank\">https://wandb.ai/aditi-sharma-00073-hochschule-luzern/CQA_Model-1_Optuna/runs/vyqmapsj</a><br> View project at: <a href='https://wandb.ai/aditi-sharma-00073-hochschule-luzern/CQA_Model-1_Optuna' target=\"_blank\">https://wandb.ai/aditi-sharma-00073-hochschule-luzern/CQA_Model-1_Optuna</a><br>Synced 5 W&B file(s), 0 media file(s), 0 artifact file(s) and 0 other file(s)"
      ],
      "text/plain": [
       "<IPython.core.display.HTML object>"
      ]
     },
     "metadata": {},
     "output_type": "display_data"
    },
    {
     "data": {
      "text/html": [
       "Find logs at: <code>./wandb/run-20250408_014340-vyqmapsj/logs</code>"
      ],
      "text/plain": [
       "<IPython.core.display.HTML object>"
      ]
     },
     "metadata": {},
     "output_type": "display_data"
    },
    {
     "data": {
      "text/html": [
       "Tracking run with wandb version 0.19.9"
      ],
      "text/plain": [
       "<IPython.core.display.HTML object>"
      ]
     },
     "metadata": {},
     "output_type": "display_data"
    },
    {
     "data": {
      "text/html": [
       "Run data is saved locally in <code>/home/jovyan/wandb/run-20250408_014814-t0raj3qu</code>"
      ],
      "text/plain": [
       "<IPython.core.display.HTML object>"
      ]
     },
     "metadata": {},
     "output_type": "display_data"
    },
    {
     "data": {
      "text/html": [
       "Syncing run <strong><a href='https://wandb.ai/aditi-sharma-00073-hochschule-luzern/CQA_Model-1_Optuna/runs/t0raj3qu' target=\"_blank\">trial_0</a></strong> to <a href='https://wandb.ai/aditi-sharma-00073-hochschule-luzern/CQA_Model-1_Optuna' target=\"_blank\">Weights & Biases</a> (<a href='https://wandb.me/developer-guide' target=\"_blank\">docs</a>)<br>"
      ],
      "text/plain": [
       "<IPython.core.display.HTML object>"
      ]
     },
     "metadata": {},
     "output_type": "display_data"
    },
    {
     "data": {
      "text/html": [
       " View project at <a href='https://wandb.ai/aditi-sharma-00073-hochschule-luzern/CQA_Model-1_Optuna' target=\"_blank\">https://wandb.ai/aditi-sharma-00073-hochschule-luzern/CQA_Model-1_Optuna</a>"
      ],
      "text/plain": [
       "<IPython.core.display.HTML object>"
      ]
     },
     "metadata": {},
     "output_type": "display_data"
    },
    {
     "data": {
      "text/html": [
       " View run at <a href='https://wandb.ai/aditi-sharma-00073-hochschule-luzern/CQA_Model-1_Optuna/runs/t0raj3qu' target=\"_blank\">https://wandb.ai/aditi-sharma-00073-hochschule-luzern/CQA_Model-1_Optuna/runs/t0raj3qu</a>"
      ],
      "text/plain": [
       "<IPython.core.display.HTML object>"
      ]
     },
     "metadata": {},
     "output_type": "display_data"
    },
    {
     "name": "stdout",
     "output_type": "stream",
     "text": [
      "Trial 0 Epoch 1/3\n",
      "Train Loss: 1.6096 | Val Loss: 1.6098\n",
      "Train Acc: 0.3449 | Val Acc: 0.3830\n",
      "Trial 0 Epoch 2/3\n",
      "Train Loss: 1.6089 | Val Loss: 1.6098\n",
      "Train Acc: 0.3263 | Val Acc: 0.4530\n",
      "Trial 0 Epoch 3/3\n",
      "Train Loss: 1.6083 | Val Loss: 1.6099\n",
      "Train Acc: 0.4028 | Val Acc: 0.3890\n"
     ]
    },
    {
     "data": {
      "text/html": [],
      "text/plain": [
       "<IPython.core.display.HTML object>"
      ]
     },
     "metadata": {},
     "output_type": "display_data"
    },
    {
     "data": {
      "text/html": [
       "<br>    <style><br>        .wandb-row {<br>            display: flex;<br>            flex-direction: row;<br>            flex-wrap: wrap;<br>            justify-content: flex-start;<br>            width: 100%;<br>        }<br>        .wandb-col {<br>            display: flex;<br>            flex-direction: column;<br>            flex-basis: 100%;<br>            flex: 1;<br>            padding: 10px;<br>        }<br>    </style><br><div class=\"wandb-row\"><div class=\"wandb-col\"><h3>Run history:</h3><br/><table class=\"wandb\"><tr><td>epoch</td><td>▁▅█</td></tr><tr><td>train_accuracy</td><td>▃▁█</td></tr><tr><td>train_loss</td><td>█▄▁</td></tr><tr><td>val_accuracy</td><td>▁█▂</td></tr><tr><td>val_loss</td><td>▁▂█</td></tr></table><br/></div><div class=\"wandb-col\"><h3>Run summary:</h3><br/><table class=\"wandb\"><tr><td>epoch</td><td>3</td></tr><tr><td>train_accuracy</td><td>0.40281</td></tr><tr><td>train_loss</td><td>1.60832</td></tr><tr><td>val_accuracy</td><td>0.389</td></tr><tr><td>val_loss</td><td>1.60993</td></tr></table><br/></div></div>"
      ],
      "text/plain": [
       "<IPython.core.display.HTML object>"
      ]
     },
     "metadata": {},
     "output_type": "display_data"
    },
    {
     "data": {
      "text/html": [
       " View run <strong style=\"color:#cdcd00\">trial_0</strong> at: <a href='https://wandb.ai/aditi-sharma-00073-hochschule-luzern/CQA_Model-1_Optuna/runs/t0raj3qu' target=\"_blank\">https://wandb.ai/aditi-sharma-00073-hochschule-luzern/CQA_Model-1_Optuna/runs/t0raj3qu</a><br> View project at: <a href='https://wandb.ai/aditi-sharma-00073-hochschule-luzern/CQA_Model-1_Optuna' target=\"_blank\">https://wandb.ai/aditi-sharma-00073-hochschule-luzern/CQA_Model-1_Optuna</a><br>Synced 5 W&B file(s), 0 media file(s), 0 artifact file(s) and 0 other file(s)"
      ],
      "text/plain": [
       "<IPython.core.display.HTML object>"
      ]
     },
     "metadata": {},
     "output_type": "display_data"
    },
    {
     "data": {
      "text/html": [
       "Find logs at: <code>./wandb/run-20250408_014814-t0raj3qu/logs</code>"
      ],
      "text/plain": [
       "<IPython.core.display.HTML object>"
      ]
     },
     "metadata": {},
     "output_type": "display_data"
    },
    {
     "name": "stderr",
     "output_type": "stream",
     "text": [
      "[I 2025-04-08 01:50:41,421] Trial 0 finished with value: 0.453 and parameters: {'lr': 0.00011023995848259353, 'batch_size': 64, 'hidden_dim': 227, 'weight_decay': 7.0184882405630934e-06}. Best is trial 0 with value: 0.453.\n"
     ]
    },
    {
     "data": {
      "text/html": [
       "Tracking run with wandb version 0.19.9"
      ],
      "text/plain": [
       "<IPython.core.display.HTML object>"
      ]
     },
     "metadata": {},
     "output_type": "display_data"
    },
    {
     "data": {
      "text/html": [
       "Run data is saved locally in <code>/home/jovyan/wandb/run-20250408_015041-t7ya0kbq</code>"
      ],
      "text/plain": [
       "<IPython.core.display.HTML object>"
      ]
     },
     "metadata": {},
     "output_type": "display_data"
    },
    {
     "data": {
      "text/html": [
       "Syncing run <strong><a href='https://wandb.ai/aditi-sharma-00073-hochschule-luzern/CQA_Model-1_Optuna/runs/t7ya0kbq' target=\"_blank\">trial_1</a></strong> to <a href='https://wandb.ai/aditi-sharma-00073-hochschule-luzern/CQA_Model-1_Optuna' target=\"_blank\">Weights & Biases</a> (<a href='https://wandb.me/developer-guide' target=\"_blank\">docs</a>)<br>"
      ],
      "text/plain": [
       "<IPython.core.display.HTML object>"
      ]
     },
     "metadata": {},
     "output_type": "display_data"
    },
    {
     "data": {
      "text/html": [
       " View project at <a href='https://wandb.ai/aditi-sharma-00073-hochschule-luzern/CQA_Model-1_Optuna' target=\"_blank\">https://wandb.ai/aditi-sharma-00073-hochschule-luzern/CQA_Model-1_Optuna</a>"
      ],
      "text/plain": [
       "<IPython.core.display.HTML object>"
      ]
     },
     "metadata": {},
     "output_type": "display_data"
    },
    {
     "data": {
      "text/html": [
       " View run at <a href='https://wandb.ai/aditi-sharma-00073-hochschule-luzern/CQA_Model-1_Optuna/runs/t7ya0kbq' target=\"_blank\">https://wandb.ai/aditi-sharma-00073-hochschule-luzern/CQA_Model-1_Optuna/runs/t7ya0kbq</a>"
      ],
      "text/plain": [
       "<IPython.core.display.HTML object>"
      ]
     },
     "metadata": {},
     "output_type": "display_data"
    },
    {
     "name": "stdout",
     "output_type": "stream",
     "text": [
      "Trial 1 Epoch 1/3\n",
      "Train Loss: 1.6099 | Val Loss: 1.6096\n",
      "Train Acc: 0.2931 | Val Acc: 0.4240\n",
      "Trial 1 Epoch 2/3\n",
      "Train Loss: 1.6093 | Val Loss: 1.6097\n",
      "Train Acc: 0.3852 | Val Acc: 0.4430\n",
      "Trial 1 Epoch 3/3\n",
      "Train Loss: 1.6088 | Val Loss: 1.6098\n",
      "Train Acc: 0.4246 | Val Acc: 0.4010\n"
     ]
    },
    {
     "data": {
      "text/html": [],
      "text/plain": [
       "<IPython.core.display.HTML object>"
      ]
     },
     "metadata": {},
     "output_type": "display_data"
    },
    {
     "data": {
      "text/html": [
       "<br>    <style><br>        .wandb-row {<br>            display: flex;<br>            flex-direction: row;<br>            flex-wrap: wrap;<br>            justify-content: flex-start;<br>            width: 100%;<br>        }<br>        .wandb-col {<br>            display: flex;<br>            flex-direction: column;<br>            flex-basis: 100%;<br>            flex: 1;<br>            padding: 10px;<br>        }<br>    </style><br><div class=\"wandb-row\"><div class=\"wandb-col\"><h3>Run history:</h3><br/><table class=\"wandb\"><tr><td>epoch</td><td>▁▅█</td></tr><tr><td>train_accuracy</td><td>▁▆█</td></tr><tr><td>train_loss</td><td>█▄▁</td></tr><tr><td>val_accuracy</td><td>▅█▁</td></tr><tr><td>val_loss</td><td>▁▄█</td></tr></table><br/></div><div class=\"wandb-col\"><h3>Run summary:</h3><br/><table class=\"wandb\"><tr><td>epoch</td><td>3</td></tr><tr><td>train_accuracy</td><td>0.42455</td></tr><tr><td>train_loss</td><td>1.60879</td></tr><tr><td>val_accuracy</td><td>0.401</td></tr><tr><td>val_loss</td><td>1.60978</td></tr></table><br/></div></div>"
      ],
      "text/plain": [
       "<IPython.core.display.HTML object>"
      ]
     },
     "metadata": {},
     "output_type": "display_data"
    },
    {
     "data": {
      "text/html": [
       " View run <strong style=\"color:#cdcd00\">trial_1</strong> at: <a href='https://wandb.ai/aditi-sharma-00073-hochschule-luzern/CQA_Model-1_Optuna/runs/t7ya0kbq' target=\"_blank\">https://wandb.ai/aditi-sharma-00073-hochschule-luzern/CQA_Model-1_Optuna/runs/t7ya0kbq</a><br> View project at: <a href='https://wandb.ai/aditi-sharma-00073-hochschule-luzern/CQA_Model-1_Optuna' target=\"_blank\">https://wandb.ai/aditi-sharma-00073-hochschule-luzern/CQA_Model-1_Optuna</a><br>Synced 5 W&B file(s), 0 media file(s), 0 artifact file(s) and 0 other file(s)"
      ],
      "text/plain": [
       "<IPython.core.display.HTML object>"
      ]
     },
     "metadata": {},
     "output_type": "display_data"
    },
    {
     "data": {
      "text/html": [
       "Find logs at: <code>./wandb/run-20250408_015041-t7ya0kbq/logs</code>"
      ],
      "text/plain": [
       "<IPython.core.display.HTML object>"
      ]
     },
     "metadata": {},
     "output_type": "display_data"
    },
    {
     "name": "stderr",
     "output_type": "stream",
     "text": [
      "[I 2025-04-08 01:53:06,523] Trial 1 finished with value: 0.443 and parameters: {'lr': 5.362187773798994e-05, 'batch_size': 64, 'hidden_dim': 246, 'weight_decay': 0.00017668069504100028}. Best is trial 0 with value: 0.453.\n"
     ]
    },
    {
     "data": {
      "text/html": [
       "Tracking run with wandb version 0.19.9"
      ],
      "text/plain": [
       "<IPython.core.display.HTML object>"
      ]
     },
     "metadata": {},
     "output_type": "display_data"
    },
    {
     "data": {
      "text/html": [
       "Run data is saved locally in <code>/home/jovyan/wandb/run-20250408_015306-65nvtbix</code>"
      ],
      "text/plain": [
       "<IPython.core.display.HTML object>"
      ]
     },
     "metadata": {},
     "output_type": "display_data"
    },
    {
     "data": {
      "text/html": [
       "Syncing run <strong><a href='https://wandb.ai/aditi-sharma-00073-hochschule-luzern/CQA_Model-1_Optuna/runs/65nvtbix' target=\"_blank\">trial_2</a></strong> to <a href='https://wandb.ai/aditi-sharma-00073-hochschule-luzern/CQA_Model-1_Optuna' target=\"_blank\">Weights & Biases</a> (<a href='https://wandb.me/developer-guide' target=\"_blank\">docs</a>)<br>"
      ],
      "text/plain": [
       "<IPython.core.display.HTML object>"
      ]
     },
     "metadata": {},
     "output_type": "display_data"
    },
    {
     "data": {
      "text/html": [
       " View project at <a href='https://wandb.ai/aditi-sharma-00073-hochschule-luzern/CQA_Model-1_Optuna' target=\"_blank\">https://wandb.ai/aditi-sharma-00073-hochschule-luzern/CQA_Model-1_Optuna</a>"
      ],
      "text/plain": [
       "<IPython.core.display.HTML object>"
      ]
     },
     "metadata": {},
     "output_type": "display_data"
    },
    {
     "data": {
      "text/html": [
       " View run at <a href='https://wandb.ai/aditi-sharma-00073-hochschule-luzern/CQA_Model-1_Optuna/runs/65nvtbix' target=\"_blank\">https://wandb.ai/aditi-sharma-00073-hochschule-luzern/CQA_Model-1_Optuna/runs/65nvtbix</a>"
      ],
      "text/plain": [
       "<IPython.core.display.HTML object>"
      ]
     },
     "metadata": {},
     "output_type": "display_data"
    },
    {
     "name": "stdout",
     "output_type": "stream",
     "text": [
      "Trial 2 Epoch 1/3\n",
      "Train Loss: 1.6109 | Val Loss: 1.6092\n",
      "Train Acc: 0.2245 | Val Acc: 0.3220\n",
      "Trial 2 Epoch 2/3\n",
      "Train Loss: 1.6099 | Val Loss: 1.6098\n",
      "Train Acc: 0.2267 | Val Acc: 0.2230\n",
      "Trial 2 Epoch 3/3\n",
      "Train Loss: 1.6104 | Val Loss: 1.6102\n",
      "Train Acc: 0.2852 | Val Acc: 0.2190\n"
     ]
    },
    {
     "data": {
      "text/html": [],
      "text/plain": [
       "<IPython.core.display.HTML object>"
      ]
     },
     "metadata": {},
     "output_type": "display_data"
    },
    {
     "data": {
      "text/html": [
       "<br>    <style><br>        .wandb-row {<br>            display: flex;<br>            flex-direction: row;<br>            flex-wrap: wrap;<br>            justify-content: flex-start;<br>            width: 100%;<br>        }<br>        .wandb-col {<br>            display: flex;<br>            flex-direction: column;<br>            flex-basis: 100%;<br>            flex: 1;<br>            padding: 10px;<br>        }<br>    </style><br><div class=\"wandb-row\"><div class=\"wandb-col\"><h3>Run history:</h3><br/><table class=\"wandb\"><tr><td>epoch</td><td>▁▅█</td></tr><tr><td>train_accuracy</td><td>▁▁█</td></tr><tr><td>train_loss</td><td>█▁▄</td></tr><tr><td>val_accuracy</td><td>█▁▁</td></tr><tr><td>val_loss</td><td>▁▅█</td></tr></table><br/></div><div class=\"wandb-col\"><h3>Run summary:</h3><br/><table class=\"wandb\"><tr><td>epoch</td><td>3</td></tr><tr><td>train_accuracy</td><td>0.28521</td></tr><tr><td>train_loss</td><td>1.61036</td></tr><tr><td>val_accuracy</td><td>0.219</td></tr><tr><td>val_loss</td><td>1.61021</td></tr></table><br/></div></div>"
      ],
      "text/plain": [
       "<IPython.core.display.HTML object>"
      ]
     },
     "metadata": {},
     "output_type": "display_data"
    },
    {
     "data": {
      "text/html": [
       " View run <strong style=\"color:#cdcd00\">trial_2</strong> at: <a href='https://wandb.ai/aditi-sharma-00073-hochschule-luzern/CQA_Model-1_Optuna/runs/65nvtbix' target=\"_blank\">https://wandb.ai/aditi-sharma-00073-hochschule-luzern/CQA_Model-1_Optuna/runs/65nvtbix</a><br> View project at: <a href='https://wandb.ai/aditi-sharma-00073-hochschule-luzern/CQA_Model-1_Optuna' target=\"_blank\">https://wandb.ai/aditi-sharma-00073-hochschule-luzern/CQA_Model-1_Optuna</a><br>Synced 5 W&B file(s), 0 media file(s), 0 artifact file(s) and 0 other file(s)"
      ],
      "text/plain": [
       "<IPython.core.display.HTML object>"
      ]
     },
     "metadata": {},
     "output_type": "display_data"
    },
    {
     "data": {
      "text/html": [
       "Find logs at: <code>./wandb/run-20250408_015306-65nvtbix/logs</code>"
      ],
      "text/plain": [
       "<IPython.core.display.HTML object>"
      ]
     },
     "metadata": {},
     "output_type": "display_data"
    },
    {
     "name": "stderr",
     "output_type": "stream",
     "text": [
      "[I 2025-04-08 02:00:18,870] Trial 2 finished with value: 0.322 and parameters: {'lr': 0.00410839035959901, 'batch_size': 16, 'hidden_dim': 373, 'weight_decay': 2.883720402936802e-06}. Best is trial 0 with value: 0.453.\n"
     ]
    },
    {
     "data": {
      "text/html": [
       "Tracking run with wandb version 0.19.9"
      ],
      "text/plain": [
       "<IPython.core.display.HTML object>"
      ]
     },
     "metadata": {},
     "output_type": "display_data"
    },
    {
     "data": {
      "text/html": [
       "Run data is saved locally in <code>/home/jovyan/wandb/run-20250408_020018-k54jobk2</code>"
      ],
      "text/plain": [
       "<IPython.core.display.HTML object>"
      ]
     },
     "metadata": {},
     "output_type": "display_data"
    },
    {
     "data": {
      "text/html": [
       "Syncing run <strong><a href='https://wandb.ai/aditi-sharma-00073-hochschule-luzern/CQA_Model-1_Optuna/runs/k54jobk2' target=\"_blank\">trial_3</a></strong> to <a href='https://wandb.ai/aditi-sharma-00073-hochschule-luzern/CQA_Model-1_Optuna' target=\"_blank\">Weights & Biases</a> (<a href='https://wandb.me/developer-guide' target=\"_blank\">docs</a>)<br>"
      ],
      "text/plain": [
       "<IPython.core.display.HTML object>"
      ]
     },
     "metadata": {},
     "output_type": "display_data"
    },
    {
     "data": {
      "text/html": [
       " View project at <a href='https://wandb.ai/aditi-sharma-00073-hochschule-luzern/CQA_Model-1_Optuna' target=\"_blank\">https://wandb.ai/aditi-sharma-00073-hochschule-luzern/CQA_Model-1_Optuna</a>"
      ],
      "text/plain": [
       "<IPython.core.display.HTML object>"
      ]
     },
     "metadata": {},
     "output_type": "display_data"
    },
    {
     "data": {
      "text/html": [
       " View run at <a href='https://wandb.ai/aditi-sharma-00073-hochschule-luzern/CQA_Model-1_Optuna/runs/k54jobk2' target=\"_blank\">https://wandb.ai/aditi-sharma-00073-hochschule-luzern/CQA_Model-1_Optuna/runs/k54jobk2</a>"
      ],
      "text/plain": [
       "<IPython.core.display.HTML object>"
      ]
     },
     "metadata": {},
     "output_type": "display_data"
    },
    {
     "name": "stdout",
     "output_type": "stream",
     "text": [
      "Trial 3 Epoch 1/3\n",
      "Train Loss: 1.6100 | Val Loss: 1.6108\n",
      "Train Acc: 0.2333 | Val Acc: 0.3180\n",
      "Trial 3 Epoch 2/3\n",
      "Train Loss: 1.6093 | Val Loss: 1.6102\n",
      "Train Acc: 0.3892 | Val Acc: 0.4010\n",
      "Trial 3 Epoch 3/3\n",
      "Train Loss: 1.6089 | Val Loss: 1.6100\n",
      "Train Acc: 0.3760 | Val Acc: 0.3420\n"
     ]
    },
    {
     "data": {
      "text/html": [],
      "text/plain": [
       "<IPython.core.display.HTML object>"
      ]
     },
     "metadata": {},
     "output_type": "display_data"
    },
    {
     "data": {
      "text/html": [
       "<br>    <style><br>        .wandb-row {<br>            display: flex;<br>            flex-direction: row;<br>            flex-wrap: wrap;<br>            justify-content: flex-start;<br>            width: 100%;<br>        }<br>        .wandb-col {<br>            display: flex;<br>            flex-direction: column;<br>            flex-basis: 100%;<br>            flex: 1;<br>            padding: 10px;<br>        }<br>    </style><br><div class=\"wandb-row\"><div class=\"wandb-col\"><h3>Run history:</h3><br/><table class=\"wandb\"><tr><td>epoch</td><td>▁▅█</td></tr><tr><td>train_accuracy</td><td>▁█▇</td></tr><tr><td>train_loss</td><td>█▄▁</td></tr><tr><td>val_accuracy</td><td>▁█▃</td></tr><tr><td>val_loss</td><td>█▃▁</td></tr></table><br/></div><div class=\"wandb-col\"><h3>Run summary:</h3><br/><table class=\"wandb\"><tr><td>epoch</td><td>3</td></tr><tr><td>train_accuracy</td><td>0.37604</td></tr><tr><td>train_loss</td><td>1.60891</td></tr><tr><td>val_accuracy</td><td>0.342</td></tr><tr><td>val_loss</td><td>1.60996</td></tr></table><br/></div></div>"
      ],
      "text/plain": [
       "<IPython.core.display.HTML object>"
      ]
     },
     "metadata": {},
     "output_type": "display_data"
    },
    {
     "data": {
      "text/html": [
       " View run <strong style=\"color:#cdcd00\">trial_3</strong> at: <a href='https://wandb.ai/aditi-sharma-00073-hochschule-luzern/CQA_Model-1_Optuna/runs/k54jobk2' target=\"_blank\">https://wandb.ai/aditi-sharma-00073-hochschule-luzern/CQA_Model-1_Optuna/runs/k54jobk2</a><br> View project at: <a href='https://wandb.ai/aditi-sharma-00073-hochschule-luzern/CQA_Model-1_Optuna' target=\"_blank\">https://wandb.ai/aditi-sharma-00073-hochschule-luzern/CQA_Model-1_Optuna</a><br>Synced 5 W&B file(s), 0 media file(s), 0 artifact file(s) and 0 other file(s)"
      ],
      "text/plain": [
       "<IPython.core.display.HTML object>"
      ]
     },
     "metadata": {},
     "output_type": "display_data"
    },
    {
     "data": {
      "text/html": [
       "Find logs at: <code>./wandb/run-20250408_020018-k54jobk2/logs</code>"
      ],
      "text/plain": [
       "<IPython.core.display.HTML object>"
      ]
     },
     "metadata": {},
     "output_type": "display_data"
    },
    {
     "name": "stderr",
     "output_type": "stream",
     "text": [
      "[I 2025-04-08 02:02:43,720] Trial 3 finished with value: 0.401 and parameters: {'lr': 4.038254620795372e-05, 'batch_size': 64, 'hidden_dim': 362, 'weight_decay': 7.131331828731729e-05}. Best is trial 0 with value: 0.453.\n"
     ]
    }
   ],
   "source": [
    "def objective(trial):\n",
    "    # Hyperparameters to tune\n",
    "    params = {\n",
    "        'learning_rate': trial.suggest_float('lr', 1e-5, 1e-2, log=True),\n",
    "        'batch_size': trial.suggest_categorical('batch_size', [16, 32, 64]),\n",
    "        'hidden_dim': trial.suggest_int('hidden_dim', 128, 512),\n",
    "        'weight_decay': trial.suggest_float('weight_decay', 1e-6, 1e-3, log=True)\n",
    "    }\n",
    "    \n",
    "    # Initialize W&B\n",
    "    wandb.init(\n",
    "        project='CQA_Model-1_Optuna',\n",
    "        name=f'trial_{trial.number}',\n",
    "        config={\n",
    "            **params,\n",
    "            'epochs': 3,\n",
    "            'input_dim': 600,\n",
    "            'num_classes': 5\n",
    "        },\n",
    "        reinit=True\n",
    "    )\n",
    "    \n",
    "    # Create loaders\n",
    "    train_loader = DataLoader(\n",
    "        train_dataset,\n",
    "        batch_size=params['batch_size'],\n",
    "        shuffle=True,\n",
    "        pin_memory=True\n",
    "    )\n",
    "    \n",
    "    valid_loader = DataLoader(\n",
    "        valid_dataset,\n",
    "        batch_size=params['batch_size'],\n",
    "        shuffle=False,\n",
    "        pin_memory=True\n",
    "    )\n",
    "    \n",
    "    # Initialize model\n",
    "    model = ClassifierModel(\n",
    "        input_dim=600,\n",
    "        hidden_dim=params['hidden_dim'],\n",
    "        num_classes=5\n",
    "    ).to('cuda')\n",
    "    \n",
    "    # Optimizer and loss\n",
    "    optimizer = optim.Adam(\n",
    "        model.parameters(),\n",
    "        lr=params['learning_rate'],\n",
    "        weight_decay=params['weight_decay']\n",
    "    )\n",
    "    loss_fn = nn.CrossEntropyLoss()\n",
    "    \n",
    "    best_val_acc = 0\n",
    "    \n",
    "    for epoch in range(3):\n",
    "        # Training phase\n",
    "        model.train()\n",
    "        train_loss, train_correct, train_total = 0, 0, 0\n",
    "        \n",
    "        for inputs, labels in train_loader:\n",
    "            inputs = inputs.to('cuda', non_blocking=True)\n",
    "            labels = labels.to('cuda', non_blocking=True)\n",
    "            \n",
    "            optimizer.zero_grad()\n",
    "            \n",
    "            outputs = model(inputs.view(-1, 600))\n",
    "            expanded_labels = labels.repeat_interleave(5)\n",
    "            loss = loss_fn(outputs, expanded_labels)\n",
    "            \n",
    "            loss.backward()\n",
    "            optimizer.step()\n",
    "            \n",
    "            # Calculate accuracy\n",
    "            with torch.no_grad():\n",
    "                outputs = outputs.view(-1, 5, 5)\n",
    "                _, predicted = outputs.max(dim=-1)\n",
    "                correct = (predicted == labels.unsqueeze(1)).any(dim=1).sum().item()\n",
    "            \n",
    "            train_loss += loss.item()\n",
    "            train_correct += correct\n",
    "            train_total += labels.size(0)\n",
    "        \n",
    "        # Validation phase\n",
    "        model.eval()\n",
    "        val_loss, val_correct, val_total = 0, 0, 0\n",
    "        \n",
    "        with torch.no_grad():\n",
    "            for inputs, labels in valid_loader:\n",
    "                inputs = inputs.to('cuda')\n",
    "                labels = labels.to('cuda')\n",
    "                \n",
    "                outputs = model(inputs.view(-1, 600))\n",
    "                expanded_labels = labels.repeat_interleave(5)\n",
    "                \n",
    "                # Calculate validation loss\n",
    "                loss = loss_fn(outputs, expanded_labels)\n",
    "                val_loss += loss.item()\n",
    "                \n",
    "                # Calculate accuracy\n",
    "                outputs = outputs.view(-1, 5, 5)\n",
    "                _, predicted = outputs.max(dim=-1)\n",
    "                correct = (predicted == labels.unsqueeze(1)).any(dim=1).sum().item()\n",
    "                \n",
    "                val_correct += correct\n",
    "                val_total += labels.size(0)\n",
    "        \n",
    "        # Calculate metrics\n",
    "        train_loss = train_loss / len(train_loader)\n",
    "        train_acc = train_correct / train_total\n",
    "        val_loss = val_loss / len(valid_loader)\n",
    "        val_acc = val_correct / val_total\n",
    "        \n",
    "        # Log metrics\n",
    "        wandb.log({\n",
    "            'epoch': epoch+1,\n",
    "            'train_loss': train_loss,\n",
    "            'train_accuracy': train_acc,\n",
    "            'val_loss': val_loss,\n",
    "            'val_accuracy': val_acc\n",
    "        })\n",
    "        \n",
    "        print(f\"Trial {trial.number} Epoch {epoch+1}/3\")\n",
    "        print(f\"Train Loss: {train_loss:.4f} | Val Loss: {val_loss:.4f}\")\n",
    "        print(f\"Train Acc: {train_acc:.4f} | Val Acc: {val_acc:.4f}\")\n",
    "        \n",
    "        # Track best validation accuracy\n",
    "        if val_acc > best_val_acc:\n",
    "            best_val_acc = val_acc\n",
    "        \n",
    "    wandb.finish()\n",
    "    return best_val_acc\n",
    "\n",
    "# Run study\n",
    "study = optuna.create_study(direction='maximize')\n",
    "study.optimize(objective, n_trials=4)  \n"
   ]
  },
  {
   "cell_type": "code",
   "execution_count": 36,
   "id": "a3cc3a1a-971d-404d-b31f-fdeff221783a",
   "metadata": {},
   "outputs": [
    {
     "name": "stdout",
     "output_type": "stream",
     "text": [
      "Best trial:\n",
      "  Val Accuracy: 0.4530\n",
      "  Params: \n",
      "    lr: 0.00011023995848259353\n",
      "    batch_size: 64\n",
      "    hidden_dim: 227\n",
      "    weight_decay: 7.0184882405630934e-06\n"
     ]
    }
   ],
   "source": [
    "#  Best results\n",
    "print(\"Best trial:\")\n",
    "trial = study.best_trial\n",
    "print(f\"  Val Accuracy: {trial.value:.4f}\")\n",
    "print(\"  Params: \")\n",
    "for key, value in trial.params.items():\n",
    "    print(f\"    {key}: {value}\")"
   ]
  },
  {
   "cell_type": "code",
   "execution_count": 37,
   "id": "4aefdc77-e7dd-4e8c-a75e-1487f81575d5",
   "metadata": {},
   "outputs": [
    {
     "data": {
      "text/html": [
       "Tracking run with wandb version 0.19.9"
      ],
      "text/plain": [
       "<IPython.core.display.HTML object>"
      ]
     },
     "metadata": {},
     "output_type": "display_data"
    },
    {
     "data": {
      "text/html": [
       "Run data is saved locally in <code>/home/jovyan/wandb/run-20250408_020243-rbc0vdo2</code>"
      ],
      "text/plain": [
       "<IPython.core.display.HTML object>"
      ]
     },
     "metadata": {},
     "output_type": "display_data"
    },
    {
     "data": {
      "text/html": [
       "Syncing run <strong><a href='https://wandb.ai/aditi-sharma-00073-hochschule-luzern/CQA_Model-1_Final/runs/rbc0vdo2' target=\"_blank\">bumbling-dawn-1</a></strong> to <a href='https://wandb.ai/aditi-sharma-00073-hochschule-luzern/CQA_Model-1_Final' target=\"_blank\">Weights & Biases</a> (<a href='https://wandb.me/developer-guide' target=\"_blank\">docs</a>)<br>"
      ],
      "text/plain": [
       "<IPython.core.display.HTML object>"
      ]
     },
     "metadata": {},
     "output_type": "display_data"
    },
    {
     "data": {
      "text/html": [
       " View project at <a href='https://wandb.ai/aditi-sharma-00073-hochschule-luzern/CQA_Model-1_Final' target=\"_blank\">https://wandb.ai/aditi-sharma-00073-hochschule-luzern/CQA_Model-1_Final</a>"
      ],
      "text/plain": [
       "<IPython.core.display.HTML object>"
      ]
     },
     "metadata": {},
     "output_type": "display_data"
    },
    {
     "data": {
      "text/html": [
       " View run at <a href='https://wandb.ai/aditi-sharma-00073-hochschule-luzern/CQA_Model-1_Final/runs/rbc0vdo2' target=\"_blank\">https://wandb.ai/aditi-sharma-00073-hochschule-luzern/CQA_Model-1_Final/runs/rbc0vdo2</a>"
      ],
      "text/plain": [
       "<IPython.core.display.HTML object>"
      ]
     },
     "metadata": {},
     "output_type": "display_data"
    },
    {
     "name": "stdout",
     "output_type": "stream",
     "text": [
      "Epoch 1/3 | Loss: 1.6098 | Acc: 0.3146\n",
      "Epoch 2/3 | Loss: 1.6089 | Acc: 0.3811\n",
      "Epoch 3/3 | Loss: 1.6083 | Acc: 0.3330\n",
      "\u001b[1;34mwandb\u001b[0m: \n",
      "\u001b[1;34mwandb\u001b[0m: 🚀 View run \u001b[33mbumbling-dawn-1\u001b[0m at: \u001b[34mhttps://wandb.ai/aditi-sharma-00073-hochschule-luzern/CQA_Model-1_Final/runs/rbc0vdo2\u001b[0m\n",
      "\u001b[1;34mwandb\u001b[0m: Find logs at: \u001b[1;35mwandb/run-20250408_020243-rbc0vdo2/logs\u001b[0m\n"
     ]
    }
   ],
   "source": [
    "# Train final model with best params\n",
    "best_params = study.best_params\n",
    "wandb.init(project='CQA_Model-1_Final', config={\n",
    "    **best_params,\n",
    "    'epochs': 3,\n",
    "    'input_dim': 600,\n",
    "    'num_classes': 5\n",
    "})\n",
    "\n",
    "final_model = ClassifierModel(\n",
    "    input_dim=600,\n",
    "    hidden_dim=best_params['hidden_dim'],\n",
    "    num_classes=5\n",
    ").to('cuda')\n",
    "\n",
    "optimizer = optim.Adam(\n",
    "    final_model.parameters(),\n",
    "    lr=best_params['lr'],\n",
    "    weight_decay=best_params['weight_decay']\n",
    ")\n",
    "\n",
    "# Use entire training data (train + valid) for final training\n",
    "full_train_dataset = torch.utils.data.ConcatDataset([train_dataset, valid_dataset])\n",
    "full_train_loader = DataLoader(\n",
    "    full_train_dataset,\n",
    "    batch_size=best_params['batch_size'],\n",
    "    shuffle=True,\n",
    "    pin_memory=True\n",
    ")\n",
    "\n",
    "train_with_wandb(final_model, full_train_loader, epochs=3)"
   ]
  },
  {
   "cell_type": "raw",
   "id": "8f726115-6a51-4b86-b7c4-dcb4ddbe52fe",
   "metadata": {},
   "source": [
    "EVALUATION"
   ]
  },
  {
   "cell_type": "code",
   "execution_count": null,
   "id": "8f15ff31-8433-49a3-b9c1-b9e7df6466ea",
   "metadata": {},
   "outputs": [],
   "source": [
    "processed_test_data_1 = preprocess_data(test_dataset)\n",
    "test_dataset = CommonsenseQADataset_model1(processed_test_data_1)  \n",
    "test_dataloader = DataLoader(test_dataset, batch_size=32, shuffle=True)"
   ]
  },
  {
   "cell_type": "code",
   "execution_count": 36,
   "id": "971b3720-1d13-4c4a-8ef9-8b6c25658929",
   "metadata": {
    "colab": {
     "base_uri": "https://localhost:8080/"
    },
    "id": "2ocEROduodio",
    "outputId": "b4b8b5c7-2bf5-4170-a6a0-a336859037fe"
   },
   "outputs": [
    {
     "name": "stdout",
     "output_type": "stream",
     "text": [
      "Accuracy: 0.2056\n",
      "Precision: 0.0720\n",
      "Recall: 0.1970\n",
      "F1 Score: 0.0713\n"
     ]
    },
    {
     "name": "stderr",
     "output_type": "stream",
     "text": [
      "/usr/local/lib/python3.11/dist-packages/sklearn/metrics/_classification.py:1565: UndefinedMetricWarning: Precision is ill-defined and being set to 0.0 in labels with no predicted samples. Use `zero_division` parameter to control this behavior.\n",
      "  _warn_prf(average, modifier, f\"{metric.capitalize()} is\", len(result))\n"
     ]
    }
   ],
   "source": [
    "from sklearn.metrics import precision_recall_fscore_support, accuracy_score\n",
    "\n",
    "# Prediction on validation/test set\n",
    "model.eval()  # Set the model to evaluation mode\n",
    "y_true = []\n",
    "y_pred = []\n",
    "model.to('cuda')  # Move the model to the GPU\n",
    "\n",
    "with torch.no_grad():\n",
    "    for inputs, targets in test_dataloader:\n",
    "        inputs, targets = inputs.to('cuda'), targets.to('cuda')  # Move inputs and targets to GPU\n",
    "        outputs = model(inputs)\n",
    "        outputs = outputs.view(-1, 5, 5) # Reshape outputs to (batch_size, 5, 5)\n",
    "        _, predicted = outputs.max(dim=-1) # Get predictions per option\n",
    "\n",
    "        # Get the prediction for the correct choice for each example in the batch\n",
    "        predicted_labels = predicted[torch.arange(predicted.shape[0]), targets]\n",
    "\n",
    "        y_true.extend(targets.cpu().numpy())\n",
    "        y_pred.extend(predicted_labels.cpu().numpy())  # Extend with per-example predictions\n",
    "\n",
    "\n",
    "# Compute metrics\n",
    "accuracy = accuracy_score(y_true, y_pred)\n",
    "precision, recall, f1, _ = precision_recall_fscore_support(y_true, y_pred, average='macro')  # Use 'binary' or 'micro' based on task\n",
    "\n",
    "# Log to W&B\n",
    "wandb.log({\n",
    "    \"accuracy\": accuracy,\n",
    "    \"precision\": precision,\n",
    "    \"recall\": recall,\n",
    "    \"f1\": f1\n",
    "})\n",
    "\n",
    "print(f\"Accuracy: {accuracy:.4f}\")\n",
    "print(f\"Precision: {precision:.4f}\")\n",
    "print(f\"Recall: {recall:.4f}\")\n",
    "print(f\"F1 Score: {f1:.4f}\")"
   ]
  },
  {
   "cell_type": "code",
   "execution_count": 39,
   "id": "24491900-1b5a-4285-b8ee-fbec29b0e380",
   "metadata": {
    "colab": {
     "base_uri": "https://localhost:8080/"
    },
    "id": "H1aHULZzriPk",
    "outputId": "b3022c76-71b9-4628-ac9f-4b6646369fce"
   },
   "outputs": [
    {
     "name": "stdout",
     "output_type": "stream",
     "text": [
      "Sample 1: True Label = 3, Predicted Label = 1\n",
      "Sample 2: True Label = 3, Predicted Label = 1\n",
      "Sample 3: True Label = 0, Predicted Label = 1\n",
      "Sample 4: True Label = 3, Predicted Label = 1\n",
      "Sample 5: True Label = 0, Predicted Label = 1\n",
      "Sample 6: True Label = 0, Predicted Label = 1\n",
      "Sample 7: True Label = 2, Predicted Label = 1\n",
      "Sample 8: True Label = 2, Predicted Label = 1\n",
      "Sample 9: True Label = 0, Predicted Label = 1\n",
      "Sample 10: True Label = 3, Predicted Label = 1\n"
     ]
    }
   ],
   "source": [
    "misclassified = []\n",
    "with torch.no_grad():\n",
    "    for inputs, targets in test_dataloader:\n",
    "        inputs, targets = inputs.to('cuda'), targets.to('cuda')\n",
    "        outputs = model(inputs)\n",
    "        outputs = outputs.view(-1, 5, 5) # Reshape outputs to (batch_size, 5, 5)\n",
    "        _, predicted = outputs.max(dim=-1) # Get predictions per option (shape: [batch_size, 5])\n",
    "\n",
    "        # Get the prediction corresponding to the true label for each example\n",
    "        predicted_labels = predicted[torch.arange(predicted.shape[0]), targets]\n",
    "\n",
    "        # Compare the selected prediction with the true label\n",
    "        incorrect_indices = (predicted_labels != targets).nonzero(as_tuple=True)[0]\n",
    "\n",
    "        for idx in incorrect_indices:\n",
    "            # Store the single predicted label (corresponding to the true label)\n",
    "            misclassified.append((inputs[idx].cpu().numpy(), targets[idx].cpu().numpy(), predicted_labels[idx].cpu().numpy()))\n",
    "\n",
    "for i, (input_sample, true_label, pred_label) in enumerate(misclassified[:10]):  # Display top 10 misclassified samples\n",
    "    print(f\"Sample {i + 1}: True Label = {true_label}, Predicted Label = {pred_label}\")"
   ]
  },
  {
   "cell_type": "code",
   "execution_count": 40,
   "id": "9f3125db-8f04-403e-b76b-40047af98bed",
   "metadata": {
    "colab": {
     "base_uri": "https://localhost:8080/",
     "height": 564
    },
    "id": "81NylwXYozbo",
    "outputId": "e00b6032-ba01-4865-86b6-c0822e8c6b34"
   },
   "outputs": [
    {
     "data": {
      "image/png": "[encoded data removed]",
      "text/plain": [
       "<Figure size 800x600 with 2 Axes>"
      ]
     },
     "metadata": {},
     "output_type": "display_data"
    }
   ],
   "source": [
    "from sklearn.metrics import confusion_matrix\n",
    "import seaborn as sns\n",
    "\n",
    "cm = confusion_matrix(y_true, y_pred)\n",
    "\n",
    "plt.figure(figsize=(8, 6))\n",
    "sns.heatmap(cm, annot=True, fmt='d', cmap='Blues', xticklabels=['Class 0', 'Class 1', 'Class 2', 'Class 3', 'Class 4'], yticklabels=['Class 0', 'Class 1', 'Class 2', 'Class 3', 'Class 4'])\n",
    "plt.title('Confusion Matrix')\n",
    "plt.xlabel('Predicted')\n",
    "plt.ylabel('True')\n",
    "plt.show()\n"
   ]
  },
  {
   "cell_type": "raw",
   "id": "55b602d9-043f-42b7-9adf-d7dbeb89d586",
   "metadata": {},
   "source": [
    "INTERPRETATION- The model frequently assigns high probabilities to class 1. \n",
    "Fundamental architectural limitations in handling sequential dependencies restrict its reasoning capacity, necessitating structural enhancements for improved semantic comprehension."
   ]
  },
  {
   "cell_type": "raw",
   "id": "9e1e2578-7379-4332-93b5-f5746def8b25",
   "metadata": {},
   "source": [
    "Improvement- will try Attention Mechanisms"
   ]
  },
  {
   "cell_type": "code",
   "execution_count": null,
   "id": "7d9c9eae-cf93-4470-9019-bf0b68990285",
   "metadata": {},
   "outputs": [],
   "source": [
    "PART-2 : A 2-layer RNN architecture (LSTM, using the PyTorch implementations), and a two-layer \n",
    "classifier with a ReLU. "
   ]
  },
  {
   "cell_type": "code",
   "execution_count": 56,
   "id": "4e65dceb-9e63-4e15-9aba-f0db7cc58b98",
   "metadata": {},
   "outputs": [
    {
     "name": "stdout",
     "output_type": "stream",
     "text": [
      "Max length: 68\n",
      "Average length: 16.433771879647637\n"
     ]
    }
   ],
   "source": [
    "lengths = []\n",
    "for example in train_dataset:\n",
    "    for choice in example['choices']['text']:\n",
    "        combined = example['question'] + choice\n",
    "        lengths.append(len(combined))\n",
    "\n",
    "print(\"Max length:\", max(lengths))\n",
    "print(\"Average length:\", sum(lengths) / len(lengths))\n"
   ]
  },
  {
   "cell_type": "raw",
   "id": "69639b35-5920-4023-a9bd-2a77e7ba39ea",
   "metadata": {},
   "source": [
    "Padding:\n",
    "Since different (question + choice) pairs have different lengths (number of tokens), we pad shorter sequences with a special <pad> token to match the longest one in the batch. This gives us uniform shape: (batch_size, max_seq_len, embedding_dim).\n",
    "Truncation:\n",
    "If a (Q + choice) token sequence is too long, we truncate it to a maximum length (e.g., max_seq_len = 30) to avoid memory issues and maintain efficiency."
   ]
  },
  {
   "cell_type": "code",
   "execution_count": null,
   "id": "507642d7-4ee8-4b5b-8801-ad452f8ca79e",
   "metadata": {},
   "outputs": [],
   "source": [
    "from torch.utils.data import Dataset\n",
    "import torch\n",
    "\n",
    "class CommonsenseQARNNDataset(Dataset):\n",
    "    def __init__(self, dataset, fasttext_model, answer_map={'A': 0, 'B': 1, 'C': 2, 'D': 3, 'E': 4}, max_length=32):\n",
    "        self.dataset = dataset\n",
    "        self.ft_model = fasttext_model\n",
    "        self.answer_map = answer_map\n",
    "        self.max_length = max_length\n",
    "\n",
    "    def pad_or_truncate(self, tokens):\n",
    "        if len(tokens) > self.max_length:\n",
    "            return tokens[:self.max_length]\n",
    "        else:\n",
    "            return tokens + ['<PAD>'] * (self.max_length - len(tokens))\n",
    "\n",
    "    def get_embedding(self, tokens):\n",
    "        vectors = []\n",
    "        for token in tokens:\n",
    "            # Check if the token is in the FastText vocabulary\n",
    "            if token in self.ft_model.key_to_index:  # `key_to_index` is used for checking vocab\n",
    "                vectors.append(torch.tensor(self.ft_model[token]))  # Retrieve word vector\n",
    "            else:\n",
    "                # If the token is not in vocabulary, use a zero vector\n",
    "                vectors.append(torch.zeros(300))  # FastText embeddings are of size 300\n",
    "        return torch.stack(vectors)\n",
    "\n",
    "\n",
    "    def __len__(self):\n",
    "        return len(self.dataset)\n",
    "\n",
    "    def __getitem__(self, idx):\n",
    "        item = self.dataset[idx]\n",
    "        question = item['question']\n",
    "        choices = item['choices']['text']\n",
    "        answer = item['answerKey']\n",
    "\n",
    "        sequences = []\n",
    "        for choice in choices:\n",
    "            combined = question + choice\n",
    "            emb = self.get_embedding(combined)  # → (max_len, 300)\n",
    "            sequences.append(emb)\n",
    "\n",
    "        label = self.answer_map[answer]\n",
    "\n",
    "        return {'sequences': sequences, 'label': torch.tensor(label, dtype=torch.long)}\n"
   ]
  },
  {
   "cell_type": "code",
   "execution_count": 58,
   "id": "5b4034af-7ae7-47dc-a782-3774fc50b1cf",
   "metadata": {},
   "outputs": [],
   "source": [
    "def rnn_collate_fn(batch, max_len=22):\n",
    "    padded_sequences = []\n",
    "    labels = []\n",
    "\n",
    "    for sample in batch:\n",
    "        padded_choices = []\n",
    "        for seq in sample['sequences']:\n",
    "            # Truncate sequences that are too long\n",
    "            if seq.shape[0] > max_len:\n",
    "                seq = seq[:max_len]\n",
    "            # Pad sequences that are too short\n",
    "            elif seq.shape[0] < max_len:\n",
    "                pad = torch.zeros(max_len - seq.shape[0], 300)\n",
    "                seq = torch.cat([seq, pad], dim=0)\n",
    "            padded_choices.append(seq)\n",
    "        \n",
    "        # Stack the padded choices for this sample (5, max_len, 300)\n",
    "        padded_sequences.append(torch.stack(padded_choices))  # (5, max_len, 300)\n",
    "        labels.append(sample['label'])\n",
    "\n",
    "    return {\n",
    "        'sequences': torch.stack(padded_sequences),  # (batch_size, 5, max_len, 300)\n",
    "        'labels': torch.stack(labels)                # (batch_size,)\n",
    "    }\n"
   ]
  },
  {
   "cell_type": "code",
   "execution_count": 59,
   "id": "82b7aaa0-b4fb-4458-a886-fb67a56c994e",
   "metadata": {},
   "outputs": [],
   "source": [
    "train_ds = CommonsenseQARNNDataset(train_dataset, fasttext_model=fasttext_model)\n",
    "valid_ds = CommonsenseQARNNDataset(valid_dataset, fasttext_model=fasttext_model)\n",
    "test_ds = CommonsenseQARNNDataset(test_dataset, fasttext_model=fasttext_model)\n",
    "\n",
    "from torch.utils.data import DataLoader\n",
    "\n",
    "train_loader = DataLoader(train_ds, batch_size=32, shuffle=True, collate_fn=rnn_collate_fn)\n",
    "valid_loader = DataLoader(valid_ds, batch_size=32, collate_fn=rnn_collate_fn)\n",
    "test_loader = DataLoader(test_ds, batch_size=32, collate_fn=rnn_collate_fn)\n"
   ]
  },
  {
   "cell_type": "code",
   "execution_count": null,
   "id": "f6f56f8d-0bef-461b-bf16-f1bc556085b0",
   "metadata": {},
   "outputs": [],
   "source": [
    "Model Architecture-2"
   ]
  },
  {
   "cell_type": "code",
   "execution_count": null,
   "id": "bae10dbf-cf38-456b-8a74-3045ac3a0368",
   "metadata": {},
   "outputs": [],
   "source": [
    "Preprocessing: Join question + each choice → tokenize → get FastText embeddings → pad sequences.  \n",
    "Input to Model: Shape (5, seq_len, 300) → 5 tokenized Q+choice pairs per sample.  \n",
    "Model: Pass through 2-layer LSTM/GRU → extract final hidden state → 2-layer classifier.  \n",
    "Output: Softmax over logits → probability over 5 choices → predicted label (0–4)."
   ]
  },
  {
   "cell_type": "code",
   "execution_count": 60,
   "id": "57adf800-54be-4847-92a0-7e69df82833f",
   "metadata": {},
   "outputs": [],
   "source": [
    "import torch\n",
    "import torch.nn as nn\n",
    "\n",
    "class RNNClassifier(nn.Module):\n",
    "    def __init__(self, embedding_dim=300, hidden_dim=256, num_layers=2, num_choices=5):\n",
    "        super(RNNClassifier, self).__init__()\n",
    "        self.hidden_dim = hidden_dim\n",
    "        self.num_layers = num_layers\n",
    "        self.num_choices = num_choices\n",
    "\n",
    "        # 2-layer LSTM (as specified)\n",
    "        self.rnn = nn.LSTM(\n",
    "            input_size=embedding_dim,\n",
    "            hidden_size=hidden_dim,\n",
    "            num_layers=num_layers,\n",
    "            batch_first=True,\n",
    "            bidirectional=False\n",
    "        )\n",
    "\n",
    "        # 2-layer classifier with ReLU (as specified)\n",
    "        self.classifier = nn.Sequential(\n",
    "            nn.Linear(hidden_dim, 128),\n",
    "            nn.ReLU(),\n",
    "            nn.Linear(128, 1)  # 1 logit per choice\n",
    "        )\n",
    "\n",
    "    def forward(self, x):\n",
    "        \"\"\"Process all 5 choices in parallel maintaining batch structure\n",
    "        Args:\n",
    "            x: (batch_size, 5, seq_len, 300)\n",
    "        Returns:\n",
    "            logits: (batch_size, 5)\n",
    "        \"\"\"\n",
    "        batch_size = x.size(0)\n",
    "        \n",
    "        # Process each choice independently\n",
    "        choice_logits = []\n",
    "        for i in range(self.num_choices):\n",
    "            # Process one choice at a time\n",
    "            choice_seq = x[:, i, :, :]  # (batch_size, seq_len, 300)\n",
    "            \n",
    "            # 2-layer LSTM processing\n",
    "            _, (hidden, _) = self.rnn(choice_seq)  # hidden: (num_layers, batch_size, hidden_dim)\n",
    "            final_hidden = hidden[-1]  # (batch_size, hidden_dim)\n",
    "            \n",
    "            # 2-layer classifier\n",
    "            logit = self.classifier(final_hidden)  # (batch_size, 1)\n",
    "            choice_logits.append(logit)\n",
    "        \n",
    "        # Combine all choices\n",
    "        logits = torch.cat(choice_logits, dim=1)  # (batch_size, 5)\n",
    "        return logits\n"
   ]
  },
  {
   "cell_type": "raw",
   "id": "8885e7a8-f902-4694-a0f9-9c50ee793522",
   "metadata": {},
   "source": [
    "TRAINING"
   ]
  },
  {
   "cell_type": "code",
   "execution_count": 61,
   "id": "f10ae274-93d3-4c6d-aa4b-ac3181b8f107",
   "metadata": {},
   "outputs": [
    {
     "data": {
      "text/html": [],
      "text/plain": [
       "<IPython.core.display.HTML object>"
      ]
     },
     "metadata": {},
     "output_type": "display_data"
    },
    {
     "data": {
      "text/html": [
       "<br>    <style><br>        .wandb-row {<br>            display: flex;<br>            flex-direction: row;<br>            flex-wrap: wrap;<br>            justify-content: flex-start;<br>            width: 100%;<br>        }<br>        .wandb-col {<br>            display: flex;<br>            flex-direction: column;<br>            flex-basis: 100%;<br>            flex: 1;<br>            padding: 10px;<br>        }<br>    </style><br><div class=\"wandb-row\"><div class=\"wandb-col\"><h3>Run history:</h3><br/><table class=\"wandb\"><tr><td>accuracy</td><td>█▁</td></tr><tr><td>epoch</td><td>▁▁</td></tr><tr><td>loss</td><td>▁█</td></tr><tr><td>val_accuracy</td><td>▁█</td></tr><tr><td>val_loss</td><td>█▁</td></tr></table><br/></div><div class=\"wandb-col\"><h3>Run summary:</h3><br/><table class=\"wandb\"><tr><td>accuracy</td><td>0.19357</td></tr><tr><td>epoch</td><td>1</td></tr><tr><td>loss</td><td>1.60921</td></tr><tr><td>val_accuracy</td><td>0.205</td></tr><tr><td>val_loss</td><td>1.60916</td></tr></table><br/></div></div>"
      ],
      "text/plain": [
       "<IPython.core.display.HTML object>"
      ]
     },
     "metadata": {},
     "output_type": "display_data"
    },
    {
     "data": {
      "text/html": [
       " View run <strong style=\"color:#cdcd00\">rnn-train-1</strong> at: <a href='https://wandb.ai/aditi-sharma-00073-hochschule-luzern/CQA_Model-2/runs/8954pmwh' target=\"_blank\">https://wandb.ai/aditi-sharma-00073-hochschule-luzern/CQA_Model-2/runs/8954pmwh</a><br> View project at: <a href='https://wandb.ai/aditi-sharma-00073-hochschule-luzern/CQA_Model-2' target=\"_blank\">https://wandb.ai/aditi-sharma-00073-hochschule-luzern/CQA_Model-2</a><br>Synced 5 W&B file(s), 0 media file(s), 0 artifact file(s) and 0 other file(s)"
      ],
      "text/plain": [
       "<IPython.core.display.HTML object>"
      ]
     },
     "metadata": {},
     "output_type": "display_data"
    },
    {
     "data": {
      "text/html": [
       "Find logs at: <code>./wandb/run-20250408_025035-8954pmwh/logs</code>"
      ],
      "text/plain": [
       "<IPython.core.display.HTML object>"
      ]
     },
     "metadata": {},
     "output_type": "display_data"
    },
    {
     "data": {
      "text/html": [
       "Tracking run with wandb version 0.19.9"
      ],
      "text/plain": [
       "<IPython.core.display.HTML object>"
      ]
     },
     "metadata": {},
     "output_type": "display_data"
    },
    {
     "data": {
      "text/html": [
       "Run data is saved locally in <code>/home/jovyan/wandb/run-20250408_035742-z6x75pcd</code>"
      ],
      "text/plain": [
       "<IPython.core.display.HTML object>"
      ]
     },
     "metadata": {},
     "output_type": "display_data"
    },
    {
     "data": {
      "text/html": [
       "Syncing run <strong><a href='https://wandb.ai/aditi-sharma-00073-hochschule-luzern/CQA_Model-2/runs/z6x75pcd' target=\"_blank\">rnn-train-1</a></strong> to <a href='https://wandb.ai/aditi-sharma-00073-hochschule-luzern/CQA_Model-2' target=\"_blank\">Weights & Biases</a> (<a href='https://wandb.me/developer-guide' target=\"_blank\">docs</a>)<br>"
      ],
      "text/plain": [
       "<IPython.core.display.HTML object>"
      ]
     },
     "metadata": {},
     "output_type": "display_data"
    },
    {
     "data": {
      "text/html": [
       " View project at <a href='https://wandb.ai/aditi-sharma-00073-hochschule-luzern/CQA_Model-2' target=\"_blank\">https://wandb.ai/aditi-sharma-00073-hochschule-luzern/CQA_Model-2</a>"
      ],
      "text/plain": [
       "<IPython.core.display.HTML object>"
      ]
     },
     "metadata": {},
     "output_type": "display_data"
    },
    {
     "data": {
      "text/html": [
       " View run at <a href='https://wandb.ai/aditi-sharma-00073-hochschule-luzern/CQA_Model-2/runs/z6x75pcd' target=\"_blank\">https://wandb.ai/aditi-sharma-00073-hochschule-luzern/CQA_Model-2/runs/z6x75pcd</a>"
      ],
      "text/plain": [
       "<IPython.core.display.HTML object>"
      ]
     },
     "metadata": {},
     "output_type": "display_data"
    },
    {
     "data": {
      "text/html": [
       "<button onClick=\"this.nextSibling.style.display='block';this.style.display='none';\">Display W&B run</button><iframe src='https://wandb.ai/aditi-sharma-00073-hochschule-luzern/CQA_Model-2/runs/z6x75pcd?jupyter=true' style='border:none;width:100%;height:420px;display:none;'></iframe>"
      ],
      "text/plain": [
       "<wandb.sdk.wandb_run.Run at 0x7f6a40bc8d40>"
      ]
     },
     "execution_count": 61,
     "metadata": {},
     "output_type": "execute_result"
    }
   ],
   "source": [
    "import wandb\n",
    "\n",
    "wandb.init(\n",
    "    project='CQA_Model-2',\n",
    "    name='rnn-train-1',\n",
    "    config={\n",
    "        'epochs': 3,\n",
    "        'batch_size': 32,\n",
    "        'learning_rate': 1e-3,\n",
    "        'hidden_dim': 256,      # RNN hidden size\n",
    "        'embedding_dim': 300,   # FastText\n",
    "        'rnn_layers': 2,\n",
    "        'rnn_type': 'LSTM',   \n",
    "        'dropout': 0.3,\n",
    "        'num_classes': 5\n",
    "    }\n",
    ")"
   ]
  },
  {
   "cell_type": "code",
   "execution_count": 62,
   "id": "9acf8c4e-3ac0-4f6f-8587-1d3c2fcf8b3b",
   "metadata": {},
   "outputs": [
    {
     "data": {
      "text/plain": [
       "device(type='cuda')"
      ]
     },
     "execution_count": 62,
     "metadata": {},
     "output_type": "execute_result"
    }
   ],
   "source": [
    "device = torch.device('cuda' if torch.cuda.is_available() else 'cpu')\n",
    "device"
   ]
  },
  {
   "cell_type": "code",
   "execution_count": 63,
   "id": "3a695d39-1490-46f7-b737-730b62b355e1",
   "metadata": {},
   "outputs": [],
   "source": [
    "def train_with_wandb_rnn(model, train_loader, val_loader=None, epochs=3):\n",
    "    model.train()\n",
    "    device = next(model.parameters()).device\n",
    "    \n",
    "    optimizer = optim.Adam(model.parameters(), lr=wandb.config.learning_rate)\n",
    "    loss_fn = nn.CrossEntropyLoss()\n",
    "    \n",
    "    # Add gradient clipping\n",
    "    max_grad_norm = 1.0\n",
    "    \n",
    "    for epoch in range(epochs):\n",
    "        model.train()\n",
    "        total_loss = 0\n",
    "        correct = 0\n",
    "        total = 0\n",
    "\n",
    "        for batch in train_loader:\n",
    "            inputs = batch['sequences'].to(device)  # (B,5,seq,300)\n",
    "            labels = batch['labels'].to(device)     # (B,)\n",
    "            \n",
    "            optimizer.zero_grad()\n",
    "            \n",
    "            outputs = model(inputs)  # (B,5)\n",
    "            loss = loss_fn(outputs, labels)\n",
    "            \n",
    "            loss.backward()\n",
    "            \n",
    "            # Gradient clipping for stability\n",
    "            torch.nn.utils.clip_grad_norm_(model.parameters(), max_grad_norm)\n",
    "            \n",
    "            optimizer.step()\n",
    "\n",
    "            # Metrics\n",
    "            preds = torch.argmax(outputs, dim=1)\n",
    "            correct += (preds == labels).sum().item()\n",
    "            total += labels.size(0)\n",
    "            total_loss += loss.item()\n",
    "\n",
    "        # Logging\n",
    "        avg_loss = total_loss / len(train_loader)\n",
    "        acc = correct / total\n",
    "        wandb.log({'train_loss': avg_loss, 'train_acc': acc})\n",
    "        print(f\"Epoch {epoch+1}/{epochs} | Loss: {avg_loss:.4f} | Acc: {acc:.4f}\")\n",
    "\n",
    "        # Validation\n",
    "        if val_loader:\n",
    "            validate_with_wandb(model, val_loader, loss_fn)\n"
   ]
  },
  {
   "cell_type": "code",
   "execution_count": 64,
   "id": "28291ffd-0acd-4b71-99c1-c2926b84aecf",
   "metadata": {},
   "outputs": [],
   "source": [
    "def validate_with_wandb(model, val_loader, loss_fn):\n",
    "    model.eval()\n",
    "    device = next(model.parameters()).device\n",
    "    total_loss = 0\n",
    "    correct = 0\n",
    "    total = 0\n",
    "\n",
    "    with torch.no_grad():\n",
    "        for batch in val_loader:\n",
    "            inputs = batch['sequences'].to(device)  # (B,5,seq,300)\n",
    "            labels = batch['labels'].to(device)     # (B,)\n",
    "            \n",
    "            outputs = model(inputs)\n",
    "            loss = loss_fn(outputs, labels)\n",
    "            \n",
    "            preds = torch.argmax(outputs, dim=1)\n",
    "            correct += (preds == labels).sum().item()\n",
    "            total += labels.size(0)\n",
    "            total_loss += loss.item()\n",
    "\n",
    "    val_loss = total_loss / len(val_loader)\n",
    "    val_acc = correct / total\n",
    "    wandb.log({'val_loss': val_loss, 'val_acc': val_acc})\n",
    "    print(f\"Validation | Loss: {val_loss:.4f} | Acc: {val_acc:.4f}\")\n"
   ]
  },
  {
   "cell_type": "code",
   "execution_count": 65,
   "id": "242ba869-8d90-48db-852c-8d1b95e934bc",
   "metadata": {},
   "outputs": [
    {
     "name": "stdout",
     "output_type": "stream",
     "text": [
      "Input shape: torch.Size([32, 5, 22, 300])\n",
      "Label shape: torch.Size([32])\n"
     ]
    }
   ],
   "source": [
    "# Sample batch verification\n",
    "for batch in train_loader:\n",
    "    print(f\"Input shape: {batch['sequences'].shape}\")  # Should be (B,5,seq_len,300)\n",
    "    print(f\"Label shape: {batch['labels'].shape}\")     # Should be (B,)\n",
    "    break\n"
   ]
  },
  {
   "cell_type": "code",
   "execution_count": 66,
   "id": "71a18d0c-1607-4f1e-a345-d93a1b9fd332",
   "metadata": {},
   "outputs": [
    {
     "name": "stdout",
     "output_type": "stream",
     "text": [
      "Epoch 1/3 | Loss: 1.6091 | Acc: 0.2005\n",
      "Validation | Loss: 1.6065 | Acc: 0.1940\n",
      "Epoch 2/3 | Loss: 1.6064 | Acc: 0.2111\n",
      "Validation | Loss: 1.6093 | Acc: 0.2040\n",
      "Epoch 3/3 | Loss: 1.6053 | Acc: 0.2124\n",
      "Validation | Loss: 1.6327 | Acc: 0.2020\n"
     ]
    }
   ],
   "source": [
    "\n",
    "model = RNNClassifier().to(device)\n",
    "\n",
    "train_with_wandb_rnn(model, train_loader, val_loader=valid_loader, epochs=wandb.config.epochs)\n"
   ]
  },
  {
   "cell_type": "code",
   "execution_count": 70,
   "id": "389c4502-797c-4393-b412-4e7ef7e56873",
   "metadata": {
    "scrolled": true
   },
   "outputs": [
    {
     "name": "stderr",
     "output_type": "stream",
     "text": [
      "[I 2025-04-08 05:14:50,794] A new study created in memory with name: no-name-3d940028-fe98-4b6f-9c6f-dc33ca451e16\n"
     ]
    },
    {
     "data": {
      "text/html": [],
      "text/plain": [
       "<IPython.core.display.HTML object>"
      ]
     },
     "metadata": {},
     "output_type": "display_data"
    },
    {
     "data": {
      "text/html": [
       "<br>    <style><br>        .wandb-row {<br>            display: flex;<br>            flex-direction: row;<br>            flex-wrap: wrap;<br>            justify-content: flex-start;<br>            width: 100%;<br>        }<br>        .wandb-col {<br>            display: flex;<br>            flex-direction: column;<br>            flex-basis: 100%;<br>            flex: 1;<br>            padding: 10px;<br>        }<br>    </style><br><div class=\"wandb-row\"><div class=\"wandb-col\"><h3>Run history:</h3><br/><table class=\"wandb\"><tr><td>train_acc</td><td>▁▇█</td></tr><tr><td>train_loss</td><td>█▃▁</td></tr><tr><td>val_acc</td><td>▁█▇</td></tr><tr><td>val_loss</td><td>▁▂█</td></tr></table><br/></div><div class=\"wandb-col\"><h3>Run summary:</h3><br/><table class=\"wandb\"><tr><td>train_acc</td><td>0.21245</td></tr><tr><td>train_loss</td><td>1.6053</td></tr><tr><td>val_acc</td><td>0.202</td></tr><tr><td>val_loss</td><td>1.63265</td></tr></table><br/></div></div>"
      ],
      "text/plain": [
       "<IPython.core.display.HTML object>"
      ]
     },
     "metadata": {},
     "output_type": "display_data"
    },
    {
     "data": {
      "text/html": [
       " View run <strong style=\"color:#cdcd00\">rnn-train-1</strong> at: <a href='https://wandb.ai/aditi-sharma-00073-hochschule-luzern/CQA_Model-2/runs/z6x75pcd' target=\"_blank\">https://wandb.ai/aditi-sharma-00073-hochschule-luzern/CQA_Model-2/runs/z6x75pcd</a><br> View project at: <a href='https://wandb.ai/aditi-sharma-00073-hochschule-luzern/CQA_Model-2' target=\"_blank\">https://wandb.ai/aditi-sharma-00073-hochschule-luzern/CQA_Model-2</a><br>Synced 5 W&B file(s), 0 media file(s), 0 artifact file(s) and 0 other file(s)"
      ],
      "text/plain": [
       "<IPython.core.display.HTML object>"
      ]
     },
     "metadata": {},
     "output_type": "display_data"
    },
    {
     "data": {
      "text/html": [
       "Find logs at: <code>./wandb/run-20250408_035742-z6x75pcd/logs</code>"
      ],
      "text/plain": [
       "<IPython.core.display.HTML object>"
      ]
     },
     "metadata": {},
     "output_type": "display_data"
    },
    {
     "name": "stderr",
     "output_type": "stream",
     "text": [
      "\u001b[34m\u001b[1mwandb\u001b[0m: \u001b[33mWARNING\u001b[0m Using a boolean value for 'reinit' is deprecated. Use 'return_previous' or 'finish_previous' instead.\n"
     ]
    },
    {
     "data": {
      "text/html": [
       "Tracking run with wandb version 0.19.9"
      ],
      "text/plain": [
       "<IPython.core.display.HTML object>"
      ]
     },
     "metadata": {},
     "output_type": "display_data"
    },
    {
     "data": {
      "text/html": [
       "Run data is saved locally in <code>/home/jovyan/wandb/run-20250408_051450-11mlqxj1</code>"
      ],
      "text/plain": [
       "<IPython.core.display.HTML object>"
      ]
     },
     "metadata": {},
     "output_type": "display_data"
    },
    {
     "data": {
      "text/html": [
       "Syncing run <strong><a href='https://wandb.ai/aditi-sharma-00073-hochschule-luzern/CQA_Model-2_Optuna/runs/11mlqxj1' target=\"_blank\">trial_0</a></strong> to <a href='https://wandb.ai/aditi-sharma-00073-hochschule-luzern/CQA_Model-2_Optuna' target=\"_blank\">Weights & Biases</a> (<a href='https://wandb.me/developer-guide' target=\"_blank\">docs</a>)<br>"
      ],
      "text/plain": [
       "<IPython.core.display.HTML object>"
      ]
     },
     "metadata": {},
     "output_type": "display_data"
    },
    {
     "data": {
      "text/html": [
       " View project at <a href='https://wandb.ai/aditi-sharma-00073-hochschule-luzern/CQA_Model-2_Optuna' target=\"_blank\">https://wandb.ai/aditi-sharma-00073-hochschule-luzern/CQA_Model-2_Optuna</a>"
      ],
      "text/plain": [
       "<IPython.core.display.HTML object>"
      ]
     },
     "metadata": {},
     "output_type": "display_data"
    },
    {
     "data": {
      "text/html": [
       " View run at <a href='https://wandb.ai/aditi-sharma-00073-hochschule-luzern/CQA_Model-2_Optuna/runs/11mlqxj1' target=\"_blank\">https://wandb.ai/aditi-sharma-00073-hochschule-luzern/CQA_Model-2_Optuna/runs/11mlqxj1</a>"
      ],
      "text/plain": [
       "<IPython.core.display.HTML object>"
      ]
     },
     "metadata": {},
     "output_type": "display_data"
    },
    {
     "name": "stdout",
     "output_type": "stream",
     "text": [
      "Trial 0 Epoch 1/3\n",
      "Train Loss: 1.6094 | Val Loss: 1.6093\n",
      "Train Acc: 0.1890 | Val Acc: 0.1940\n",
      "Trial 0 Epoch 2/3\n",
      "Train Loss: 1.6094 | Val Loss: 1.6093\n",
      "Train Acc: 0.1964 | Val Acc: 0.2070\n",
      "Trial 0 Epoch 3/3\n",
      "Train Loss: 1.6092 | Val Loss: 1.6086\n",
      "Train Acc: 0.1932 | Val Acc: 0.2080\n"
     ]
    },
    {
     "data": {
      "text/html": [],
      "text/plain": [
       "<IPython.core.display.HTML object>"
      ]
     },
     "metadata": {},
     "output_type": "display_data"
    },
    {
     "data": {
      "text/html": [
       "<br>    <style><br>        .wandb-row {<br>            display: flex;<br>            flex-direction: row;<br>            flex-wrap: wrap;<br>            justify-content: flex-start;<br>            width: 100%;<br>        }<br>        .wandb-col {<br>            display: flex;<br>            flex-direction: column;<br>            flex-basis: 100%;<br>            flex: 1;<br>            padding: 10px;<br>        }<br>    </style><br><div class=\"wandb-row\"><div class=\"wandb-col\"><h3>Run history:</h3><br/><table class=\"wandb\"><tr><td>epoch</td><td>▁▅█</td></tr><tr><td>train_accuracy</td><td>▁█▅</td></tr><tr><td>train_loss</td><td>▇█▁</td></tr><tr><td>val_accuracy</td><td>▁▇█</td></tr><tr><td>val_loss</td><td>█▇▁</td></tr></table><br/></div><div class=\"wandb-col\"><h3>Run summary:</h3><br/><table class=\"wandb\"><tr><td>epoch</td><td>3</td></tr><tr><td>train_accuracy</td><td>0.19323</td></tr><tr><td>train_loss</td><td>1.60924</td></tr><tr><td>val_accuracy</td><td>0.208</td></tr><tr><td>val_loss</td><td>1.60864</td></tr></table><br/></div></div>"
      ],
      "text/plain": [
       "<IPython.core.display.HTML object>"
      ]
     },
     "metadata": {},
     "output_type": "display_data"
    },
    {
     "data": {
      "text/html": [
       " View run <strong style=\"color:#cdcd00\">trial_0</strong> at: <a href='https://wandb.ai/aditi-sharma-00073-hochschule-luzern/CQA_Model-2_Optuna/runs/11mlqxj1' target=\"_blank\">https://wandb.ai/aditi-sharma-00073-hochschule-luzern/CQA_Model-2_Optuna/runs/11mlqxj1</a><br> View project at: <a href='https://wandb.ai/aditi-sharma-00073-hochschule-luzern/CQA_Model-2_Optuna' target=\"_blank\">https://wandb.ai/aditi-sharma-00073-hochschule-luzern/CQA_Model-2_Optuna</a><br>Synced 5 W&B file(s), 0 media file(s), 0 artifact file(s) and 0 other file(s)"
      ],
      "text/plain": [
       "<IPython.core.display.HTML object>"
      ]
     },
     "metadata": {},
     "output_type": "display_data"
    },
    {
     "data": {
      "text/html": [
       "Find logs at: <code>./wandb/run-20250408_051450-11mlqxj1/logs</code>"
      ],
      "text/plain": [
       "<IPython.core.display.HTML object>"
      ]
     },
     "metadata": {},
     "output_type": "display_data"
    },
    {
     "name": "stderr",
     "output_type": "stream",
     "text": [
      "[I 2025-04-08 05:33:03,345] Trial 0 finished with value: 0.208 and parameters: {'lr': 0.0005613400338386438, 'batch_size': 32, 'hidden_dim': 418, 'weight_decay': 9.390485922306709e-05, 'num_layers': 1, 'dropout': 0.3556365484117382}. Best is trial 0 with value: 0.208.\n"
     ]
    },
    {
     "data": {
      "text/html": [
       "Tracking run with wandb version 0.19.9"
      ],
      "text/plain": [
       "<IPython.core.display.HTML object>"
      ]
     },
     "metadata": {},
     "output_type": "display_data"
    },
    {
     "data": {
      "text/html": [
       "Run data is saved locally in <code>/home/jovyan/wandb/run-20250408_053303-o46umand</code>"
      ],
      "text/plain": [
       "<IPython.core.display.HTML object>"
      ]
     },
     "metadata": {},
     "output_type": "display_data"
    },
    {
     "data": {
      "text/html": [
       "Syncing run <strong><a href='https://wandb.ai/aditi-sharma-00073-hochschule-luzern/CQA_Model-2_Optuna/runs/o46umand' target=\"_blank\">trial_1</a></strong> to <a href='https://wandb.ai/aditi-sharma-00073-hochschule-luzern/CQA_Model-2_Optuna' target=\"_blank\">Weights & Biases</a> (<a href='https://wandb.me/developer-guide' target=\"_blank\">docs</a>)<br>"
      ],
      "text/plain": [
       "<IPython.core.display.HTML object>"
      ]
     },
     "metadata": {},
     "output_type": "display_data"
    },
    {
     "data": {
      "text/html": [
       " View project at <a href='https://wandb.ai/aditi-sharma-00073-hochschule-luzern/CQA_Model-2_Optuna' target=\"_blank\">https://wandb.ai/aditi-sharma-00073-hochschule-luzern/CQA_Model-2_Optuna</a>"
      ],
      "text/plain": [
       "<IPython.core.display.HTML object>"
      ]
     },
     "metadata": {},
     "output_type": "display_data"
    },
    {
     "data": {
      "text/html": [
       " View run at <a href='https://wandb.ai/aditi-sharma-00073-hochschule-luzern/CQA_Model-2_Optuna/runs/o46umand' target=\"_blank\">https://wandb.ai/aditi-sharma-00073-hochschule-luzern/CQA_Model-2_Optuna/runs/o46umand</a>"
      ],
      "text/plain": [
       "<IPython.core.display.HTML object>"
      ]
     },
     "metadata": {},
     "output_type": "display_data"
    },
    {
     "name": "stdout",
     "output_type": "stream",
     "text": [
      "Trial 1 Epoch 1/3\n",
      "Train Loss: 1.6094 | Val Loss: 1.6094\n",
      "Train Acc: 0.2008 | Val Acc: 0.2130\n",
      "Trial 1 Epoch 2/3\n",
      "Train Loss: 1.6094 | Val Loss: 1.6094\n",
      "Train Acc: 0.1851 | Val Acc: 0.2000\n",
      "Trial 1 Epoch 3/3\n",
      "Train Loss: 1.6094 | Val Loss: 1.6094\n",
      "Train Acc: 0.1811 | Val Acc: 0.1950\n"
     ]
    },
    {
     "data": {
      "text/html": [],
      "text/plain": [
       "<IPython.core.display.HTML object>"
      ]
     },
     "metadata": {},
     "output_type": "display_data"
    },
    {
     "data": {
      "text/html": [
       "<br>    <style><br>        .wandb-row {<br>            display: flex;<br>            flex-direction: row;<br>            flex-wrap: wrap;<br>            justify-content: flex-start;<br>            width: 100%;<br>        }<br>        .wandb-col {<br>            display: flex;<br>            flex-direction: column;<br>            flex-basis: 100%;<br>            flex: 1;<br>            padding: 10px;<br>        }<br>    </style><br><div class=\"wandb-row\"><div class=\"wandb-col\"><h3>Run history:</h3><br/><table class=\"wandb\"><tr><td>epoch</td><td>▁▅█</td></tr><tr><td>train_accuracy</td><td>█▂▁</td></tr><tr><td>train_loss</td><td>█▆▁</td></tr><tr><td>val_accuracy</td><td>█▃▁</td></tr><tr><td>val_loss</td><td>█▃▁</td></tr></table><br/></div><div class=\"wandb-col\"><h3>Run summary:</h3><br/><table class=\"wandb\"><tr><td>epoch</td><td>3</td></tr><tr><td>train_accuracy</td><td>0.1811</td></tr><tr><td>train_loss</td><td>1.60944</td></tr><tr><td>val_accuracy</td><td>0.195</td></tr><tr><td>val_loss</td><td>1.60944</td></tr></table><br/></div></div>"
      ],
      "text/plain": [
       "<IPython.core.display.HTML object>"
      ]
     },
     "metadata": {},
     "output_type": "display_data"
    },
    {
     "data": {
      "text/html": [
       " View run <strong style=\"color:#cdcd00\">trial_1</strong> at: <a href='https://wandb.ai/aditi-sharma-00073-hochschule-luzern/CQA_Model-2_Optuna/runs/o46umand' target=\"_blank\">https://wandb.ai/aditi-sharma-00073-hochschule-luzern/CQA_Model-2_Optuna/runs/o46umand</a><br> View project at: <a href='https://wandb.ai/aditi-sharma-00073-hochschule-luzern/CQA_Model-2_Optuna' target=\"_blank\">https://wandb.ai/aditi-sharma-00073-hochschule-luzern/CQA_Model-2_Optuna</a><br>Synced 5 W&B file(s), 0 media file(s), 0 artifact file(s) and 0 other file(s)"
      ],
      "text/plain": [
       "<IPython.core.display.HTML object>"
      ]
     },
     "metadata": {},
     "output_type": "display_data"
    },
    {
     "data": {
      "text/html": [
       "Find logs at: <code>./wandb/run-20250408_053303-o46umand/logs</code>"
      ],
      "text/plain": [
       "<IPython.core.display.HTML object>"
      ]
     },
     "metadata": {},
     "output_type": "display_data"
    },
    {
     "name": "stderr",
     "output_type": "stream",
     "text": [
      "[I 2025-04-08 05:52:10,179] Trial 1 finished with value: 0.213 and parameters: {'lr': 8.36639865019827e-05, 'batch_size': 32, 'hidden_dim': 470, 'weight_decay': 0.0002745372409990082, 'num_layers': 3, 'dropout': 0.4584721764825156}. Best is trial 1 with value: 0.213.\n"
     ]
    },
    {
     "data": {
      "text/html": [
       "Tracking run with wandb version 0.19.9"
      ],
      "text/plain": [
       "<IPython.core.display.HTML object>"
      ]
     },
     "metadata": {},
     "output_type": "display_data"
    },
    {
     "data": {
      "text/html": [
       "Run data is saved locally in <code>/home/jovyan/wandb/run-20250408_055210-a8vobvha</code>"
      ],
      "text/plain": [
       "<IPython.core.display.HTML object>"
      ]
     },
     "metadata": {},
     "output_type": "display_data"
    },
    {
     "data": {
      "text/html": [
       "Syncing run <strong><a href='https://wandb.ai/aditi-sharma-00073-hochschule-luzern/CQA_Model-2_Optuna/runs/a8vobvha' target=\"_blank\">trial_2</a></strong> to <a href='https://wandb.ai/aditi-sharma-00073-hochschule-luzern/CQA_Model-2_Optuna' target=\"_blank\">Weights & Biases</a> (<a href='https://wandb.me/developer-guide' target=\"_blank\">docs</a>)<br>"
      ],
      "text/plain": [
       "<IPython.core.display.HTML object>"
      ]
     },
     "metadata": {},
     "output_type": "display_data"
    },
    {
     "data": {
      "text/html": [
       " View project at <a href='https://wandb.ai/aditi-sharma-00073-hochschule-luzern/CQA_Model-2_Optuna' target=\"_blank\">https://wandb.ai/aditi-sharma-00073-hochschule-luzern/CQA_Model-2_Optuna</a>"
      ],
      "text/plain": [
       "<IPython.core.display.HTML object>"
      ]
     },
     "metadata": {},
     "output_type": "display_data"
    },
    {
     "data": {
      "text/html": [
       " View run at <a href='https://wandb.ai/aditi-sharma-00073-hochschule-luzern/CQA_Model-2_Optuna/runs/a8vobvha' target=\"_blank\">https://wandb.ai/aditi-sharma-00073-hochschule-luzern/CQA_Model-2_Optuna/runs/a8vobvha</a>"
      ],
      "text/plain": [
       "<IPython.core.display.HTML object>"
      ]
     },
     "metadata": {},
     "output_type": "display_data"
    },
    {
     "name": "stdout",
     "output_type": "stream",
     "text": [
      "Trial 2 Epoch 1/3\n",
      "Train Loss: 1.6094 | Val Loss: 1.6094\n",
      "Train Acc: 0.1967 | Val Acc: 0.2000\n",
      "Trial 2 Epoch 2/3\n",
      "Train Loss: 1.6094 | Val Loss: 1.6094\n",
      "Train Acc: 0.1955 | Val Acc: 0.2000\n",
      "Trial 2 Epoch 3/3\n",
      "Train Loss: 1.6094 | Val Loss: 1.6094\n",
      "Train Acc: 0.1955 | Val Acc: 0.2000\n"
     ]
    },
    {
     "data": {
      "text/html": [],
      "text/plain": [
       "<IPython.core.display.HTML object>"
      ]
     },
     "metadata": {},
     "output_type": "display_data"
    },
    {
     "data": {
      "text/html": [
       "<br>    <style><br>        .wandb-row {<br>            display: flex;<br>            flex-direction: row;<br>            flex-wrap: wrap;<br>            justify-content: flex-start;<br>            width: 100%;<br>        }<br>        .wandb-col {<br>            display: flex;<br>            flex-direction: column;<br>            flex-basis: 100%;<br>            flex: 1;<br>            padding: 10px;<br>        }<br>    </style><br><div class=\"wandb-row\"><div class=\"wandb-col\"><h3>Run history:</h3><br/><table class=\"wandb\"><tr><td>epoch</td><td>▁▅█</td></tr><tr><td>train_accuracy</td><td>█▁▁</td></tr><tr><td>train_loss</td><td>█▁▁</td></tr><tr><td>val_accuracy</td><td>▁▁▁</td></tr><tr><td>val_loss</td><td>▁▁▁</td></tr></table><br/></div><div class=\"wandb-col\"><h3>Run summary:</h3><br/><table class=\"wandb\"><tr><td>epoch</td><td>3</td></tr><tr><td>train_accuracy</td><td>0.19552</td></tr><tr><td>train_loss</td><td>1.60944</td></tr><tr><td>val_accuracy</td><td>0.2</td></tr><tr><td>val_loss</td><td>1.60944</td></tr></table><br/></div></div>"
      ],
      "text/plain": [
       "<IPython.core.display.HTML object>"
      ]
     },
     "metadata": {},
     "output_type": "display_data"
    },
    {
     "data": {
      "text/html": [
       " View run <strong style=\"color:#cdcd00\">trial_2</strong> at: <a href='https://wandb.ai/aditi-sharma-00073-hochschule-luzern/CQA_Model-2_Optuna/runs/a8vobvha' target=\"_blank\">https://wandb.ai/aditi-sharma-00073-hochschule-luzern/CQA_Model-2_Optuna/runs/a8vobvha</a><br> View project at: <a href='https://wandb.ai/aditi-sharma-00073-hochschule-luzern/CQA_Model-2_Optuna' target=\"_blank\">https://wandb.ai/aditi-sharma-00073-hochschule-luzern/CQA_Model-2_Optuna</a><br>Synced 5 W&B file(s), 0 media file(s), 0 artifact file(s) and 0 other file(s)"
      ],
      "text/plain": [
       "<IPython.core.display.HTML object>"
      ]
     },
     "metadata": {},
     "output_type": "display_data"
    },
    {
     "data": {
      "text/html": [
       "Find logs at: <code>./wandb/run-20250408_055210-a8vobvha/logs</code>"
      ],
      "text/plain": [
       "<IPython.core.display.HTML object>"
      ]
     },
     "metadata": {},
     "output_type": "display_data"
    },
    {
     "name": "stderr",
     "output_type": "stream",
     "text": [
      "[I 2025-04-08 06:00:52,262] Trial 2 finished with value: 0.2 and parameters: {'lr': 0.0030563422234351208, 'batch_size': 64, 'hidden_dim': 432, 'weight_decay': 4.6414472155966004e-05, 'num_layers': 3, 'dropout': 0.15669818225254933}. Best is trial 1 with value: 0.213.\n"
     ]
    },
    {
     "data": {
      "text/html": [
       "Tracking run with wandb version 0.19.9"
      ],
      "text/plain": [
       "<IPython.core.display.HTML object>"
      ]
     },
     "metadata": {},
     "output_type": "display_data"
    },
    {
     "data": {
      "text/html": [
       "Run data is saved locally in <code>/home/jovyan/wandb/run-20250408_060052-z772s6es</code>"
      ],
      "text/plain": [
       "<IPython.core.display.HTML object>"
      ]
     },
     "metadata": {},
     "output_type": "display_data"
    },
    {
     "data": {
      "text/html": [
       "Syncing run <strong><a href='https://wandb.ai/aditi-sharma-00073-hochschule-luzern/CQA_Model-2_Optuna/runs/z772s6es' target=\"_blank\">trial_3</a></strong> to <a href='https://wandb.ai/aditi-sharma-00073-hochschule-luzern/CQA_Model-2_Optuna' target=\"_blank\">Weights & Biases</a> (<a href='https://wandb.me/developer-guide' target=\"_blank\">docs</a>)<br>"
      ],
      "text/plain": [
       "<IPython.core.display.HTML object>"
      ]
     },
     "metadata": {},
     "output_type": "display_data"
    },
    {
     "data": {
      "text/html": [
       " View project at <a href='https://wandb.ai/aditi-sharma-00073-hochschule-luzern/CQA_Model-2_Optuna' target=\"_blank\">https://wandb.ai/aditi-sharma-00073-hochschule-luzern/CQA_Model-2_Optuna</a>"
      ],
      "text/plain": [
       "<IPython.core.display.HTML object>"
      ]
     },
     "metadata": {},
     "output_type": "display_data"
    },
    {
     "data": {
      "text/html": [
       " View run at <a href='https://wandb.ai/aditi-sharma-00073-hochschule-luzern/CQA_Model-2_Optuna/runs/z772s6es' target=\"_blank\">https://wandb.ai/aditi-sharma-00073-hochschule-luzern/CQA_Model-2_Optuna/runs/z772s6es</a>"
      ],
      "text/plain": [
       "<IPython.core.display.HTML object>"
      ]
     },
     "metadata": {},
     "output_type": "display_data"
    },
    {
     "name": "stdout",
     "output_type": "stream",
     "text": [
      "Trial 3 Epoch 1/3\n",
      "Train Loss: 1.6094 | Val Loss: 1.6094\n",
      "Train Acc: 0.1912 | Val Acc: 0.1960\n",
      "Trial 3 Epoch 2/3\n",
      "Train Loss: 1.6094 | Val Loss: 1.6094\n",
      "Train Acc: 0.1922 | Val Acc: 0.1940\n",
      "Trial 3 Epoch 3/3\n",
      "Train Loss: 1.6094 | Val Loss: 1.6094\n",
      "Train Acc: 0.1964 | Val Acc: 0.2000\n"
     ]
    },
    {
     "data": {
      "text/html": [],
      "text/plain": [
       "<IPython.core.display.HTML object>"
      ]
     },
     "metadata": {},
     "output_type": "display_data"
    },
    {
     "data": {
      "text/html": [
       "<br>    <style><br>        .wandb-row {<br>            display: flex;<br>            flex-direction: row;<br>            flex-wrap: wrap;<br>            justify-content: flex-start;<br>            width: 100%;<br>        }<br>        .wandb-col {<br>            display: flex;<br>            flex-direction: column;<br>            flex-basis: 100%;<br>            flex: 1;<br>            padding: 10px;<br>        }<br>    </style><br><div class=\"wandb-row\"><div class=\"wandb-col\"><h3>Run history:</h3><br/><table class=\"wandb\"><tr><td>epoch</td><td>▁▅█</td></tr><tr><td>train_accuracy</td><td>▁▂█</td></tr><tr><td>train_loss</td><td>▁██</td></tr><tr><td>val_accuracy</td><td>▃▁█</td></tr><tr><td>val_loss</td><td>▁██</td></tr></table><br/></div><div class=\"wandb-col\"><h3>Run summary:</h3><br/><table class=\"wandb\"><tr><td>epoch</td><td>3</td></tr><tr><td>train_accuracy</td><td>0.19643</td></tr><tr><td>train_loss</td><td>1.60944</td></tr><tr><td>val_accuracy</td><td>0.2</td></tr><tr><td>val_loss</td><td>1.60944</td></tr></table><br/></div></div>"
      ],
      "text/plain": [
       "<IPython.core.display.HTML object>"
      ]
     },
     "metadata": {},
     "output_type": "display_data"
    },
    {
     "data": {
      "text/html": [
       " View run <strong style=\"color:#cdcd00\">trial_3</strong> at: <a href='https://wandb.ai/aditi-sharma-00073-hochschule-luzern/CQA_Model-2_Optuna/runs/z772s6es' target=\"_blank\">https://wandb.ai/aditi-sharma-00073-hochschule-luzern/CQA_Model-2_Optuna/runs/z772s6es</a><br> View project at: <a href='https://wandb.ai/aditi-sharma-00073-hochschule-luzern/CQA_Model-2_Optuna' target=\"_blank\">https://wandb.ai/aditi-sharma-00073-hochschule-luzern/CQA_Model-2_Optuna</a><br>Synced 5 W&B file(s), 0 media file(s), 0 artifact file(s) and 0 other file(s)"
      ],
      "text/plain": [
       "<IPython.core.display.HTML object>"
      ]
     },
     "metadata": {},
     "output_type": "display_data"
    },
    {
     "data": {
      "text/html": [
       "Find logs at: <code>./wandb/run-20250408_060052-z772s6es/logs</code>"
      ],
      "text/plain": [
       "<IPython.core.display.HTML object>"
      ]
     },
     "metadata": {},
     "output_type": "display_data"
    },
    {
     "name": "stderr",
     "output_type": "stream",
     "text": [
      "[I 2025-04-08 06:25:07,330] Trial 3 finished with value: 0.2 and parameters: {'lr': 0.00011086744664184443, 'batch_size': 16, 'hidden_dim': 509, 'weight_decay': 0.00011796802453665688, 'num_layers': 2, 'dropout': 0.1028411692852132}. Best is trial 1 with value: 0.213.\n"
     ]
    },
    {
     "data": {
      "text/html": [
       "Tracking run with wandb version 0.19.9"
      ],
      "text/plain": [
       "<IPython.core.display.HTML object>"
      ]
     },
     "metadata": {},
     "output_type": "display_data"
    },
    {
     "data": {
      "text/html": [
       "Run data is saved locally in <code>/home/jovyan/wandb/run-20250408_062507-j1ekj6j0</code>"
      ],
      "text/plain": [
       "<IPython.core.display.HTML object>"
      ]
     },
     "metadata": {},
     "output_type": "display_data"
    },
    {
     "data": {
      "text/html": [
       "Syncing run <strong><a href='https://wandb.ai/aditi-sharma-00073-hochschule-luzern/CQA_Model-2_Optuna/runs/j1ekj6j0' target=\"_blank\">trial_4</a></strong> to <a href='https://wandb.ai/aditi-sharma-00073-hochschule-luzern/CQA_Model-2_Optuna' target=\"_blank\">Weights & Biases</a> (<a href='https://wandb.me/developer-guide' target=\"_blank\">docs</a>)<br>"
      ],
      "text/plain": [
       "<IPython.core.display.HTML object>"
      ]
     },
     "metadata": {},
     "output_type": "display_data"
    },
    {
     "data": {
      "text/html": [
       " View project at <a href='https://wandb.ai/aditi-sharma-00073-hochschule-luzern/CQA_Model-2_Optuna' target=\"_blank\">https://wandb.ai/aditi-sharma-00073-hochschule-luzern/CQA_Model-2_Optuna</a>"
      ],
      "text/plain": [
       "<IPython.core.display.HTML object>"
      ]
     },
     "metadata": {},
     "output_type": "display_data"
    },
    {
     "data": {
      "text/html": [
       " View run at <a href='https://wandb.ai/aditi-sharma-00073-hochschule-luzern/CQA_Model-2_Optuna/runs/j1ekj6j0' target=\"_blank\">https://wandb.ai/aditi-sharma-00073-hochschule-luzern/CQA_Model-2_Optuna/runs/j1ekj6j0</a>"
      ],
      "text/plain": [
       "<IPython.core.display.HTML object>"
      ]
     },
     "metadata": {},
     "output_type": "display_data"
    },
    {
     "name": "stdout",
     "output_type": "stream",
     "text": [
      "Trial 4 Epoch 1/3\n",
      "Train Loss: 1.6095 | Val Loss: 1.6094\n",
      "Train Acc: 0.1865 | Val Acc: 0.2000\n",
      "Trial 4 Epoch 2/3\n",
      "Train Loss: 1.6094 | Val Loss: 1.6094\n",
      "Train Acc: 0.1955 | Val Acc: 0.2000\n",
      "Trial 4 Epoch 3/3\n",
      "Train Loss: 1.6094 | Val Loss: 1.6094\n",
      "Train Acc: 0.1955 | Val Acc: 0.2000\n"
     ]
    },
    {
     "data": {
      "text/html": [],
      "text/plain": [
       "<IPython.core.display.HTML object>"
      ]
     },
     "metadata": {},
     "output_type": "display_data"
    },
    {
     "data": {
      "text/html": [
       "<br>    <style><br>        .wandb-row {<br>            display: flex;<br>            flex-direction: row;<br>            flex-wrap: wrap;<br>            justify-content: flex-start;<br>            width: 100%;<br>        }<br>        .wandb-col {<br>            display: flex;<br>            flex-direction: column;<br>            flex-basis: 100%;<br>            flex: 1;<br>            padding: 10px;<br>        }<br>    </style><br><div class=\"wandb-row\"><div class=\"wandb-col\"><h3>Run history:</h3><br/><table class=\"wandb\"><tr><td>epoch</td><td>▁▅█</td></tr><tr><td>train_accuracy</td><td>▁██</td></tr><tr><td>train_loss</td><td>█▁▁</td></tr><tr><td>val_accuracy</td><td>▁▁▁</td></tr><tr><td>val_loss</td><td>▁▁▁</td></tr></table><br/></div><div class=\"wandb-col\"><h3>Run summary:</h3><br/><table class=\"wandb\"><tr><td>epoch</td><td>3</td></tr><tr><td>train_accuracy</td><td>0.19552</td></tr><tr><td>train_loss</td><td>1.60944</td></tr><tr><td>val_accuracy</td><td>0.2</td></tr><tr><td>val_loss</td><td>1.60944</td></tr></table><br/></div></div>"
      ],
      "text/plain": [
       "<IPython.core.display.HTML object>"
      ]
     },
     "metadata": {},
     "output_type": "display_data"
    },
    {
     "data": {
      "text/html": [
       " View run <strong style=\"color:#cdcd00\">trial_4</strong> at: <a href='https://wandb.ai/aditi-sharma-00073-hochschule-luzern/CQA_Model-2_Optuna/runs/j1ekj6j0' target=\"_blank\">https://wandb.ai/aditi-sharma-00073-hochschule-luzern/CQA_Model-2_Optuna/runs/j1ekj6j0</a><br> View project at: <a href='https://wandb.ai/aditi-sharma-00073-hochschule-luzern/CQA_Model-2_Optuna' target=\"_blank\">https://wandb.ai/aditi-sharma-00073-hochschule-luzern/CQA_Model-2_Optuna</a><br>Synced 5 W&B file(s), 0 media file(s), 0 artifact file(s) and 0 other file(s)"
      ],
      "text/plain": [
       "<IPython.core.display.HTML object>"
      ]
     },
     "metadata": {},
     "output_type": "display_data"
    },
    {
     "data": {
      "text/html": [
       "Find logs at: <code>./wandb/run-20250408_062507-j1ekj6j0/logs</code>"
      ],
      "text/plain": [
       "<IPython.core.display.HTML object>"
      ]
     },
     "metadata": {},
     "output_type": "display_data"
    },
    {
     "name": "stderr",
     "output_type": "stream",
     "text": [
      "[I 2025-04-08 06:42:21,744] Trial 4 finished with value: 0.2 and parameters: {'lr': 0.009902189877236867, 'batch_size': 32, 'hidden_dim': 226, 'weight_decay': 6.492456899040013e-05, 'num_layers': 2, 'dropout': 0.19361228753817794}. Best is trial 1 with value: 0.213.\n"
     ]
    }
   ],
   "source": [
    "def objective(trial):\n",
    "    # Hyperparameters to tune (expanded for RNN-specific params)\n",
    "    params = {\n",
    "        'learning_rate': trial.suggest_float('lr', 1e-5, 1e-2, log=True),\n",
    "        'batch_size': trial.suggest_categorical('batch_size', [16, 32, 64]),\n",
    "        'hidden_dim': trial.suggest_int('hidden_dim', 128, 512),\n",
    "        'weight_decay': trial.suggest_float('weight_decay', 1e-6, 1e-3, log=True),\n",
    "        'num_layers': trial.suggest_int('num_layers', 1, 3),  # RNN-specific\n",
    "        'dropout': trial.suggest_float('dropout', 0.1, 0.5)   # RNN-specific\n",
    "    }\n",
    "    \n",
    "    # Initialize W&B\n",
    "    wandb.init(\n",
    "        project='CQA_Model-2_Optuna',\n",
    "        name=f'trial_{trial.number}',\n",
    "        config={\n",
    "            **params,\n",
    "            'epochs': 3,\n",
    "            'embedding_dim': 300,\n",
    "            'num_classes': 5,\n",
    "            'rnn_type': 'LSTM'\n",
    "        },\n",
    "        reinit=True\n",
    "    )\n",
    "    \n",
    "    # Create loaders with dynamic batch size\n",
    "    train_loader = DataLoader(\n",
    "        train_ds,\n",
    "        batch_size=params['batch_size'],\n",
    "        shuffle=True,\n",
    "        collate_fn=rnn_collate_fn,\n",
    "        pin_memory=True\n",
    "    )\n",
    "    \n",
    "    valid_loader = DataLoader(\n",
    "        valid_ds,\n",
    "        batch_size=params['batch_size'],\n",
    "        collate_fn=rnn_collate_fn,\n",
    "        pin_memory=True\n",
    "    )\n",
    "    \n",
    "    # Initialize RNN model with trial parameters\n",
    "    model = RNNClassifier(\n",
    "        hidden_dim=params['hidden_dim'],\n",
    "        num_layers=params['num_layers']\n",
    "    ).to(device)\n",
    "    \n",
    "    # Optimizer with weight decay\n",
    "    optimizer = optim.Adam(\n",
    "        model.parameters(),\n",
    "        lr=params['learning_rate'],\n",
    "        weight_decay=params['weight_decay']\n",
    "    )\n",
    "    loss_fn = nn.CrossEntropyLoss()\n",
    "    \n",
    "    best_val_acc = 0\n",
    "    \n",
    "    for epoch in range(3):\n",
    "        # Training phase\n",
    "        model.train()\n",
    "        train_loss, train_correct, train_total = 0, 0, 0\n",
    "        \n",
    "        for batch in train_loader:\n",
    "            inputs = batch['sequences'].to(device, non_blocking=True)\n",
    "            labels = batch['labels'].to(device, non_blocking=True)\n",
    "            \n",
    "            optimizer.zero_grad()\n",
    "            \n",
    "            outputs = model(inputs)\n",
    "            loss = loss_fn(outputs, labels)\n",
    "            \n",
    "            loss.backward()\n",
    "            optimizer.step()\n",
    "            \n",
    "            # Calculate accuracy\n",
    "            with torch.no_grad():\n",
    "                _, predicted = outputs.max(dim=1)\n",
    "                correct = (predicted == labels).sum().item()\n",
    "            \n",
    "            train_loss += loss.item()\n",
    "            train_correct += correct\n",
    "            train_total += labels.size(0)\n",
    "        \n",
    "        # Validation phase\n",
    "        model.eval()\n",
    "        val_loss, val_correct, val_total = 0, 0, 0\n",
    "        \n",
    "        with torch.no_grad():\n",
    "            for batch in valid_loader:\n",
    "                inputs = batch['sequences'].to(device)\n",
    "                labels = batch['labels'].to(device)\n",
    "                \n",
    "                outputs = model(inputs)\n",
    "                loss = loss_fn(outputs, labels)\n",
    "                \n",
    "                # Calculate validation loss\n",
    "                val_loss += loss.item()\n",
    "                \n",
    "                # Calculate accuracy\n",
    "                _, predicted = outputs.max(dim=1)\n",
    "                correct = (predicted == labels).sum().item()\n",
    "                \n",
    "                val_correct += correct\n",
    "                val_total += labels.size(0)\n",
    "        \n",
    "        # Calculate metrics\n",
    "        train_loss = train_loss / len(train_loader)\n",
    "        train_acc = train_correct / train_total\n",
    "        val_loss = val_loss / len(valid_loader)\n",
    "        val_acc = val_correct / val_total\n",
    "        \n",
    "        # Log metrics\n",
    "        wandb.log({\n",
    "            'epoch': epoch+1,\n",
    "            'train_loss': train_loss,\n",
    "            'train_accuracy': train_acc,\n",
    "            'val_loss': val_loss,\n",
    "            'val_accuracy': val_acc\n",
    "        })\n",
    "        \n",
    "        print(f\"Trial {trial.number} Epoch {epoch+1}/3\")\n",
    "        print(f\"Train Loss: {train_loss:.4f} | Val Loss: {val_loss:.4f}\")\n",
    "        print(f\"Train Acc: {train_acc:.4f} | Val Acc: {val_acc:.4f}\")\n",
    "        \n",
    "        # Track best validation accuracy\n",
    "        if val_acc > best_val_acc:\n",
    "            best_val_acc = val_acc\n",
    "        \n",
    "    wandb.finish()\n",
    "    return best_val_acc\n",
    "\n",
    "# Run study with enhanced settings\n",
    "study = optuna.create_study(\n",
    "    direction='maximize',\n",
    "    sampler=optuna.samplers.TPESampler(),\n",
    "    pruner=optuna.pruners.HyperbandPruner()\n",
    ")\n",
    "\n",
    "study.optimize(objective, n_trials=5, gc_after_trial=True)\n"
   ]
  },
  {
   "cell_type": "code",
   "execution_count": 74,
   "id": "1b3b63b3-b010-4809-9711-f8d48105f628",
   "metadata": {},
   "outputs": [
    {
     "data": {
      "text/plain": [
       "{'lr': 8.36639865019827e-05,\n",
       " 'batch_size': 32,\n",
       " 'hidden_dim': 470,\n",
       " 'weight_decay': 0.0002745372409990082,\n",
       " 'num_layers': 3,\n",
       " 'dropout': 0.4584721764825156}"
      ]
     },
     "execution_count": 74,
     "metadata": {},
     "output_type": "execute_result"
    }
   ],
   "source": [
    "best_params"
   ]
  },
  {
   "cell_type": "code",
   "execution_count": 76,
   "id": "29a853a5-83ed-4b31-a4bc-810e2f531cf9",
   "metadata": {},
   "outputs": [
    {
     "data": {
      "text/html": [],
      "text/plain": [
       "<IPython.core.display.HTML object>"
      ]
     },
     "metadata": {},
     "output_type": "display_data"
    },
    {
     "data": {
      "text/html": [
       " View run <strong style=\"color:#cdcd00\">arch2_final_run</strong> at: <a href='https://wandb.ai/aditi-sharma-00073-hochschule-luzern/CQA_Model-2_Final/runs/4mueye4p' target=\"_blank\">https://wandb.ai/aditi-sharma-00073-hochschule-luzern/CQA_Model-2_Final/runs/4mueye4p</a><br> View project at: <a href='https://wandb.ai/aditi-sharma-00073-hochschule-luzern/CQA_Model-2_Final' target=\"_blank\">https://wandb.ai/aditi-sharma-00073-hochschule-luzern/CQA_Model-2_Final</a><br>Synced 5 W&B file(s), 0 media file(s), 0 artifact file(s) and 0 other file(s)"
      ],
      "text/plain": [
       "<IPython.core.display.HTML object>"
      ]
     },
     "metadata": {},
     "output_type": "display_data"
    },
    {
     "data": {
      "text/html": [
       "Find logs at: <code>./wandb/run-20250408_070000-4mueye4p/logs</code>"
      ],
      "text/plain": [
       "<IPython.core.display.HTML object>"
      ]
     },
     "metadata": {},
     "output_type": "display_data"
    },
    {
     "data": {
      "text/html": [
       "Tracking run with wandb version 0.19.9"
      ],
      "text/plain": [
       "<IPython.core.display.HTML object>"
      ]
     },
     "metadata": {},
     "output_type": "display_data"
    },
    {
     "data": {
      "text/html": [
       "Run data is saved locally in <code>/home/jovyan/wandb/run-20250408_070247-u8pr4x4f</code>"
      ],
      "text/plain": [
       "<IPython.core.display.HTML object>"
      ]
     },
     "metadata": {},
     "output_type": "display_data"
    },
    {
     "data": {
      "text/html": [
       "Syncing run <strong><a href='https://wandb.ai/aditi-sharma-00073-hochschule-luzern/CQA_Model-2_Final/runs/u8pr4x4f' target=\"_blank\">arch2_final_run</a></strong> to <a href='https://wandb.ai/aditi-sharma-00073-hochschule-luzern/CQA_Model-2_Final' target=\"_blank\">Weights & Biases</a> (<a href='https://wandb.me/developer-guide' target=\"_blank\">docs</a>)<br>"
      ],
      "text/plain": [
       "<IPython.core.display.HTML object>"
      ]
     },
     "metadata": {},
     "output_type": "display_data"
    },
    {
     "data": {
      "text/html": [
       " View project at <a href='https://wandb.ai/aditi-sharma-00073-hochschule-luzern/CQA_Model-2_Final' target=\"_blank\">https://wandb.ai/aditi-sharma-00073-hochschule-luzern/CQA_Model-2_Final</a>"
      ],
      "text/plain": [
       "<IPython.core.display.HTML object>"
      ]
     },
     "metadata": {},
     "output_type": "display_data"
    },
    {
     "data": {
      "text/html": [
       " View run at <a href='https://wandb.ai/aditi-sharma-00073-hochschule-luzern/CQA_Model-2_Final/runs/u8pr4x4f' target=\"_blank\">https://wandb.ai/aditi-sharma-00073-hochschule-luzern/CQA_Model-2_Final/runs/u8pr4x4f</a>"
      ],
      "text/plain": [
       "<IPython.core.display.HTML object>"
      ]
     },
     "metadata": {},
     "output_type": "display_data"
    },
    {
     "name": "stdout",
     "output_type": "stream",
     "text": [
      "Epoch 1/3 | Loss: 1.6094 | Acc: 0.1892\n",
      "Epoch 2/3 | Loss: 1.6094 | Acc: 0.1861\n",
      "Epoch 3/3 | Loss: 1.6094 | Acc: 0.1885\n"
     ]
    },
    {
     "data": {
      "text/html": [],
      "text/plain": [
       "<IPython.core.display.HTML object>"
      ]
     },
     "metadata": {},
     "output_type": "display_data"
    },
    {
     "data": {
      "text/html": [
       "<br>    <style><br>        .wandb-row {<br>            display: flex;<br>            flex-direction: row;<br>            flex-wrap: wrap;<br>            justify-content: flex-start;<br>            width: 100%;<br>        }<br>        .wandb-col {<br>            display: flex;<br>            flex-direction: column;<br>            flex-basis: 100%;<br>            flex: 1;<br>            padding: 10px;<br>        }<br>    </style><br><div class=\"wandb-row\"><div class=\"wandb-col\"><h3>Run history:</h3><br/><table class=\"wandb\"><tr><td>epoch</td><td>▁▅█</td></tr><tr><td>train_acc</td><td>█▁▆</td></tr><tr><td>train_loss</td><td>█▆▁</td></tr></table><br/></div><div class=\"wandb-col\"><h3>Run summary:</h3><br/><table class=\"wandb\"><tr><td>epoch</td><td>3</td></tr><tr><td>train_acc</td><td>0.18848</td></tr><tr><td>train_loss</td><td>1.60944</td></tr></table><br/></div></div>"
      ],
      "text/plain": [
       "<IPython.core.display.HTML object>"
      ]
     },
     "metadata": {},
     "output_type": "display_data"
    },
    {
     "data": {
      "text/html": [
       " View run <strong style=\"color:#cdcd00\">arch2_final_run</strong> at: <a href='https://wandb.ai/aditi-sharma-00073-hochschule-luzern/CQA_Model-2_Final/runs/u8pr4x4f' target=\"_blank\">https://wandb.ai/aditi-sharma-00073-hochschule-luzern/CQA_Model-2_Final/runs/u8pr4x4f</a><br> View project at: <a href='https://wandb.ai/aditi-sharma-00073-hochschule-luzern/CQA_Model-2_Final' target=\"_blank\">https://wandb.ai/aditi-sharma-00073-hochschule-luzern/CQA_Model-2_Final</a><br>Synced 5 W&B file(s), 0 media file(s), 0 artifact file(s) and 0 other file(s)"
      ],
      "text/plain": [
       "<IPython.core.display.HTML object>"
      ]
     },
     "metadata": {},
     "output_type": "display_data"
    },
    {
     "data": {
      "text/html": [
       "Find logs at: <code>./wandb/run-20250408_070247-u8pr4x4f/logs</code>"
      ],
      "text/plain": [
       "<IPython.core.display.HTML object>"
      ]
     },
     "metadata": {},
     "output_type": "display_data"
    }
   ],
   "source": [
    "# Train final model with best params (ARCH 2)\n",
    "best_params = study.best_params\n",
    "\n",
    "wandb.init(\n",
    "    project='CQA_Model-2_Final',\n",
    "    config={\n",
    "        **best_params,\n",
    "        'epochs': 3,\n",
    "        'embedding_dim': 300,\n",
    "        'num_classes': 5\n",
    "    },\n",
    "    name='arch2_final_run'\n",
    ")\n",
    "\n",
    "# Initialize final model with best params\n",
    "final_model = RNNClassifier(\n",
    "    hidden_dim=best_params['hidden_dim'],\n",
    "    num_layers=best_params['num_layers']\n",
    ").to(device)\n",
    "\n",
    "# Use entire training data (train + valid)\n",
    "full_train_dataset = torch.utils.data.ConcatDataset([train_ds, valid_ds])\n",
    "full_train_loader = DataLoader(\n",
    "    full_train_dataset,\n",
    "    batch_size=best_params['batch_size'],\n",
    "    shuffle=True,\n",
    "    collate_fn=rnn_collate_fn,\n",
    "    pin_memory=True\n",
    ")\n",
    "\n",
    "# Optimizer with best params\n",
    "optimizer = optim.Adam(\n",
    "    final_model.parameters(),\n",
    "    lr=best_params['lr'],\n",
    "    weight_decay=best_params['weight_decay']\n",
    ")\n",
    "\n",
    "# Train with existing function (modified for full dataset)\n",
    "def train_with_wandb_rnn_final(model, train_loader, epochs=3):\n",
    "    model.train()\n",
    "    device = next(model.parameters()).device\n",
    "    \n",
    "    loss_fn = nn.CrossEntropyLoss()\n",
    "    \n",
    "    for epoch in range(epochs):\n",
    "        model.train()\n",
    "        total_loss = 0\n",
    "        correct = 0\n",
    "        total = 0\n",
    "\n",
    "        for batch in train_loader:\n",
    "            inputs = batch['sequences'].to(device)\n",
    "            labels = batch['labels'].to(device)\n",
    "            \n",
    "            optimizer.zero_grad()\n",
    "            \n",
    "            outputs = model(inputs)\n",
    "            loss = loss_fn(outputs, labels)\n",
    "            \n",
    "            loss.backward()\n",
    "            optimizer.step()\n",
    "\n",
    "            # Metrics\n",
    "            preds = torch.argmax(outputs, dim=1)\n",
    "            correct += (preds == labels).sum().item()\n",
    "            total += labels.size(0)\n",
    "            total_loss += loss.item()\n",
    "\n",
    "        # Logging\n",
    "        avg_loss = total_loss / len(train_loader)\n",
    "        acc = correct / total\n",
    "        wandb.log({\n",
    "            'epoch': epoch+1,\n",
    "            'train_loss': avg_loss,\n",
    "            'train_acc': acc\n",
    "        })\n",
    "        print(f\"Epoch {epoch+1}/{epochs} | Loss: {avg_loss:.4f} | Acc: {acc:.4f}\")\n",
    "\n",
    "train_with_wandb_rnn_final(final_model, full_train_loader, epochs=3)\n",
    "wandb.finish()"
   ]
  },
  {
   "cell_type": "raw",
   "id": "340e211a-f826-4eaa-b00d-4d947827b646",
   "metadata": {},
   "source": [
    "EVALUATION"
   ]
  },
  {
   "cell_type": "code",
   "execution_count": 79,
   "id": "1769e0f9-bf14-479f-9be6-df60f8ec3f4a",
   "metadata": {},
   "outputs": [
    {
     "data": {
      "text/html": [
       "Tracking run with wandb version 0.19.9"
      ],
      "text/plain": [
       "<IPython.core.display.HTML object>"
      ]
     },
     "metadata": {},
     "output_type": "display_data"
    },
    {
     "data": {
      "text/html": [
       "Run data is saved locally in <code>/home/jovyan/wandb/run-20250408_075103-co4nv572</code>"
      ],
      "text/plain": [
       "<IPython.core.display.HTML object>"
      ]
     },
     "metadata": {},
     "output_type": "display_data"
    },
    {
     "data": {
      "text/html": [
       "Syncing run <strong><a href='https://wandb.ai/aditi-sharma-00073-hochschule-luzern/CQA_Model-2_Evaluation/runs/co4nv572' target=\"_blank\">arch2_final_evaluation</a></strong> to <a href='https://wandb.ai/aditi-sharma-00073-hochschule-luzern/CQA_Model-2_Evaluation' target=\"_blank\">Weights & Biases</a> (<a href='https://wandb.me/developer-guide' target=\"_blank\">docs</a>)<br>"
      ],
      "text/plain": [
       "<IPython.core.display.HTML object>"
      ]
     },
     "metadata": {},
     "output_type": "display_data"
    },
    {
     "data": {
      "text/html": [
       " View project at <a href='https://wandb.ai/aditi-sharma-00073-hochschule-luzern/CQA_Model-2_Evaluation' target=\"_blank\">https://wandb.ai/aditi-sharma-00073-hochschule-luzern/CQA_Model-2_Evaluation</a>"
      ],
      "text/plain": [
       "<IPython.core.display.HTML object>"
      ]
     },
     "metadata": {},
     "output_type": "display_data"
    },
    {
     "data": {
      "text/html": [
       " View run at <a href='https://wandb.ai/aditi-sharma-00073-hochschule-luzern/CQA_Model-2_Evaluation/runs/co4nv572' target=\"_blank\">https://wandb.ai/aditi-sharma-00073-hochschule-luzern/CQA_Model-2_Evaluation/runs/co4nv572</a>"
      ],
      "text/plain": [
       "<IPython.core.display.HTML object>"
      ]
     },
     "metadata": {},
     "output_type": "display_data"
    },
    {
     "name": "stdout",
     "output_type": "stream",
     "text": [
      "Test Accuracy: 0.1908\n",
      "Precision: 0.1807\n",
      "Recall: 0.1937\n",
      "F1 Score: 0.0991\n"
     ]
    },
    {
     "data": {
      "text/html": [],
      "text/plain": [
       "<IPython.core.display.HTML object>"
      ]
     },
     "metadata": {},
     "output_type": "display_data"
    },
    {
     "data": {
      "text/html": [
       "<br>    <style><br>        .wandb-row {<br>            display: flex;<br>            flex-direction: row;<br>            flex-wrap: wrap;<br>            justify-content: flex-start;<br>            width: 100%;<br>        }<br>        .wandb-col {<br>            display: flex;<br>            flex-direction: column;<br>            flex-basis: 100%;<br>            flex: 1;<br>            padding: 10px;<br>        }<br>    </style><br><div class=\"wandb-row\"><div class=\"wandb-col\"><h3>Run history:</h3><br/><table class=\"wandb\"><tr><td>accuracy</td><td>▁</td></tr><tr><td>f1</td><td>▁</td></tr><tr><td>precision</td><td>▁</td></tr><tr><td>recall</td><td>▁</td></tr></table><br/></div><div class=\"wandb-col\"><h3>Run summary:</h3><br/><table class=\"wandb\"><tr><td>accuracy</td><td>0.19083</td></tr><tr><td>f1</td><td>0.09911</td></tr><tr><td>precision</td><td>0.18072</td></tr><tr><td>recall</td><td>0.19373</td></tr></table><br/></div></div>"
      ],
      "text/plain": [
       "<IPython.core.display.HTML object>"
      ]
     },
     "metadata": {},
     "output_type": "display_data"
    },
    {
     "data": {
      "text/html": [
       " View run <strong style=\"color:#cdcd00\">arch2_final_evaluation</strong> at: <a href='https://wandb.ai/aditi-sharma-00073-hochschule-luzern/CQA_Model-2_Evaluation/runs/co4nv572' target=\"_blank\">https://wandb.ai/aditi-sharma-00073-hochschule-luzern/CQA_Model-2_Evaluation/runs/co4nv572</a><br> View project at: <a href='https://wandb.ai/aditi-sharma-00073-hochschule-luzern/CQA_Model-2_Evaluation' target=\"_blank\">https://wandb.ai/aditi-sharma-00073-hochschule-luzern/CQA_Model-2_Evaluation</a><br>Synced 5 W&B file(s), 0 media file(s), 0 artifact file(s) and 0 other file(s)"
      ],
      "text/plain": [
       "<IPython.core.display.HTML object>"
      ]
     },
     "metadata": {},
     "output_type": "display_data"
    },
    {
     "data": {
      "text/html": [
       "Find logs at: <code>./wandb/run-20250408_075103-co4nv572/logs</code>"
      ],
      "text/plain": [
       "<IPython.core.display.HTML object>"
      ]
     },
     "metadata": {},
     "output_type": "display_data"
    }
   ],
   "source": [
    "from sklearn.metrics import precision_recall_fscore_support, accuracy_score\n",
    "\n",
    "# Initialize W&B for logging\n",
    "wandb.init(\n",
    "    project='CQA_Model-2_Evaluation',\n",
    "    config={\n",
    "        'model_type': 'RNN',\n",
    "        'test_batch_size': 32,\n",
    "        'embedding_dim': 300,\n",
    "        'num_classes': 5\n",
    "    },\n",
    "    name='arch2_final_evaluation'\n",
    ")\n",
    "\n",
    "# Prediction on test set\n",
    "final_model.eval()\n",
    "y_true = []\n",
    "y_pred = []\n",
    "final_model.to(device)\n",
    "\n",
    "with torch.no_grad():\n",
    "    for batch in test_loader:\n",
    "        inputs = batch['sequences'].to(device)\n",
    "        targets = batch['labels'].to(device)\n",
    "        \n",
    "        outputs = final_model(inputs)\n",
    "        _, predicted = outputs.max(dim=1)\n",
    "        \n",
    "        y_true.extend(targets.cpu().numpy())\n",
    "        y_pred.extend(predicted.cpu().numpy())\n",
    "\n",
    "# Compute metrics\n",
    "accuracy = accuracy_score(y_true, y_pred)\n",
    "precision, recall, f1, _ = precision_recall_fscore_support(y_true, y_pred, average='macro')\n",
    "\n",
    "# Log to W&B\n",
    "wandb.log({\n",
    "    \"accuracy\": accuracy,\n",
    "    \"precision\": precision,\n",
    "    \"recall\": recall,\n",
    "    \"f1\": f1\n",
    "})\n",
    "\n",
    "print(f\"Test Accuracy: {accuracy:.4f}\")\n",
    "print(f\"Precision: {precision:.4f}\")\n",
    "print(f\"Recall: {recall:.4f}\")\n",
    "print(f\"F1 Score: {f1:.4f}\")\n",
    "\n",
    "# Close W&B run\n",
    "wandb.finish()\n"
   ]
  },
  {
   "cell_type": "code",
   "execution_count": 80,
   "id": "a0da0be5-fbcb-423a-b23d-88bf6e04c196",
   "metadata": {},
   "outputs": [],
   "source": [
    "misclassified = []\n",
    "with torch.no_grad():\n",
    "    for batch in test_loader:\n",
    "        inputs = batch['sequences'].to(device)\n",
    "        targets = batch['labels'].to(device)\n",
    "        \n",
    "        outputs = final_model(inputs)\n",
    "        _, predicted = outputs.max(dim=1)\n",
    "        \n",
    "        incorrect_indices = (predicted != targets).nonzero(as_tuple=True)[0]\n",
    "        \n",
    "        for idx in incorrect_indices:\n",
    "            misclassified.append((\n",
    "                inputs[idx].cpu().numpy(),  # Full sequence (5,seq,300)\n",
    "                targets[idx].cpu().numpy(),\n",
    "                predicted[idx].cpu().numpy()\n",
    "            ))\n"
   ]
  },
  {
   "cell_type": "code",
   "execution_count": 81,
   "id": "288669fa-daff-4a67-8337-526358fa535a",
   "metadata": {},
   "outputs": [
    {
     "data": {
      "image/png": "[encoded data removed]",
      "text/plain": [
       "<Figure size 800x600 with 2 Axes>"
      ]
     },
     "metadata": {},
     "output_type": "display_data"
    }
   ],
   "source": [
    "from sklearn.metrics import confusion_matrix\n",
    "import seaborn as sns\n",
    "\n",
    "cm = confusion_matrix(y_true, y_pred)\n",
    "plt.figure(figsize=(8,6))\n",
    "sns.heatmap(cm, annot=True, fmt='d', cmap='Blues',\n",
    "            xticklabels=['A','B','C','D','E'],\n",
    "            yticklabels=['A','B','C','D','E'])\n",
    "plt.title('ARCH2 Confusion Matrix')\n",
    "plt.show()\n"
   ]
  },
  {
   "cell_type": "code",
   "execution_count": null,
   "id": "78d338d0-852d-47a0-ac1c-8a637424d90e",
   "metadata": {},
   "outputs": [],
   "source": [
    "INTERPRETATION-"
   ]
  },
  {
   "cell_type": "raw",
   "id": "62cc2164-ee83-45a5-84e3-81da646c3475",
   "metadata": {},
   "source": [
    "The model struggles to correctly identify relevant instances across all classes. The confusion matrix shows the model has a strong bias towards predicting class 'A,' regardless of the actual true label. Very few instances of other classes are correctly classified. This indicates a significant problem with the model's ability to learn the underlying patterns in the data."
   ]
  },
  {
   "cell_type": "code",
   "execution_count": null,
   "id": "c12531e0-a9e9-42ee-aac7-c9bc8c37e4a4",
   "metadata": {},
   "outputs": [],
   "source": [
    "CONCLUSION"
   ]
  },
  {
   "cell_type": "raw",
   "id": "486daad3-066f-4fcd-bc1f-b0433ac9cb90",
   "metadata": {},
   "source": [
    "Both Model 1 and 2 demonstrate poor performance on the commonsense question-answering task, with accuracy scores of 20.56% and 19.08%, respectively. Model 1 exhibits low precision (7.20%) but a relatively higher recall (19.70%), indicating that while it captures a considerable portion of the relevant instances, it also produces a high number of false positives. In contrast, Model 2 shows a slightly improved precision (18.07%) with a comparable recall (19.37%), but its F1-score remains low due to the low precision. The primary limitation of both models lies in their inability to accurately discern the correct answer choice given the question and context. The provided confusion matrix for ARCH2 further reveals a strong bias towards predicting class 'A,' indicating a significant deficiency in learning the nuances of the task. Efforts should focus on architectural improvements, refined training methodologies, and more effective hyperparameter tuning to address these shortcomings and enhance performance."
   ]
  },
  {
   "cell_type": "raw",
   "id": "733a1e6b-5e01-41a6-aee0-6f743cf0d646",
   "metadata": {},
   "source": [
    "Scope for Improvement- Attention Mechanisms: Supplementing the RNN with attention mechanisms might allow the model to focus on the most relevant parts of the input sequence, improving its ability to handle non-sequential relationships."
   ]
  },
  {
   "cell_type": "raw",
   "id": "2bbe4231-b50d-4117-8225-3062147c8d6a",
   "metadata": {},
   "source": []
  },
  {
   "cell_type": "raw",
   "id": "095ab20b-a35b-483f-9c2f-16a3b4a98307",
   "metadata": {},
   "source": [
    "Tools used for debugging and code completion : ChatGPT and Perplexity AI\n",
    "Project Discussion notes from ilias referred."
   ]
  },
  {
   "cell_type": "raw",
   "id": "5bd0212b-612a-44ef-b54d-9b0d2a3c0db7",
   "metadata": {},
   "source": [
    "thankyou"
   ]
  }
 ],
 "metadata": {
  "kernelspec": {
   "display_name": "Python 3 (ipykernel)",
   "language": "python",
   "name": "python3"
  },
  "language_info": {
   "codemirror_mode": {
    "name": "ipython",
    "version": 3
   },
   "file_extension": ".py",
   "mimetype": "text/x-python",
   "name": "python",
   "nbconvert_exporter": "python",
   "pygments_lexer": "ipython3",
   "version": "3.12.9"
  }
 },
 "nbformat": 4,
 "nbformat_minor": 5
}
