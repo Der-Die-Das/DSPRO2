{
 "cells": [
  {
   "cell_type": "markdown",
   "metadata": {},
   "source": [
    "# Data Analysis"
   ]
  },
  {
   "cell_type": "code",
   "execution_count": null,
   "metadata": {},
   "outputs": [
    {
     "name": "stdout",
     "output_type": "stream",
     "text": [
      "Files loaded successfully.\n",
      "\n",
      "Files merged successfully.\n",
      "\n",
      "<class 'pandas.core.frame.DataFrame'>\n",
      "RangeIndex: 12102 entries, 0 to 12101\n",
      "Data columns (total 5 columns):\n",
      " #   Column            Non-Null Count  Dtype \n",
      "---  ------            --------------  ----- \n",
      " 0   id                12102 non-null  object\n",
      " 1   question          12102 non-null  object\n",
      " 2   question_concept  12102 non-null  object\n",
      " 3   choices           12102 non-null  object\n",
      " 4   answerKey         10962 non-null  object\n",
      "dtypes: object(5)\n",
      "memory usage: 472.9+ KB\n",
      "None\n",
      "                                 id  \\\n",
      "0  075e483d21c29a511267ef62bedc0461   \n",
      "1  61fe6e879ff18686d7552425a36344c8   \n",
      "2  4c1cb0e95b99f72d55c068ba0255c54d   \n",
      "3  02e821a3e53cb320790950aab4489e85   \n",
      "4  23505889b94e880c3e89cff4ba119860   \n",
      "\n",
      "                                            question question_concept  \\\n",
      "0  The sanctions against the school were a punish...        punishing   \n",
      "1  Sammy wanted to go to where the people were.  ...           people   \n",
      "2  To locate a choker not located in a jewelry bo...           choker   \n",
      "3  Google Maps and other highway and street GPS s...          highway   \n",
      "4  The fox walked from the city into the forest, ...              fox   \n",
      "\n",
      "                                             choices answerKey  \n",
      "0  ['ignore', 'enforce', 'authoritarian', 'yell a...         A  \n",
      "1  ['race track', 'populated areas', 'the desert'...         B  \n",
      "2  ['jewelry store', 'neck', 'jewlery box', 'jewe...         A  \n",
      "3  ['united states', 'mexico', 'countryside', 'at...         D  \n",
      "4  ['pretty flowers.', 'hen house', 'natural habi...         C  \n"
     ]
    }
   ],
   "source": [
    "import pandas as pd\n",
    "import matplotlib.pyplot as plt\n",
    "\n",
    "# Load each cleaned CSV file\n",
    "df_train = pd.read_csv('data/cleaned/train.csv')\n",
    "df_validation = pd.read_csv('data/cleaned/validation.csv')\n",
    "df_test = pd.read_csv('data/cleaned/test.csv')\n",
    "print(\"Files loaded successfully.\\n\")\n",
    "\n",
    "# Merge the DataFrames into one\n",
    "df = pd.concat([df_train, df_validation, df_test], ignore_index=True)\n",
    "print(\"Files merged successfully.\\n\")\n",
    "\n",
    "# Display basic info and first few rows of the merged DataFrame\n",
    "print(df.info())\n",
    "print(df.head())\n"
   ]
  },
  {
   "cell_type": "code",
   "execution_count": 45,
   "metadata": {},
   "outputs": [
    {
     "name": "stdout",
     "output_type": "stream",
     "text": [
      "Missing values per column:\n",
      "id                     0\n",
      "question               0\n",
      "question_concept       0\n",
      "choices                0\n",
      "answerKey           1140\n",
      "dtype: int64\n",
      "\n",
      "Dataframe info:\n",
      "<class 'pandas.core.frame.DataFrame'>\n",
      "RangeIndex: 12102 entries, 0 to 12101\n",
      "Data columns (total 5 columns):\n",
      " #   Column            Non-Null Count  Dtype \n",
      "---  ------            --------------  ----- \n",
      " 0   id                12102 non-null  object\n",
      " 1   question          12102 non-null  object\n",
      " 2   question_concept  12102 non-null  object\n",
      " 3   choices           12102 non-null  object\n",
      " 4   answerKey         10962 non-null  object\n",
      "dtypes: object(5)\n",
      "memory usage: 472.9+ KB\n",
      "None\n"
     ]
    }
   ],
   "source": [
    "# Check for missing values in each column\n",
    "missing_summary = df.isnull().sum()\n",
    "print(\"Missing values per column:\")\n",
    "print(missing_summary)\n",
    "print(\"\\nDataframe info:\")\n",
    "print(df.info())\n"
   ]
  },
  {
   "cell_type": "code",
   "execution_count": 46,
   "metadata": {},
   "outputs": [
    {
     "name": "stdout",
     "output_type": "stream",
     "text": [
      "Question length statistics:\n",
      "count    12102.000000\n",
      "mean        69.406379\n",
      "std         29.545780\n",
      "min         15.000000\n",
      "25%         48.000000\n",
      "50%         64.000000\n",
      "75%         84.000000\n",
      "max        376.000000\n",
      "Name: question_length, dtype: float64\n",
      "\n",
      "AnswerKey distribution:\n",
      "answerKey\n",
      "D    2236\n",
      "B    2228\n",
      "C    2187\n",
      "E    2163\n",
      "A    2148\n",
      "Name: count, dtype: int64\n"
     ]
    }
   ],
   "source": [
    "# Compute the length of the question text\n",
    "df['question_length'] = df['question'].apply(lambda x: len(str(x)))\n",
    "\n",
    "print(\"Question length statistics:\")\n",
    "print(df['question_length'].describe())\n",
    "\n",
    "# Distribution of answer keys\n",
    "print(\"\\nAnswerKey distribution:\")\n",
    "print(df['answerKey'].value_counts())\n"
   ]
  },
  {
   "cell_type": "code",
   "execution_count": 47,
   "metadata": {},
   "outputs": [
    {
     "name": "stdout",
     "output_type": "stream",
     "text": [
      "Number of unique question_concepts: 2231\n",
      "Head of unique question_concepts with counts:\n",
      "question_concept\n",
      "person    351\n",
      "people    227\n",
      "human      94\n",
      "water      62\n",
      "cat        56\n",
      "Name: count, dtype: int64\n"
     ]
    }
   ],
   "source": [
    "concept_counts = df['question_concept'].value_counts()\n",
    "\n",
    "\n",
    "unique_concept_count = df['question_concept'].nunique()\n",
    "print(\"Number of unique question_concepts:\", unique_concept_count)\n",
    "\n",
    "print(\"Head of unique question_concepts with counts:\")\n",
    "print(concept_counts.head())"
   ]
  },
  {
   "cell_type": "code",
   "execution_count": 48,
   "metadata": {},
   "outputs": [
    {
     "data": {
      "image/png": "[encoded data removed]",
      "text/plain": [
       "<Figure size 1000x600 with 1 Axes>"
      ]
     },
     "metadata": {},
     "output_type": "display_data"
    }
   ],
   "source": [
    "import matplotlib.pyplot as plt\n",
    "\n",
    "# Get value counts sorted descending\n",
    "concept_counts = df['question_concept'].value_counts()\n",
    "\n",
    "# Define number of top concepts to show\n",
    "top_n = 20\n",
    "top_concepts = concept_counts.head(top_n)\n",
    "\n",
    "plt.figure(figsize=(10, 6))\n",
    "top_concepts.sort_values(ascending=False).plot(kind='bar')\n",
    "plt.xlabel(\"Question Concept\")\n",
    "plt.ylabel(\"Count\")\n",
    "plt.title(\"Top 10 Question Concepts by Count\")\n",
    "plt.tight_layout()\n",
    "plt.show()\n"
   ]
  },
  {
   "cell_type": "code",
   "execution_count": null,
   "metadata": {},
   "outputs": [],
   "source": []
  }
 ],
 "metadata": {
  "kernelspec": {
   "display_name": "venv",
   "language": "python",
   "name": "python3"
  },
  "language_info": {
   "name": "python",
   "version": "3.11.5"
  }
 },
 "nbformat": 4,
 "nbformat_minor": 2
}
