{
 "cells": [
  {
   "cell_type": "raw",
   "id": "1cd1548f-f43a-4c6d-a21d-6a07860ddfea",
   "metadata": {},
   "source": [
    "Introduction: \n",
    "\n",
    "• Executive summary of project :\n",
    "• Experiment tracking link : https://wandb.ai/aditi-sharma-00073-hochschule-luzern/\n"
   ]
  },
  {
   "cell_type": "code",
   "execution_count": null,
   "id": "dc589b31-04c3-4ce7-b584-3511ab353a24",
   "metadata": {},
   "outputs": [],
   "source": [
    "Part-1 : Transformers"
   ]
  },
  {
   "cell_type": "raw",
   "id": "737d796e-2010-4689-9746-100cf4e750a8",
   "metadata": {},
   "source": [
    "Setup"
   ]
  },
  {
   "cell_type": "code",
   "execution_count": 2,
   "id": "165719fe-16f1-4dd4-8554-d371345b552e",
   "metadata": {},
   "outputs": [
    {
     "name": "stdout",
     "output_type": "stream",
     "text": [
      "Requirement already satisfied: datasets in /opt/conda/lib/python3.12/site-packages (3.6.0)\n",
      "Requirement already satisfied: wandb in /opt/conda/lib/python3.12/site-packages (0.19.11)\n",
      "Requirement already satisfied: transformers in /opt/conda/lib/python3.12/site-packages (4.51.3)\n",
      "Requirement already satisfied: filelock in /opt/conda/lib/python3.12/site-packages (from datasets) (3.13.1)\n",
      "Requirement already satisfied: numpy>=1.17 in /opt/conda/lib/python3.12/site-packages (from datasets) (2.1.3)\n",
      "Requirement already satisfied: pyarrow>=15.0.0 in /opt/conda/lib/python3.12/site-packages (from datasets) (19.0.1)\n",
      "Requirement already satisfied: dill<0.3.9,>=0.3.0 in /opt/conda/lib/python3.12/site-packages (from datasets) (0.3.8)\n",
      "Requirement already satisfied: pandas in /opt/conda/lib/python3.12/site-packages (from datasets) (2.2.3)\n",
      "Requirement already satisfied: requests>=2.32.2 in /opt/conda/lib/python3.12/site-packages (from datasets) (2.32.3)\n",
      "Requirement already satisfied: tqdm>=4.66.3 in /opt/conda/lib/python3.12/site-packages (from datasets) (4.67.1)\n",
      "Requirement already satisfied: xxhash in /opt/conda/lib/python3.12/site-packages (from datasets) (3.5.0)\n",
      "Requirement already satisfied: multiprocess<0.70.17 in /opt/conda/lib/python3.12/site-packages (from datasets) (0.70.16)\n",
      "Requirement already satisfied: fsspec<=2025.3.0,>=2023.1.0 in /opt/conda/lib/python3.12/site-packages (from fsspec[http]<=2025.3.0,>=2023.1.0->datasets) (2025.3.0)\n",
      "Requirement already satisfied: huggingface-hub>=0.24.0 in /opt/conda/lib/python3.12/site-packages (from datasets) (0.31.2)\n",
      "Requirement already satisfied: packaging in /opt/conda/lib/python3.12/site-packages (from datasets) (24.2)\n",
      "Requirement already satisfied: pyyaml>=5.1 in /opt/conda/lib/python3.12/site-packages (from datasets) (6.0.2)\n",
      "Requirement already satisfied: click!=8.0.0,>=7.1 in /opt/conda/lib/python3.12/site-packages (from wandb) (8.1.8)\n",
      "Requirement already satisfied: docker-pycreds>=0.4.0 in /opt/conda/lib/python3.12/site-packages (from wandb) (0.4.0)\n",
      "Requirement already satisfied: gitpython!=3.1.29,>=1.0.0 in /opt/conda/lib/python3.12/site-packages (from wandb) (3.1.44)\n",
      "Requirement already satisfied: platformdirs in /opt/conda/lib/python3.12/site-packages (from wandb) (4.3.6)\n",
      "Requirement already satisfied: protobuf!=4.21.0,!=5.28.0,<7,>=3.19.0 in /opt/conda/lib/python3.12/site-packages (from wandb) (5.28.3)\n",
      "Requirement already satisfied: psutil>=5.0.0 in /opt/conda/lib/python3.12/site-packages (from wandb) (7.0.0)\n",
      "Requirement already satisfied: pydantic<3 in /opt/conda/lib/python3.12/site-packages (from wandb) (2.10.6)\n",
      "Requirement already satisfied: sentry-sdk>=2.0.0 in /opt/conda/lib/python3.12/site-packages (from wandb) (2.28.0)\n",
      "Requirement already satisfied: setproctitle in /opt/conda/lib/python3.12/site-packages (from wandb) (1.3.6)\n",
      "Requirement already satisfied: setuptools in /opt/conda/lib/python3.12/site-packages (from wandb) (75.8.2)\n",
      "Requirement already satisfied: typing-extensions<5,>=4.4 in /opt/conda/lib/python3.12/site-packages (from wandb) (4.12.2)\n",
      "Requirement already satisfied: regex!=2019.12.17 in /opt/conda/lib/python3.12/site-packages (from transformers) (2024.11.6)\n",
      "Requirement already satisfied: tokenizers<0.22,>=0.21 in /opt/conda/lib/python3.12/site-packages (from transformers) (0.21.1)\n",
      "Requirement already satisfied: safetensors>=0.4.3 in /opt/conda/lib/python3.12/site-packages (from transformers) (0.5.3)\n",
      "Requirement already satisfied: six>=1.4.0 in /opt/conda/lib/python3.12/site-packages (from docker-pycreds>=0.4.0->wandb) (1.17.0)\n",
      "Requirement already satisfied: aiohttp!=4.0.0a0,!=4.0.0a1 in /opt/conda/lib/python3.12/site-packages (from fsspec[http]<=2025.3.0,>=2023.1.0->datasets) (3.11.18)\n",
      "Requirement already satisfied: gitdb<5,>=4.0.1 in /opt/conda/lib/python3.12/site-packages (from gitpython!=3.1.29,>=1.0.0->wandb) (4.0.12)\n",
      "Requirement already satisfied: annotated-types>=0.6.0 in /opt/conda/lib/python3.12/site-packages (from pydantic<3->wandb) (0.7.0)\n",
      "Requirement already satisfied: pydantic-core==2.27.2 in /opt/conda/lib/python3.12/site-packages (from pydantic<3->wandb) (2.27.2)\n",
      "Requirement already satisfied: charset_normalizer<4,>=2 in /opt/conda/lib/python3.12/site-packages (from requests>=2.32.2->datasets) (3.4.1)\n",
      "Requirement already satisfied: idna<4,>=2.5 in /opt/conda/lib/python3.12/site-packages (from requests>=2.32.2->datasets) (3.10)\n",
      "Requirement already satisfied: urllib3<3,>=1.21.1 in /opt/conda/lib/python3.12/site-packages (from requests>=2.32.2->datasets) (2.3.0)\n",
      "Requirement already satisfied: certifi>=2017.4.17 in /opt/conda/lib/python3.12/site-packages (from requests>=2.32.2->datasets) (2025.1.31)\n",
      "Requirement already satisfied: python-dateutil>=2.8.2 in /opt/conda/lib/python3.12/site-packages (from pandas->datasets) (2.9.0.post0)\n",
      "Requirement already satisfied: pytz>=2020.1 in /opt/conda/lib/python3.12/site-packages (from pandas->datasets) (2024.1)\n",
      "Requirement already satisfied: tzdata>=2022.7 in /opt/conda/lib/python3.12/site-packages (from pandas->datasets) (2025.1)\n",
      "Requirement already satisfied: aiohappyeyeballs>=2.3.0 in /opt/conda/lib/python3.12/site-packages (from aiohttp!=4.0.0a0,!=4.0.0a1->fsspec[http]<=2025.3.0,>=2023.1.0->datasets) (2.6.1)\n",
      "Requirement already satisfied: aiosignal>=1.1.2 in /opt/conda/lib/python3.12/site-packages (from aiohttp!=4.0.0a0,!=4.0.0a1->fsspec[http]<=2025.3.0,>=2023.1.0->datasets) (1.3.2)\n",
      "Requirement already satisfied: attrs>=17.3.0 in /opt/conda/lib/python3.12/site-packages (from aiohttp!=4.0.0a0,!=4.0.0a1->fsspec[http]<=2025.3.0,>=2023.1.0->datasets) (25.1.0)\n",
      "Requirement already satisfied: frozenlist>=1.1.1 in /opt/conda/lib/python3.12/site-packages (from aiohttp!=4.0.0a0,!=4.0.0a1->fsspec[http]<=2025.3.0,>=2023.1.0->datasets) (1.6.0)\n",
      "Requirement already satisfied: multidict<7.0,>=4.5 in /opt/conda/lib/python3.12/site-packages (from aiohttp!=4.0.0a0,!=4.0.0a1->fsspec[http]<=2025.3.0,>=2023.1.0->datasets) (6.4.3)\n",
      "Requirement already satisfied: propcache>=0.2.0 in /opt/conda/lib/python3.12/site-packages (from aiohttp!=4.0.0a0,!=4.0.0a1->fsspec[http]<=2025.3.0,>=2023.1.0->datasets) (0.3.1)\n",
      "Requirement already satisfied: yarl<2.0,>=1.17.0 in /opt/conda/lib/python3.12/site-packages (from aiohttp!=4.0.0a0,!=4.0.0a1->fsspec[http]<=2025.3.0,>=2023.1.0->datasets) (1.20.0)\n",
      "Requirement already satisfied: smmap<6,>=3.0.1 in /opt/conda/lib/python3.12/site-packages (from gitdb<5,>=4.0.1->gitpython!=3.1.29,>=1.0.0->wandb) (5.0.2)\n"
     ]
    }
   ],
   "source": [
    "!pip install datasets wandb transformers"
   ]
  },
  {
   "cell_type": "code",
   "execution_count": 3,
   "id": "927f0d39-152e-4cee-a166-3545908eef7a",
   "metadata": {},
   "outputs": [],
   "source": [
    "import numpy as np\n",
    "import pandas as pd\n",
    "import torch\n",
    "import torch.nn as nn\n",
    "import torch.optim as optim\n",
    "from torch.utils.data import DataLoader, Dataset\n",
    "from sklearn.metrics import accuracy_score, classification_report, confusion_matrix\n",
    "import matplotlib.pyplot as plt\n",
    "import seaborn as sns\n",
    "import torch.nn.functional as F\n",
    "from datasets import load_dataset\n",
    "import random\n",
    "import os"
   ]
  },
  {
   "cell_type": "raw",
   "id": "fe90ef71-3dad-4fda-926b-b8bd5e20723a",
   "metadata": {},
   "source": [
    "Dataset "
   ]
  },
  {
   "cell_type": "code",
   "execution_count": 4,
   "id": "20948d76-bf27-42e6-a7a1-c0b9ea54182a",
   "metadata": {},
   "outputs": [],
   "source": [
    "# Standard splits\n",
    "train_dataset = load_dataset(\"tau/commonsense_qa\", split=\"train[:-1000]\")\n",
    "valid_dataset = load_dataset(\"tau/commonsense_qa\", split=\"train[-1000:]\")\n",
    "test_dataset  = load_dataset(\"tau/commonsense_qa\", split=\"validation\")"
   ]
  },
  {
   "cell_type": "raw",
   "id": "6168bd24-264c-4a46-8fd4-516e4386d736",
   "metadata": {},
   "source": [
    "Preprocessing"
   ]
  },
  {
   "cell_type": "code",
   "execution_count": 5,
   "id": "a013ab90-80fc-446a-9abf-bf9f25da554b",
   "metadata": {},
   "outputs": [],
   "source": [
    "label_map = {'A': 0, 'B': 1, 'C': 2, 'D': 3, 'E': 4}\n",
    "\n",
    "def preprocess_example(example):\n",
    "    question = example[\"question\"]\n",
    "    choices = example[\"choices\"][\"text\"]\n",
    "    input_texts = [f\"{question} {choice}\" for choice in choices]\n",
    "    label = label_map[example[\"answerKey\"]]\n",
    "    return {\"input_texts\": input_texts, \"label\": label}\n",
    "\n",
    "train_dataset = train_dataset.map(preprocess_example)\n",
    "valid_dataset = valid_dataset.map(preprocess_example)\n",
    "test_dataset  = test_dataset.map(preprocess_example)\n"
   ]
  },
  {
   "cell_type": "code",
   "execution_count": 12,
   "id": "68b31a98-2f99-46a5-b442-a7673ccdf6af",
   "metadata": {},
   "outputs": [],
   "source": [
    "from transformers import AutoTokenizer\n",
    "tokenizer = AutoTokenizer.from_pretrained(\"albert-base-v2\")"
   ]
  },
  {
   "cell_type": "code",
   "execution_count": 13,
   "id": "864fe257-50e6-489e-8efe-4218636860a6",
   "metadata": {},
   "outputs": [
    {
     "name": "stdout",
     "output_type": "stream",
     "text": [
      "Maximum tokenized input length (question + answer): 73\n"
     ]
    }
   ],
   "source": [
    "max_tokens = 0\n",
    "for row in train_dataset:\n",
    "    for ans in row['choices']['text']:\n",
    "        tokens = tokenizer.encode(row['question'], ans)\n",
    "        if len(tokens) > max_tokens:\n",
    "            max_tokens = len(tokens)\n",
    "print(f\"Maximum tokenized input length (question + answer): {max_tokens}\")"
   ]
  },
  {
   "cell_type": "code",
   "execution_count": 14,
   "id": "c888f3f2-e8ff-46da-9f27-1cf530d8897a",
   "metadata": {},
   "outputs": [],
   "source": [
    "class CommonsenseQADataset(Dataset):\n",
    "    def __init__(self, hf_dataset, tokenizer, max_length=80):\n",
    "        self.dataset = hf_dataset\n",
    "        self.tokenizer = tokenizer\n",
    "        self.max_length = max_length\n",
    "\n",
    "    def __len__(self):\n",
    "        return len(self.dataset)\n",
    "\n",
    "    def __getitem__(self, idx):\n",
    "        item = self.dataset[idx]\n",
    "        input_texts = item[\"input_texts\"]  # List of 5 strings\n",
    "        label = item[\"label\"]\n",
    "\n",
    "        encoded = self.tokenizer(\n",
    "            input_texts,\n",
    "            padding=\"max_length\",\n",
    "            truncation=False,          \n",
    "            max_length=self.max_length,\n",
    "            return_tensors=\"pt\"\n",
    "        )\n",
    "\n",
    "        return {\n",
    "            \"input_ids\": encoded[\"input_ids\"],           # shape: [5, seq_len]\n",
    "            \"attention_mask\": encoded[\"attention_mask\"], # shape: [5, seq_len]\n",
    "            \"label\": torch.tensor(label)\n",
    "        }\n"
   ]
  },
  {
   "cell_type": "raw",
   "id": "cbfd2808-2123-41cf-b4c3-f0c64ef941cd",
   "metadata": {},
   "source": [
    "As the max tokenized length is 73, we keep max_length = 80"
   ]
  },
  {
   "cell_type": "code",
   "execution_count": 15,
   "id": "ebb0f0b3-28d6-408b-8608-74ababbccdcd",
   "metadata": {},
   "outputs": [],
   "source": [
    "max_length = 80\n",
    "\n",
    "train_data = CommonsenseQADataset(train_dataset, tokenizer, max_length=max_length)\n",
    "valid_data = CommonsenseQADataset(valid_dataset, tokenizer, max_length=max_length)\n",
    "test_data  = CommonsenseQADataset(test_dataset, tokenizer, max_length=max_length)\n",
    "\n",
    "from torch.utils.data import DataLoader\n",
    "\n",
    "train_loader = DataLoader(train_data, batch_size=16, shuffle=True)\n",
    "valid_loader = DataLoader(valid_data, batch_size=16)\n",
    "test_loader  = DataLoader(test_data, batch_size=16)"
   ]
  },
  {
   "cell_type": "raw",
   "id": "3b01fb17-d79d-4992-8d20-105f33840d56",
   "metadata": {},
   "source": [
    "Model- : AlbertForMultipleChoice - with Pretrained weights"
   ]
  },
  {
   "cell_type": "code",
   "execution_count": 7,
   "id": "6f931016-8381-49da-85ff-acbfda51d98d",
   "metadata": {},
   "outputs": [
    {
     "name": "stderr",
     "output_type": "stream",
     "text": [
      "Some weights of AlbertForMultipleChoice were not initialized from the model checkpoint at albert-base-v2 and are newly initialized: ['classifier.bias', 'classifier.weight']\n",
      "You should probably TRAIN this model on a down-stream task to be able to use it for predictions and inference.\n"
     ]
    }
   ],
   "source": [
    "from transformers import AlbertForMultipleChoice\n",
    "\n",
    "device = torch.device(\"cuda\" if torch.cuda.is_available() else \"cpu\")\n",
    "model = AlbertForMultipleChoice.from_pretrained(\"albert-base-v2\").to(device)\n"
   ]
  },
  {
   "cell_type": "code",
   "execution_count": 8,
   "id": "63d23f51-31fb-4ac0-96e3-c2b7adfb7f89",
   "metadata": {},
   "outputs": [
    {
     "name": "stdout",
     "output_type": "stream",
     "text": [
      "tensor([ 0.0127,  0.0599, -0.0681, -0.0549, -0.0151], device='cuda:0',\n",
      "       grad_fn=<SliceBackward0>)\n"
     ]
    }
   ],
   "source": [
    "print(model.albert.embeddings.word_embeddings.weight[0][:5])"
   ]
  },
  {
   "cell_type": "code",
   "execution_count": 17,
   "id": "17224ae2-4d22-4490-894d-4e4370232435",
   "metadata": {},
   "outputs": [],
   "source": [
    "import torch.nn as nn\n",
    "\n",
    "def train_epoch(model, dataloader, optimizer, loss_fn, device):\n",
    "    model.train()\n",
    "    total_loss, correct, total = 0, 0, 0\n",
    "    for batch in dataloader:\n",
    "        input_ids = batch['input_ids'].to(device)\n",
    "        attention_mask = batch['attention_mask'].to(device)\n",
    "        labels = batch['label'].to(device)\n",
    "\n",
    "        optimizer.zero_grad()\n",
    "        logits = model(input_ids=input_ids, attention_mask=attention_mask).logits\n",
    "        loss = loss_fn(logits, labels)\n",
    "        loss.backward()\n",
    "        torch.nn.utils.clip_grad_norm_(model.parameters(), max_norm=1.0)\n",
    "        optimizer.step()\n",
    "\n",
    "        total_loss += loss.item() * input_ids.size(0)\n",
    "        preds = torch.argmax(logits, dim=1)\n",
    "        correct += (preds == labels).sum().item()\n",
    "        total += input_ids.size(0)\n",
    "    return total_loss / total, correct / total\n",
    "\n",
    "def eval_epoch(model, dataloader, loss_fn, device):\n",
    "    model.eval()\n",
    "    total_loss, correct, total = 0, 0, 0\n",
    "    with torch.no_grad():\n",
    "        for batch in dataloader:\n",
    "            input_ids = batch['input_ids'].to(device)\n",
    "            attention_mask = batch['attention_mask'].to(device)\n",
    "            labels = batch['label'].to(device)\n",
    "\n",
    "            logits = model(input_ids=input_ids, attention_mask=attention_mask).logits\n",
    "            loss = loss_fn(logits, labels)\n",
    "\n",
    "            total_loss += loss.item() * input_ids.size(0)\n",
    "            preds = torch.argmax(logits, dim=1)\n",
    "            correct += (preds == labels).sum().item()\n",
    "            total += input_ids.size(0)\n",
    "    return total_loss / total, correct / total\n"
   ]
  },
  {
   "cell_type": "raw",
   "id": "c84fb007-3207-470a-8de1-fd83d942ba95",
   "metadata": {},
   "source": [
    "Hyperparameter Tuning"
   ]
  },
  {
   "cell_type": "code",
   "execution_count": null,
   "id": "9fdcdd04-a290-4670-aa0b-53ac389f2346",
   "metadata": {
    "scrolled": true
   },
   "outputs": [
    {
     "name": "stderr",
     "output_type": "stream",
     "text": [
      "\u001b[34m\u001b[1mwandb\u001b[0m: \u001b[32m\u001b[41mERROR\u001b[0m Failed to detect the name of this notebook. You can set it manually with the WANDB_NOTEBOOK_NAME environment variable to enable code saving.\n",
      "\u001b[34m\u001b[1mwandb\u001b[0m: Currently logged in as: \u001b[33maditi-sharma-00073\u001b[0m (\u001b[33maditi-sharma-00073-hochschule-luzern\u001b[0m) to \u001b[32mhttps://api.wandb.ai\u001b[0m. Use \u001b[1m`wandb login --relogin`\u001b[0m to force relogin\n"
     ]
    },
    {
     "data": {
      "text/html": [
       "Tracking run with wandb version 0.19.11"
      ],
      "text/plain": [
       "<IPython.core.display.HTML object>"
      ]
     },
     "metadata": {},
     "output_type": "display_data"
    },
    {
     "data": {
      "text/html": [
       "Run data is saved locally in <code>/home/jovyan/wandb/run-20250515_012026-4tsc57ua</code>"
      ],
      "text/plain": [
       "<IPython.core.display.HTML object>"
      ]
     },
     "metadata": {},
     "output_type": "display_data"
    },
    {
     "data": {
      "text/html": [
       "Syncing run <strong><a href='https://wandb.ai/aditi-sharma-00073-hochschule-luzern/commonsenseqa_albert_sweep/runs/4tsc57ua' target=\"_blank\">albert_run_1</a></strong> to <a href='https://wandb.ai/aditi-sharma-00073-hochschule-luzern/commonsenseqa_albert_sweep' target=\"_blank\">Weights & Biases</a> (<a href='https://wandb.me/developer-guide' target=\"_blank\">docs</a>)<br>"
      ],
      "text/plain": [
       "<IPython.core.display.HTML object>"
      ]
     },
     "metadata": {},
     "output_type": "display_data"
    },
    {
     "data": {
      "text/html": [
       " View project at <a href='https://wandb.ai/aditi-sharma-00073-hochschule-luzern/commonsenseqa_albert_sweep' target=\"_blank\">https://wandb.ai/aditi-sharma-00073-hochschule-luzern/commonsenseqa_albert_sweep</a>"
      ],
      "text/plain": [
       "<IPython.core.display.HTML object>"
      ]
     },
     "metadata": {},
     "output_type": "display_data"
    },
    {
     "data": {
      "text/html": [
       " View run at <a href='https://wandb.ai/aditi-sharma-00073-hochschule-luzern/commonsenseqa_albert_sweep/runs/4tsc57ua' target=\"_blank\">https://wandb.ai/aditi-sharma-00073-hochschule-luzern/commonsenseqa_albert_sweep/runs/4tsc57ua</a>"
      ],
      "text/plain": [
       "<IPython.core.display.HTML object>"
      ]
     },
     "metadata": {},
     "output_type": "display_data"
    },
    {
     "name": "stderr",
     "output_type": "stream",
     "text": [
      "Some weights of AlbertForMultipleChoice were not initialized from the model checkpoint at albert-base-v2 and are newly initialized: ['classifier.bias', 'classifier.weight']\n",
      "You should probably TRAIN this model on a down-stream task to be able to use it for predictions and inference.\n"
     ]
    },
    {
     "data": {
      "text/html": [],
      "text/plain": [
       "<IPython.core.display.HTML object>"
      ]
     },
     "metadata": {},
     "output_type": "display_data"
    },
    {
     "data": {
      "text/html": [
       "<br>    <style><br>        .wandb-row {<br>            display: flex;<br>            flex-direction: row;<br>            flex-wrap: wrap;<br>            justify-content: flex-start;<br>            width: 100%;<br>        }<br>        .wandb-col {<br>            display: flex;<br>            flex-direction: column;<br>            flex-basis: 100%;<br>            flex: 1;<br>            padding: 10px;<br>        }<br>    </style><br><div class=\"wandb-row\"><div class=\"wandb-col\"><h3>Run history:</h3><br/><table class=\"wandb\"><tr><td>epoch</td><td>▁▃▅▆█</td></tr><tr><td>train_accuracy</td><td>▁██▅▂</td></tr><tr><td>train_loss</td><td>█▁▂▁▂</td></tr><tr><td>val_accuracy</td><td>▆▁▆█▆</td></tr><tr><td>val_loss</td><td>▁▆▁▅█</td></tr></table><br/></div><div class=\"wandb-col\"><h3>Run summary:</h3><br/><table class=\"wandb\"><tr><td>epoch</td><td>5</td></tr><tr><td>train_accuracy</td><td>0.19403</td></tr><tr><td>train_loss</td><td>1.61119</td></tr><tr><td>val_accuracy</td><td>0.228</td></tr><tr><td>val_loss</td><td>1.60942</td></tr></table><br/></div></div>"
      ],
      "text/plain": [
       "<IPython.core.display.HTML object>"
      ]
     },
     "metadata": {},
     "output_type": "display_data"
    },
    {
     "data": {
      "text/html": [
       " View run <strong style=\"color:#cdcd00\">albert_run_1</strong> at: <a href='https://wandb.ai/aditi-sharma-00073-hochschule-luzern/commonsenseqa_albert_sweep/runs/4tsc57ua' target=\"_blank\">https://wandb.ai/aditi-sharma-00073-hochschule-luzern/commonsenseqa_albert_sweep/runs/4tsc57ua</a><br> View project at: <a href='https://wandb.ai/aditi-sharma-00073-hochschule-luzern/commonsenseqa_albert_sweep' target=\"_blank\">https://wandb.ai/aditi-sharma-00073-hochschule-luzern/commonsenseqa_albert_sweep</a><br>Synced 5 W&B file(s), 0 media file(s), 0 artifact file(s) and 0 other file(s)"
      ],
      "text/plain": [
       "<IPython.core.display.HTML object>"
      ]
     },
     "metadata": {},
     "output_type": "display_data"
    },
    {
     "data": {
      "text/html": [
       "Find logs at: <code>./wandb/run-20250515_012026-4tsc57ua/logs</code>"
      ],
      "text/plain": [
       "<IPython.core.display.HTML object>"
      ]
     },
     "metadata": {},
     "output_type": "display_data"
    },
    {
     "data": {
      "text/html": [
       "Tracking run with wandb version 0.19.11"
      ],
      "text/plain": [
       "<IPython.core.display.HTML object>"
      ]
     },
     "metadata": {},
     "output_type": "display_data"
    },
    {
     "data": {
      "text/html": [
       "Run data is saved locally in <code>/home/jovyan/wandb/run-20250515_024136-jdrc02vi</code>"
      ],
      "text/plain": [
       "<IPython.core.display.HTML object>"
      ]
     },
     "metadata": {},
     "output_type": "display_data"
    },
    {
     "data": {
      "text/html": [
       "Syncing run <strong><a href='https://wandb.ai/aditi-sharma-00073-hochschule-luzern/commonsenseqa_albert_sweep/runs/jdrc02vi' target=\"_blank\">albert_run_2</a></strong> to <a href='https://wandb.ai/aditi-sharma-00073-hochschule-luzern/commonsenseqa_albert_sweep' target=\"_blank\">Weights & Biases</a> (<a href='https://wandb.me/developer-guide' target=\"_blank\">docs</a>)<br>"
      ],
      "text/plain": [
       "<IPython.core.display.HTML object>"
      ]
     },
     "metadata": {},
     "output_type": "display_data"
    },
    {
     "data": {
      "text/html": [
       " View project at <a href='https://wandb.ai/aditi-sharma-00073-hochschule-luzern/commonsenseqa_albert_sweep' target=\"_blank\">https://wandb.ai/aditi-sharma-00073-hochschule-luzern/commonsenseqa_albert_sweep</a>"
      ],
      "text/plain": [
       "<IPython.core.display.HTML object>"
      ]
     },
     "metadata": {},
     "output_type": "display_data"
    },
    {
     "data": {
      "text/html": [
       " View run at <a href='https://wandb.ai/aditi-sharma-00073-hochschule-luzern/commonsenseqa_albert_sweep/runs/jdrc02vi' target=\"_blank\">https://wandb.ai/aditi-sharma-00073-hochschule-luzern/commonsenseqa_albert_sweep/runs/jdrc02vi</a>"
      ],
      "text/plain": [
       "<IPython.core.display.HTML object>"
      ]
     },
     "metadata": {},
     "output_type": "display_data"
    },
    {
     "name": "stderr",
     "output_type": "stream",
     "text": [
      "Some weights of AlbertForMultipleChoice were not initialized from the model checkpoint at albert-base-v2 and are newly initialized: ['classifier.bias', 'classifier.weight']\n",
      "You should probably TRAIN this model on a down-stream task to be able to use it for predictions and inference.\n"
     ]
    },
    {
     "data": {
      "text/html": [],
      "text/plain": [
       "<IPython.core.display.HTML object>"
      ]
     },
     "metadata": {},
     "output_type": "display_data"
    }
   ],
   "source": [
    "import wandb\n",
    "import itertools\n",
    "\n",
    "# Define your search space (12 combinations)\n",
    "learning_rates = [1e-5, 2e-5, 3e-5]\n",
    "dropouts = [0.1, 0.2]\n",
    "weight_decays = [0.0, 0.01]\n",
    "batch_sizes = [16, 32]\n",
    "\n",
    "search_space = list(itertools.product(learning_rates, dropouts, weight_decays, batch_sizes))\n",
    "search_space = search_space[:12]  # Only first 12 combinations\n",
    "\n",
    "device = torch.device(\"cuda\" if torch.cuda.is_available() else \"cpu\")\n",
    "num_epochs = \n",
    "\n",
    "best_val_acc = 0\n",
    "best_hparams = None\n",
    "\n",
    "for idx, (lr, dropout, wd, batch_size) in enumerate(search_space):\n",
    "    wandb.init(project=\"commonsenseqa_albert_sweep\", name=f\"albert_run_{idx+1}\", config={\n",
    "        \"learning_rate\": lr,\n",
    "        \"dropout\": dropout,\n",
    "        \"weight_decay\": wd,\n",
    "        \"batch_size\": batch_size,\n",
    "        \"epochs\": num_epochs,\n",
    "        \"model\": \"albert-base-v2\"\n",
    "    })\n",
    "    # Redefine DataLoaders for batch_size\n",
    "    train_loader = DataLoader(train_data, batch_size=batch_size, shuffle=True)\n",
    "    valid_loader = DataLoader(valid_data, batch_size=batch_size)\n",
    "    \n",
    "    # Model with dropout override (if needed)\n",
    "    model = get_albert_model(pretrained=True).to(device)\n",
    "    for name, module in model.named_modules():\n",
    "        if isinstance(module, nn.Dropout):\n",
    "            module.p = dropout  # Override dropout\n",
    "    \n",
    "    optimizer = torch.optim.AdamW(model.parameters(), lr=lr, weight_decay=wd)\n",
    "    loss_fn = nn.CrossEntropyLoss()\n",
    "    best_epoch_val_acc = 0\n",
    "\n",
    "    for epoch in range(num_epochs):\n",
    "        train_loss, train_acc = train_epoch(model, train_loader, optimizer, loss_fn, device)\n",
    "        val_loss, val_acc = eval_epoch(model, valid_loader, loss_fn, device)\n",
    "        wandb.log({\n",
    "            \"epoch\": epoch+1,\n",
    "            \"train_loss\": train_loss,\n",
    "            \"train_accuracy\": train_acc,\n",
    "            \"val_loss\": val_loss,\n",
    "            \"val_accuracy\": val_acc\n",
    "        })\n",
    "        if val_acc > best_epoch_val_acc:\n",
    "            best_epoch_val_acc = val_acc\n",
    "\n",
    "    if best_epoch_val_acc > best_val_acc:\n",
    "        best_val_acc = best_epoch_val_acc\n",
    "        best_hparams = {\"learning_rate\": lr, \"dropout\": dropout, \"weight_decay\": wd, \"batch_size\": batch_size}\n",
    "    wandb.finish()\n",
    "\n",
    "print(\"Best validation accuracy:\", best_val_acc)\n",
    "print(\"Best hyperparameters:\", best_hparams)"
   ]
  },
  {
   "cell_type": "code",
   "execution_count": null,
   "id": "e935135e-3ade-4c71-9606-aa40bb5a15e0",
   "metadata": {},
   "outputs": [],
   "source": [
    "Training the Pretrained Transformer"
   ]
  },
  {
   "cell_type": "code",
   "execution_count": 9,
   "id": "e0cb6722-4331-4b5a-bd6e-d791b805e115",
   "metadata": {},
   "outputs": [
    {
     "name": "stderr",
     "output_type": "stream",
     "text": [
      "\u001b[34m\u001b[1mwandb\u001b[0m: \u001b[32m\u001b[41mERROR\u001b[0m Failed to detect the name of this notebook. You can set it manually with the WANDB_NOTEBOOK_NAME environment variable to enable code saving.\n",
      "\u001b[34m\u001b[1mwandb\u001b[0m: Currently logged in as: \u001b[33maditi-sharma-00073\u001b[0m (\u001b[33maditi-sharma-00073-hochschule-luzern\u001b[0m) to \u001b[32mhttps://api.wandb.ai\u001b[0m. Use \u001b[1m`wandb login --relogin`\u001b[0m to force relogin\n"
     ]
    },
    {
     "data": {
      "text/html": [
       "Tracking run with wandb version 0.19.11"
      ],
      "text/plain": [
       "<IPython.core.display.HTML object>"
      ]
     },
     "metadata": {},
     "output_type": "display_data"
    },
    {
     "data": {
      "text/html": [
       "Run data is saved locally in <code>/home/jovyan/wandb/run-20250516_194141-k99nuhyk</code>"
      ],
      "text/plain": [
       "<IPython.core.display.HTML object>"
      ]
     },
     "metadata": {},
     "output_type": "display_data"
    },
    {
     "data": {
      "text/html": [
       "Syncing run <strong><a href='https://wandb.ai/aditi-sharma-00073-hochschule-luzern/commonsenseqa_albert_best-5/runs/k99nuhyk' target=\"_blank\">albert-finetune</a></strong> to <a href='https://wandb.ai/aditi-sharma-00073-hochschule-luzern/commonsenseqa_albert_best-5' target=\"_blank\">Weights & Biases</a> (<a href='https://wandb.me/developer-guide' target=\"_blank\">docs</a>)<br>"
      ],
      "text/plain": [
       "<IPython.core.display.HTML object>"
      ]
     },
     "metadata": {},
     "output_type": "display_data"
    },
    {
     "data": {
      "text/html": [
       " View project at <a href='https://wandb.ai/aditi-sharma-00073-hochschule-luzern/commonsenseqa_albert_best-5' target=\"_blank\">https://wandb.ai/aditi-sharma-00073-hochschule-luzern/commonsenseqa_albert_best-5</a>"
      ],
      "text/plain": [
       "<IPython.core.display.HTML object>"
      ]
     },
     "metadata": {},
     "output_type": "display_data"
    },
    {
     "data": {
      "text/html": [
       " View run at <a href='https://wandb.ai/aditi-sharma-00073-hochschule-luzern/commonsenseqa_albert_best-5/runs/k99nuhyk' target=\"_blank\">https://wandb.ai/aditi-sharma-00073-hochschule-luzern/commonsenseqa_albert_best-5/runs/k99nuhyk</a>"
      ],
      "text/plain": [
       "<IPython.core.display.HTML object>"
      ]
     },
     "metadata": {},
     "output_type": "display_data"
    },
    {
     "data": {
      "text/html": [
       "<button onClick=\"this.nextSibling.style.display='block';this.style.display='none';\">Display W&B run</button><iframe src='https://wandb.ai/aditi-sharma-00073-hochschule-luzern/commonsenseqa_albert_best-5/runs/k99nuhyk?jupyter=true' style='border:none;width:100%;height:420px;display:none;'></iframe>"
      ],
      "text/plain": [
       "<wandb.sdk.wandb_run.Run at 0x7fc585c3aa80>"
      ]
     },
     "execution_count": 9,
     "metadata": {},
     "output_type": "execute_result"
    }
   ],
   "source": [
    "import wandb\n",
    "\n",
    "wandb.init(project=\"commonsenseqa_albert_best-5\", name=\"albert-finetune\", config={\n",
    "    \"model\": \"AlbertForMultipleChoice\",\n",
    "    \"epochs\": 5,\n",
    "    \"batch_size\": 16,\n",
    "    \"lr\": 2e-5,\n",
    "    \"max_seq_len\": max_seq_len,\n",
    "})"
   ]
  },
  {
   "cell_type": "code",
   "execution_count": 10,
   "id": "c42e1d65-327a-4fa7-8c9d-552bf1d61c4a",
   "metadata": {},
   "outputs": [],
   "source": [
    "optimizer = torch.optim.AdamW(model.parameters(), lr=wandb.config.lr)\n",
    "loss_fn = nn.CrossEntropyLoss()\n",
    "\n",
    "def train(model, dataloader):\n",
    "    model.train()\n",
    "    total_loss, correct, total = 0, 0, 0\n",
    "    for batch in dataloader:\n",
    "        input_ids = batch['input_ids'].to(device)\n",
    "        attention_mask = batch['attention_mask'].to(device)\n",
    "        labels = batch['label'].to(device)\n",
    "\n",
    "        logits = model(input_ids=input_ids, attention_mask=attention_mask).logits\n",
    "        loss = loss_fn(logits, labels)\n",
    "\n",
    "        optimizer.zero_grad()\n",
    "        loss.backward()\n",
    "        optimizer.step()\n",
    "\n",
    "        total_loss += loss.item() * input_ids.size(0)\n",
    "        preds = torch.argmax(logits, dim=1)\n",
    "        correct += (preds == labels).sum().item()\n",
    "        total += input_ids.size(0)\n",
    "\n",
    "    avg_loss = total_loss / total\n",
    "    accuracy = correct / total\n",
    "    return avg_loss, accuracy\n",
    "\n",
    "def evaluate(model, dataloader):\n",
    "    model.eval()\n",
    "    total_loss, correct, total = 0, 0, 0\n",
    "    with torch.no_grad():\n",
    "        for batch in dataloader:\n",
    "            input_ids = batch['input_ids'].to(device)\n",
    "            attention_mask = batch['attention_mask'].to(device)\n",
    "            labels = batch['label'].to(device)\n",
    "\n",
    "            logits = model(input_ids=input_ids, attention_mask=attention_mask).logits\n",
    "            loss = loss_fn(logits, labels)\n",
    "\n",
    "            total_loss += loss.item() * input_ids.size(0)\n",
    "            preds = torch.argmax(logits, dim=1)\n",
    "            correct += (preds == labels).sum().item()\n",
    "            total += input_ids.size(0)\n",
    "\n",
    "    avg_loss = total_loss / total\n",
    "    accuracy = correct / total\n",
    "    return avg_loss, accuracy\n"
   ]
  },
  {
   "cell_type": "code",
   "execution_count": 11,
   "id": "d2369a79-b5be-4976-a2d3-9f0291bd985e",
   "metadata": {},
   "outputs": [
    {
     "name": "stdout",
     "output_type": "stream",
     "text": [
      "Epoch 1: Train Loss=1.3921, Acc=0.3951 | Val Loss=1.2177, Acc=0.5100\n",
      "Epoch 2: Train Loss=1.0076, Acc=0.5976 | Val Loss=1.2157, Acc=0.5340\n",
      "Epoch 3: Train Loss=0.6197, Acc=0.7626 | Val Loss=1.2563, Acc=0.5530\n",
      "Epoch 4: Train Loss=0.3157, Acc=0.8881 | Val Loss=1.8659, Acc=0.5120\n",
      "Epoch 5: Train Loss=0.1385, Acc=0.9533 | Val Loss=1.9028, Acc=0.5240\n"
     ]
    },
    {
     "data": {
      "text/html": [],
      "text/plain": [
       "<IPython.core.display.HTML object>"
      ]
     },
     "metadata": {},
     "output_type": "display_data"
    },
    {
     "data": {
      "text/html": [
       "<br>    <style><br>        .wandb-row {<br>            display: flex;<br>            flex-direction: row;<br>            flex-wrap: wrap;<br>            justify-content: flex-start;<br>            width: 100%;<br>        }<br>        .wandb-col {<br>            display: flex;<br>            flex-direction: column;<br>            flex-basis: 100%;<br>            flex: 1;<br>            padding: 10px;<br>        }<br>    </style><br><div class=\"wandb-row\"><div class=\"wandb-col\"><h3>Run history:</h3><br/><table class=\"wandb\"><tr><td>epoch</td><td>▁▃▅▆█</td></tr><tr><td>train_accuracy</td><td>▁▄▆▇█</td></tr><tr><td>train_loss</td><td>█▆▄▂▁</td></tr><tr><td>val_accuracy</td><td>▁▅█▁▃</td></tr><tr><td>val_loss</td><td>▁▁▁██</td></tr></table><br/></div><div class=\"wandb-col\"><h3>Run summary:</h3><br/><table class=\"wandb\"><tr><td>epoch</td><td>5</td></tr><tr><td>train_accuracy</td><td>0.95332</td></tr><tr><td>train_loss</td><td>0.1385</td></tr><tr><td>val_accuracy</td><td>0.524</td></tr><tr><td>val_loss</td><td>1.90281</td></tr></table><br/></div></div>"
      ],
      "text/plain": [
       "<IPython.core.display.HTML object>"
      ]
     },
     "metadata": {},
     "output_type": "display_data"
    },
    {
     "data": {
      "text/html": [
       " View run <strong style=\"color:#cdcd00\">albert-finetune</strong> at: <a href='https://wandb.ai/aditi-sharma-00073-hochschule-luzern/commonsenseqa_albert_best-5/runs/k99nuhyk' target=\"_blank\">https://wandb.ai/aditi-sharma-00073-hochschule-luzern/commonsenseqa_albert_best-5/runs/k99nuhyk</a><br> View project at: <a href='https://wandb.ai/aditi-sharma-00073-hochschule-luzern/commonsenseqa_albert_best-5' target=\"_blank\">https://wandb.ai/aditi-sharma-00073-hochschule-luzern/commonsenseqa_albert_best-5</a><br>Synced 5 W&B file(s), 0 media file(s), 0 artifact file(s) and 0 other file(s)"
      ],
      "text/plain": [
       "<IPython.core.display.HTML object>"
      ]
     },
     "metadata": {},
     "output_type": "display_data"
    },
    {
     "data": {
      "text/html": [
       "Find logs at: <code>./wandb/run-20250516_194141-k99nuhyk/logs</code>"
      ],
      "text/plain": [
       "<IPython.core.display.HTML object>"
      ]
     },
     "metadata": {},
     "output_type": "display_data"
    }
   ],
   "source": [
    "for epoch in range(wandb.config.epochs):\n",
    "    train_loss, train_acc = train(model, train_loader)\n",
    "    val_loss, val_acc = evaluate(model, valid_loader)\n",
    "\n",
    "    print(f\"Epoch {epoch+1}: Train Loss={train_loss:.4f}, Acc={train_acc:.4f} | Val Loss={val_loss:.4f}, Acc={val_acc:.4f}\")\n",
    "\n",
    "    wandb.log({\n",
    "        \"epoch\": epoch+1,\n",
    "        \"train_loss\": train_loss,\n",
    "        \"train_accuracy\": train_acc,\n",
    "        \"val_loss\": val_loss,\n",
    "        \"val_accuracy\": val_acc\n",
    "    })\n",
    "\n",
    "wandb.finish()"
   ]
  },
  {
   "cell_type": "code",
   "execution_count": null,
   "id": "4ccd08f8-2e96-4672-ab19-dfac15d3e23a",
   "metadata": {},
   "outputs": [],
   "source": [
    "Evaluation on Pretrained Transformer:"
   ]
  },
  {
   "cell_type": "code",
   "execution_count": 12,
   "id": "3e2a34cd-7174-4c4d-9fb0-24ac7926f7d8",
   "metadata": {},
   "outputs": [
    {
     "data": {
      "image/png": "[encoded data removed]",
      "text/plain": [
       "<Figure size 800x600 with 2 Axes>"
      ]
     },
     "metadata": {},
     "output_type": "display_data"
    },
    {
     "name": "stdout",
     "output_type": "stream",
     "text": [
      "Test Accuracy: 0.5438\n",
      "Test Precision: 0.5461\n",
      "Test Recall: 0.5438\n",
      "Test F1 Score: 0.5443\n",
      "\n",
      "Classification Report:\n",
      "              precision    recall  f1-score   support\n",
      "\n",
      "           A       0.51      0.56      0.53       239\n",
      "           B       0.57      0.56      0.56       255\n",
      "           C       0.55      0.52      0.53       241\n",
      "           D       0.60      0.55      0.57       251\n",
      "           E       0.50      0.53      0.52       235\n",
      "\n",
      "    accuracy                           0.54      1221\n",
      "   macro avg       0.55      0.54      0.54      1221\n",
      "weighted avg       0.55      0.54      0.54      1221\n",
      "\n",
      "\n",
      "Confusion Matrix:\n",
      "[[135  27  30  21  26]\n",
      " [ 29 142  25  18  41]\n",
      " [ 29  31 125  27  29]\n",
      " [ 34  27  26 138  26]\n",
      " [ 39  24  23  25 124]]\n"
     ]
    }
   ],
   "source": [
    "from sklearn.metrics import classification_report, confusion_matrix, accuracy_score, precision_score, recall_score, f1_score\n",
    "import seaborn as sns\n",
    "import matplotlib.pyplot as plt\n",
    "import numpy as np\n",
    "\n",
    "def evaluate_and_plot(model, test_loader, device):\n",
    "    model.eval()\n",
    "    all_preds = []\n",
    "    all_labels = []\n",
    "    \n",
    "    with torch.no_grad():\n",
    "        for batch in test_loader:\n",
    "            input_ids = batch['input_ids'].to(device)\n",
    "            attention_mask = batch['attention_mask'].to(device)\n",
    "            labels = batch['label'].to(device)\n",
    "            \n",
    "            logits = model(input_ids=input_ids, attention_mask=attention_mask).logits\n",
    "            preds = torch.argmax(logits, dim=1)\n",
    "            \n",
    "            all_preds.extend(preds.cpu().numpy())\n",
    "            all_labels.extend(labels.cpu().numpy())\n",
    "    \n",
    "    # Metrics\n",
    "    accuracy = accuracy_score(all_labels, all_preds)\n",
    "    precision = precision_score(all_labels, all_preds, average='weighted')\n",
    "    recall = recall_score(all_labels, all_preds, average='weighted')\n",
    "    f1 = f1_score(all_labels, all_preds, average='weighted')\n",
    "    clf_report = classification_report(all_labels, all_preds, target_names=['A', 'B', 'C', 'D', 'E'])\n",
    "    cm = confusion_matrix(all_labels, all_preds)\n",
    "    \n",
    "    # Heatmap\n",
    "    labels = ['A', 'B', 'C', 'D', 'E']\n",
    "    plt.figure(figsize=(8, 6))\n",
    "    sns.heatmap(cm, annot=True, fmt='d', cmap='Blues',\n",
    "                xticklabels=labels, yticklabels=labels)\n",
    "    plt.xlabel('Predicted')\n",
    "    plt.ylabel('True')\n",
    "    plt.title('Confusion Matrix Heatmap')\n",
    "    plt.tight_layout()\n",
    "    plt.savefig('confusion_matrix_heatmap.png')\n",
    "    plt.show()\n",
    "    \n",
    "    # Print metrics\n",
    "    print(f\"Test Accuracy: {accuracy:.4f}\")\n",
    "    print(f\"Test Precision: {precision:.4f}\")\n",
    "    print(f\"Test Recall: {recall:.4f}\")\n",
    "    print(f\"Test F1 Score: {f1:.4f}\")\n",
    "    print(\"\\nClassification Report:\")\n",
    "    print(clf_report)\n",
    "    print(\"\\nConfusion Matrix:\")\n",
    "    print(cm)\n",
    "    \n",
    "    return {\n",
    "        'accuracy': accuracy,\n",
    "        'precision': precision,\n",
    "        'recall': recall,\n",
    "        'f1': f1,\n",
    "        'classification_report': clf_report,\n",
    "        'confusion_matrix': cm\n",
    "    }\n",
    "\n",
    "# Usage:\n",
    "test_metrics = evaluate_and_plot(model, test_loader, device)\n"
   ]
  },
  {
   "cell_type": "code",
   "execution_count": null,
   "id": "8acb01ab-c261-4559-a7ac-ded94665a8a8",
   "metadata": {},
   "outputs": [],
   "source": [
    "Randomly Initialised Transformer- AlbertForMultipleChoice"
   ]
  },
  {
   "cell_type": "code",
   "execution_count": null,
   "id": "4381b5eb-5577-4d61-b3df-62c0d95ddade",
   "metadata": {},
   "outputs": [],
   "source": [
    "# Model-1 (random weights, no pretraining) \n",
    "config = AlbertConfig.from_pretrained(\"albert-base-v2\")\n",
    "model = AlbertForMultipleChoice(config).to(device)\n",
    "for name, module in model.named_modules():\n",
    "    if isinstance(module, nn.Dropout):\n",
    "        module.p = 0.1\n",
    "\n",
    "optimizer = torch.optim.AdamW(model.parameters(), lr=2e-5)\n",
    "loss_fn = nn.CrossEntropyLoss()\n",
    "num_epochs = 5"
   ]
  },
  {
   "cell_type": "code",
   "execution_count": null,
   "id": "e1cf9d32-b828-43ef-aeae-1e03a478e920",
   "metadata": {},
   "outputs": [],
   "source": [
    "Train the randomly initialised transformer on same hyperparameters as pretrained"
   ]
  },
  {
   "cell_type": "code",
   "execution_count": 16,
   "id": "d2c0f235-4ece-4e97-8842-852bc162aab2",
   "metadata": {},
   "outputs": [
    {
     "name": "stderr",
     "output_type": "stream",
     "text": [
      "\u001b[34m\u001b[1mwandb\u001b[0m: \u001b[32m\u001b[41mERROR\u001b[0m Failed to detect the name of this notebook. You can set it manually with the WANDB_NOTEBOOK_NAME environment variable to enable code saving.\n",
      "\u001b[34m\u001b[1mwandb\u001b[0m: Currently logged in as: \u001b[33maditi-sharma-00073\u001b[0m (\u001b[33maditi-sharma-00073-hochschule-luzern\u001b[0m) to \u001b[32mhttps://api.wandb.ai\u001b[0m. Use \u001b[1m`wandb login --relogin`\u001b[0m to force relogin\n"
     ]
    },
    {
     "data": {
      "text/html": [
       "Tracking run with wandb version 0.19.11"
      ],
      "text/plain": [
       "<IPython.core.display.HTML object>"
      ]
     },
     "metadata": {},
     "output_type": "display_data"
    },
    {
     "data": {
      "text/html": [
       "Run data is saved locally in <code>/home/jovyan/wandb/run-20250516_215242-892h9nlq</code>"
      ],
      "text/plain": [
       "<IPython.core.display.HTML object>"
      ]
     },
     "metadata": {},
     "output_type": "display_data"
    },
    {
     "data": {
      "text/html": [
       "Syncing run <strong><a href='https://wandb.ai/aditi-sharma-00073-hochschule-luzern/commonsenseqa_random_albert-5/runs/892h9nlq' target=\"_blank\">albert-random-weights</a></strong> to <a href='https://wandb.ai/aditi-sharma-00073-hochschule-luzern/commonsenseqa_random_albert-5' target=\"_blank\">Weights & Biases</a> (<a href='https://wandb.me/developer-guide' target=\"_blank\">docs</a>)<br>"
      ],
      "text/plain": [
       "<IPython.core.display.HTML object>"
      ]
     },
     "metadata": {},
     "output_type": "display_data"
    },
    {
     "data": {
      "text/html": [
       " View project at <a href='https://wandb.ai/aditi-sharma-00073-hochschule-luzern/commonsenseqa_random_albert-5' target=\"_blank\">https://wandb.ai/aditi-sharma-00073-hochschule-luzern/commonsenseqa_random_albert-5</a>"
      ],
      "text/plain": [
       "<IPython.core.display.HTML object>"
      ]
     },
     "metadata": {},
     "output_type": "display_data"
    },
    {
     "data": {
      "text/html": [
       " View run at <a href='https://wandb.ai/aditi-sharma-00073-hochschule-luzern/commonsenseqa_random_albert-5/runs/892h9nlq' target=\"_blank\">https://wandb.ai/aditi-sharma-00073-hochschule-luzern/commonsenseqa_random_albert-5/runs/892h9nlq</a>"
      ],
      "text/plain": [
       "<IPython.core.display.HTML object>"
      ]
     },
     "metadata": {},
     "output_type": "display_data"
    },
    {
     "data": {
      "text/html": [
       "<button onClick=\"this.nextSibling.style.display='block';this.style.display='none';\">Display W&B run</button><iframe src='https://wandb.ai/aditi-sharma-00073-hochschule-luzern/commonsenseqa_random_albert-5/runs/892h9nlq?jupyter=true' style='border:none;width:100%;height:420px;display:none;'></iframe>"
      ],
      "text/plain": [
       "<wandb.sdk.wandb_run.Run at 0x7f6445087980>"
      ]
     },
     "execution_count": 16,
     "metadata": {},
     "output_type": "execute_result"
    }
   ],
   "source": [
    "wandb.init(\n",
    "    project=\"commonsenseqa_random_albert-5\",\n",
    "    name=\"albert-random-weights\",\n",
    "    config={\n",
    "        \"model\": \"AlbertForMultipleChoice (random)\",\n",
    "        \"epochs\": num_epochs,\n",
    "        \"batch_size\": 16,\n",
    "        \"lr\": 2e-5,\n",
    "        \"max_seq_len\": max_length,\n",
    "    }\n",
    ")\n"
   ]
  },
  {
   "cell_type": "code",
   "execution_count": 18,
   "id": "390cf877-85dd-43ac-8df0-a193eec3ba78",
   "metadata": {},
   "outputs": [
    {
     "name": "stdout",
     "output_type": "stream",
     "text": [
      "Epoch 1: Train Loss=1.6149, Acc=0.1911 | Val Loss=1.6094, Acc=0.2130\n",
      "Epoch 2: Train Loss=1.6135, Acc=0.2007 | Val Loss=1.6094, Acc=0.2320\n",
      "Epoch 3: Train Loss=1.6164, Acc=0.1917 | Val Loss=1.6094, Acc=0.2190\n",
      "Epoch 4: Train Loss=1.6140, Acc=0.2003 | Val Loss=1.6094, Acc=0.2200\n",
      "Epoch 5: Train Loss=1.6152, Acc=0.1987 | Val Loss=1.6094, Acc=0.2320\n"
     ]
    },
    {
     "data": {
      "text/html": [],
      "text/plain": [
       "<IPython.core.display.HTML object>"
      ]
     },
     "metadata": {},
     "output_type": "display_data"
    },
    {
     "data": {
      "text/html": [
       "<br>    <style><br>        .wandb-row {<br>            display: flex;<br>            flex-direction: row;<br>            flex-wrap: wrap;<br>            justify-content: flex-start;<br>            width: 100%;<br>        }<br>        .wandb-col {<br>            display: flex;<br>            flex-direction: column;<br>            flex-basis: 100%;<br>            flex: 1;<br>            padding: 10px;<br>        }<br>    </style><br><div class=\"wandb-row\"><div class=\"wandb-col\"><h3>Run history:</h3><br/><table class=\"wandb\"><tr><td>epoch</td><td>▁▃▅▆█</td></tr><tr><td>train_accuracy</td><td>▁█▂█▇</td></tr><tr><td>train_loss</td><td>▄▁█▂▅</td></tr><tr><td>val_accuracy</td><td>▁█▃▄█</td></tr><tr><td>val_loss</td><td>▁▄▆██</td></tr></table><br/></div><div class=\"wandb-col\"><h3>Run summary:</h3><br/><table class=\"wandb\"><tr><td>epoch</td><td>5</td></tr><tr><td>train_accuracy</td><td>0.19872</td></tr><tr><td>train_loss</td><td>1.61518</td></tr><tr><td>val_accuracy</td><td>0.232</td></tr><tr><td>val_loss</td><td>1.60943</td></tr></table><br/></div></div>"
      ],
      "text/plain": [
       "<IPython.core.display.HTML object>"
      ]
     },
     "metadata": {},
     "output_type": "display_data"
    },
    {
     "data": {
      "text/html": [
       " View run <strong style=\"color:#cdcd00\">albert-random-weights</strong> at: <a href='https://wandb.ai/aditi-sharma-00073-hochschule-luzern/commonsenseqa_random_albert-5/runs/892h9nlq' target=\"_blank\">https://wandb.ai/aditi-sharma-00073-hochschule-luzern/commonsenseqa_random_albert-5/runs/892h9nlq</a><br> View project at: <a href='https://wandb.ai/aditi-sharma-00073-hochschule-luzern/commonsenseqa_random_albert-5' target=\"_blank\">https://wandb.ai/aditi-sharma-00073-hochschule-luzern/commonsenseqa_random_albert-5</a><br>Synced 5 W&B file(s), 0 media file(s), 0 artifact file(s) and 0 other file(s)"
      ],
      "text/plain": [
       "<IPython.core.display.HTML object>"
      ]
     },
     "metadata": {},
     "output_type": "display_data"
    },
    {
     "data": {
      "text/html": [
       "Find logs at: <code>./wandb/run-20250516_215242-892h9nlq/logs</code>"
      ],
      "text/plain": [
       "<IPython.core.display.HTML object>"
      ]
     },
     "metadata": {},
     "output_type": "display_data"
    }
   ],
   "source": [
    "best_val_acc = 0\n",
    "\n",
    "for epoch in range(num_epochs):\n",
    "    train_loss, train_acc = train(model, train_loader)\n",
    "    val_loss, val_acc = evaluate(model, valid_loader)\n",
    "\n",
    "    print(f\"Epoch {epoch+1}: Train Loss={train_loss:.4f}, Acc={train_acc:.4f} | Val Loss={val_loss:.4f}, Acc={val_acc:.4f}\")\n",
    "\n",
    "    wandb.log({\n",
    "        \"epoch\": epoch+1,\n",
    "        \"train_loss\": train_loss,\n",
    "        \"train_accuracy\": train_acc,\n",
    "        \"val_loss\": val_loss,\n",
    "        \"val_accuracy\": val_acc\n",
    "    })\n",
    "\n",
    "    # Save best model by validation accuracy\n",
    "    if val_acc > best_val_acc:\n",
    "        best_val_acc = val_acc\n",
    "        torch.save(model.state_dict(), \"best_albert_random_model.pt\")\n",
    "\n",
    "wandb.finish()"
   ]
  },
  {
   "cell_type": "raw",
   "id": "9d18aec6-783a-48af-b65a-a778716ed805",
   "metadata": {},
   "source": [
    "Evaluation: on this Randomly initialised transformer AlbertForMultipleChoice (random)"
   ]
  },
  {
   "cell_type": "code",
   "execution_count": 21,
   "id": "53cf1cec-7991-4125-b61b-504b4acadd91",
   "metadata": {},
   "outputs": [
    {
     "data": {
      "image/png": "[encoded data removed]",
      "text/plain": [
       "<Figure size 800x600 with 2 Axes>"
      ]
     },
     "metadata": {},
     "output_type": "display_data"
    },
    {
     "name": "stdout",
     "output_type": "stream",
     "text": [
      "Test Accuracy: 0.2080\n",
      "Test Precision: 0.2081\n",
      "Test Recall: 0.2080\n",
      "Test F1 Score: 0.2080\n",
      "\n",
      "Classification Report:\n",
      "              precision    recall  f1-score   support\n",
      "\n",
      "           A       0.18      0.17      0.17       239\n",
      "           B       0.24      0.24      0.24       255\n",
      "           C       0.19      0.20      0.19       241\n",
      "           D       0.22      0.22      0.22       251\n",
      "           E       0.20      0.21      0.21       235\n",
      "\n",
      "    accuracy                           0.21      1221\n",
      "   macro avg       0.21      0.21      0.21      1221\n",
      "weighted avg       0.21      0.21      0.21      1221\n",
      "\n",
      "\n",
      "Confusion Matrix:\n",
      "[[40 48 51 48 52]\n",
      " [45 61 45 52 52]\n",
      " [48 53 47 49 44]\n",
      " [51 44 51 56 49]\n",
      " [41 43 56 45 50]]\n"
     ]
    }
   ],
   "source": [
    "test_metrics = evaluate_and_plot(model, test_loader, device)"
   ]
  },
  {
   "cell_type": "raw",
   "id": "407de7a3-857d-4ae7-9bcd-6e3cf87c64f5",
   "metadata": {},
   "source": [
    "Interpretation : \n",
    "\n",
    "Pretrained ALBERT:\n",
    "Shows strong diagonal dominance with values ranging from 124-142 for correct predictions\n",
    "Class B has the highest correct predictions (142)\n",
    "Misclassifications are relatively evenly distributed, suggesting no strong bias toward any particular incorrect class\n",
    "Overall pattern indicates the model has learned meaningful patterns for distinguishing between classes\n",
    "\n",
    "Randomly Initialized ALBERT:\n",
    "Shows weak diagonal elements ranging from 40-61 for correct predictions\n",
    "More uniform distribution across all cells, indicating near-random performance\n",
    "The highest value is only 61 (for class B correct predictions), much lower than the pretrained model's performance\n",
    "Prediction distribution appears close to random guessing across the five classes"
   ]
  },
  {
   "cell_type": "raw",
   "id": "331a3b8f-240c-4d0d-8901-68a9245d66e1",
   "metadata": {},
   "source": [
    "The results highlight the crucial role of pretraining in developing models capable of commonsense reasoning, demonstrating that language model pretraining provides essential foundational knowledge that significantly enhances performance on complex reasoning tasks."
   ]
  },
  {
   "cell_type": "raw",
   "id": "f9a5e38a-ba01-474f-8b27-8cfab2ad31d2",
   "metadata": {},
   "source": [
    "Part-2 : LLM"
   ]
  },
  {
   "cell_type": "raw",
   "id": "4600fa5e-00fe-400f-a142-dde092a9ee2c",
   "metadata": {},
   "source": [
    "Setup"
   ]
  },
  {
   "cell_type": "code",
   "execution_count": 1,
   "id": "39a8819c-8129-4667-8a42-a19a812c3508",
   "metadata": {},
   "outputs": [],
   "source": [
    "!pip install transformers datasets accelerate --quiet\n",
    "\n",
    "from datasets import load_dataset\n",
    "from transformers import AutoTokenizer, AutoModelForSeq2SeqLM, pipeline\n",
    "import torch\n",
    "import random\n",
    "import numpy as np\n",
    "from tqdm import tqdm\n",
    "from sklearn.metrics import confusion_matrix, ConfusionMatrixDisplay, classification_report\n",
    "import matplotlib.pyplot as plt\n",
    "import seaborn as sns\n"
   ]
  },
  {
   "cell_type": "code",
   "execution_count": 2,
   "id": "df4a79fd-6523-4380-8f72-b8cabf740399",
   "metadata": {},
   "outputs": [
    {
     "data": {
      "text/plain": [
       "<torch._C.Generator at 0x7f84c1b8b790>"
      ]
     },
     "execution_count": 2,
     "metadata": {},
     "output_type": "execute_result"
    }
   ],
   "source": [
    "# Set seeds for reproducibility\n",
    "seed = 42\n",
    "random.seed(seed)\n",
    "np.random.seed(seed)\n",
    "torch.manual_seed(seed)"
   ]
  },
  {
   "cell_type": "code",
   "execution_count": 3,
   "id": "978328f2-8ebd-4b40-a946-09b5094d189c",
   "metadata": {},
   "outputs": [
    {
     "name": "stdout",
     "output_type": "stream",
     "text": [
      "Question: The sanctions against the school were a punishing blow, and they seemed to what the efforts the school had made to change?\n",
      "A. ignore\n",
      "B. enforce\n",
      "C. authoritarian\n",
      "D. yell at\n",
      "E. avoid\n",
      "Answer: A\n"
     ]
    }
   ],
   "source": [
    "# Load dataset splits\n",
    "train_dataset_raw = load_dataset(\"tau/commonsense_qa\", split=\"train[:-1000]\")\n",
    "valid_dataset_raw = load_dataset(\"tau/commonsense_qa\", split=\"train[-1000:]\")\n",
    "test_dataset_raw = load_dataset(\"tau/commonsense_qa\", split=\"validation\")\n",
    "\n",
    "# Helper to convert one example to a prompt\n",
    "def format_example(example, include_answer=False):\n",
    "    prompt = f\"Question: {example['question']}\\n\"\n",
    "    for idx, choice in enumerate(example[\"choices\"][\"text\"]):\n",
    "        prompt += f\"{chr(ord('A') + idx)}. {choice}\\n\"\n",
    "    prompt += \"Answer:\"\n",
    "    if include_answer:\n",
    "        correct_idx = example[\"choices\"][\"label\"].index(example[\"answerKey\"])\n",
    "        prompt += f\" {chr(ord('A') + correct_idx)}\"\n",
    "    return prompt\n",
    "\n",
    "# Example prompt\n",
    "print(format_example(train_dataset_raw[0], include_answer=True))"
   ]
  },
  {
   "cell_type": "raw",
   "id": "501a8b90-6e98-46db-9800-ab8571555847",
   "metadata": {},
   "source": [
    "Model (LLM) = \"google/flan-t5-large\""
   ]
  },
  {
   "cell_type": "code",
   "execution_count": 4,
   "id": "5cdbe9d8-5cd0-472e-89a7-d51d4d483ef2",
   "metadata": {},
   "outputs": [],
   "source": [
    "# Load model and tokenizer\n",
    "model_name = \"google/flan-t5-large\"\n",
    "tokenizer = AutoTokenizer.from_pretrained(model_name)\n",
    "model = AutoModelForSeq2SeqLM.from_pretrained(model_name).to(\"cuda\" if torch.cuda.is_available() else \"cpu\")"
   ]
  },
  {
   "cell_type": "code",
   "execution_count": null,
   "id": "6a42df6d-d642-4b6b-aa8c-c56ec440aba5",
   "metadata": {},
   "outputs": [],
   "source": [
    "Zero Shot Prompting"
   ]
  },
  {
   "cell_type": "code",
   "execution_count": 3,
   "id": "13e0fc56-6062-4b83-92cf-834bae4d5ac1",
   "metadata": {},
   "outputs": [
    {
     "name": "stderr",
     "output_type": "stream",
     "text": [
      "100%|██████████| 1221/1221 [01:34<00:00, 12.91it/s]\n"
     ]
    },
    {
     "name": "stdout",
     "output_type": "stream",
     "text": [
      "Zero-shot accuracy on full test set: 85.83%\n"
     ]
    },
    {
     "data": {
      "image/png": "[encoded data removed]",
      "text/plain": [
       "<Figure size 640x480 with 2 Axes>"
      ]
     },
     "metadata": {},
     "output_type": "display_data"
    }
   ],
   "source": [
    "def run_zero_shot_with_confmat(model, tokenizer, dataset):\n",
    "    correct = 0\n",
    "    total = 0\n",
    "    y_true = []\n",
    "    y_pred = []\n",
    "\n",
    "    for example in tqdm(dataset):\n",
    "        prompt = format_example(example, include_answer=False)\n",
    "        inputs = tokenizer(prompt, return_tensors=\"pt\").to(model.device)\n",
    "        outputs = model.generate(**inputs, max_new_tokens=2)\n",
    "        pred = tokenizer.decode(outputs[0], skip_special_tokens=True).strip().upper()\n",
    "\n",
    "        correct_ans = example[\"answerKey\"]\n",
    "\n",
    "        y_true.append(correct_ans)\n",
    "        # Ensure we only take the first letter of prediction if valid\n",
    "        y_pred.append(pred[0] if pred and pred[0] in \"ABCDE\" else \"X\")  # X for invalid/unmapped\n",
    "\n",
    "        if pred.startswith(correct_ans):\n",
    "            correct += 1\n",
    "        total += 1\n",
    "\n",
    "    accuracy = correct / total\n",
    "    print(f\"Zero-shot accuracy on full test set: {accuracy:.2%}\")\n",
    "\n",
    "    # Plot confusion matrix\n",
    "    labels = [\"A\", \"B\", \"C\", \"D\", \"E\", \"X\"]\n",
    "    cm = confusion_matrix(y_true, y_pred, labels=labels)\n",
    "    disp = ConfusionMatrixDisplay(confusion_matrix=cm, display_labels=labels)\n",
    "    disp.plot(cmap=plt.cm.Blues)\n",
    "    plt.title(\"Confusion Matrix - Zero Shot\")\n",
    "    plt.show()\n",
    "\n",
    "    return accuracy\n",
    "zero_shot_accuracy = run_zero_shot_with_confmat(model, tokenizer, test_dataset_raw)"
   ]
  },
  {
   "cell_type": "raw",
   "id": "f5be79d2-3025-478a-ae41-fd345df6b8b4",
   "metadata": {},
   "source": [
    "Few Shot Prompting"
   ]
  },
  {
   "cell_type": "code",
   "execution_count": 4,
   "id": "48eeee69-b0d5-44ed-b2ac-fe208013d025",
   "metadata": {},
   "outputs": [
    {
     "name": "stderr",
     "output_type": "stream",
     "text": [
      "100%|██████████| 1221/1221 [01:55<00:00, 10.54it/s]\n"
     ]
    },
    {
     "name": "stdout",
     "output_type": "stream",
     "text": [
      "Few-shot accuracy on full test set: 85.09%\n"
     ]
    },
    {
     "data": {
      "image/png": "[encoded data removed]",
      "text/plain": [
       "<Figure size 640x480 with 2 Axes>"
      ]
     },
     "metadata": {},
     "output_type": "display_data"
    }
   ],
   "source": [
    "# Select a few fixed examples for few-shot prompting\n",
    "few_shot_examples = [train_dataset_raw[i] for i in [1, 5]]\n",
    "\n",
    "# Format prompt with few-shot context + one new question\n",
    "def format_few_shot_prompt(target_example, examples):\n",
    "    prompt = \"\"\n",
    "    for ex in examples:\n",
    "        prompt += format_example(ex, include_answer=True) + \"\\n\\n\"\n",
    "    prompt += format_example(target_example, include_answer=False)\n",
    "    return prompt\n",
    "\n",
    "# Few-shot evaluation with confusion matrix\n",
    "def run_few_shot_with_confmat(model, tokenizer, dataset, few_shot_examples, debug=False):\n",
    "    correct = 0\n",
    "    total = 0\n",
    "    y_true = []\n",
    "    y_pred = []\n",
    "\n",
    "    for i, example in enumerate(tqdm(dataset)):\n",
    "        prompt = format_few_shot_prompt(example, few_shot_examples)\n",
    "        if debug and i == 0:\n",
    "            print(\"\\n--- Sample Prompt ---\\n\")\n",
    "            print(prompt)\n",
    "\n",
    "        inputs = tokenizer(prompt, return_tensors=\"pt\", truncation=True).to(model.device)\n",
    "        outputs = model.generate(**inputs, max_new_tokens=2)\n",
    "        pred = tokenizer.decode(outputs[0], skip_special_tokens=True).strip().upper()\n",
    "\n",
    "        if debug:\n",
    "            print(f\"Prediction: {pred} | Ground Truth: {example['answerKey']}\")\n",
    "\n",
    "        correct_ans = example[\"answerKey\"]\n",
    "        y_true.append(correct_ans)\n",
    "        y_pred.append(pred[0] if pred and pred[0] in \"ABCDE\" else \"X\")  # \"X\" for invalid output\n",
    "\n",
    "        if pred.startswith(correct_ans):\n",
    "            correct += 1\n",
    "        total += 1\n",
    "\n",
    "    accuracy = correct / total\n",
    "    print(f\"Few-shot accuracy on full test set: {accuracy:.2%}\")\n",
    "\n",
    "    # Plot confusion matrix\n",
    "    labels = [\"A\", \"B\", \"C\", \"D\", \"E\", \"X\"]\n",
    "    cm = confusion_matrix(y_true, y_pred, labels=labels)\n",
    "    disp = ConfusionMatrixDisplay(confusion_matrix=cm, display_labels=labels)\n",
    "    disp.plot(cmap=plt.cm.Blues)\n",
    "    plt.title(\"Confusion Matrix - Few Shot (2-shot prompt)\")\n",
    "    plt.show()\n",
    "\n",
    "    return accuracy\n",
    "\n",
    "# Run on full test set now\n",
    "few_shot_accuracy = run_few_shot_with_confmat(model, tokenizer, test_dataset_raw, few_shot_examples)"
   ]
  },
  {
   "cell_type": "code",
   "execution_count": null,
   "id": "370bc3bb-811f-4957-bd8e-bdb27823f4d0",
   "metadata": {},
   "outputs": [],
   "source": [
    "Zero shot- Chain of Thought Prompting"
   ]
  },
  {
   "cell_type": "code",
   "execution_count": 3,
   "id": "d67e8beb-ad4f-4281-bac6-58b481277725",
   "metadata": {},
   "outputs": [
    {
     "name": "stderr",
     "output_type": "stream",
     "text": [
      "100%|██████████| 1221/1221 [15:37<00:00,  1.30it/s]"
     ]
    },
    {
     "name": "stdout",
     "output_type": "stream",
     "text": [
      "\n",
      "Zero-Shot CoT Accuracy on Test Set: 62.98%\n",
      "\n",
      "Classification Report:\n",
      "              precision    recall  f1-score   support\n",
      "\n",
      "           A       0.69      0.77      0.73       239\n",
      "           B       0.84      0.56      0.67       255\n",
      "           C       0.73      0.59      0.65       241\n",
      "           D       0.87      0.61      0.72       251\n",
      "           E       0.85      0.62      0.72       235\n",
      "\n",
      "   micro avg       0.78      0.63      0.70      1221\n",
      "   macro avg       0.79      0.63      0.70      1221\n",
      "weighted avg       0.80      0.63      0.70      1221\n",
      "\n"
     ]
    },
    {
     "name": "stderr",
     "output_type": "stream",
     "text": [
      "\n"
     ]
    },
    {
     "data": {
      "image/png": "[encoded data removed]",
      "text/plain": [
       "<Figure size 800x600 with 2 Axes>"
      ]
     },
     "metadata": {},
     "output_type": "display_data"
    }
   ],
   "source": [
    "def run_zero_shot_cot(model, tokenizer, dataset):\n",
    "    y_true = []\n",
    "    y_pred = []\n",
    "    label_list = [\"A\", \"B\", \"C\", \"D\", \"E\"]\n",
    "\n",
    "    for example in tqdm(dataset):\n",
    "        # CoT prompt\n",
    "        prompt = f\"Question: {example['question']}\\n\"\n",
    "        for idx, choice in enumerate(example[\"choices\"][\"text\"]):\n",
    "            prompt += f\"{chr(ord('A') + idx)}. {choice}\\n\"\n",
    "        prompt += \"Answer: Let's think step by step.\"\n",
    "\n",
    "        # Generate prediction\n",
    "        inputs = tokenizer(prompt, return_tensors=\"pt\", truncation=True, max_length=512).to(model.device)\n",
    "        outputs = model.generate(**inputs, max_new_tokens=32)\n",
    "        pred = tokenizer.decode(outputs[0], skip_special_tokens=True).strip()\n",
    "\n",
    "        # Extract answer (first label A-E found)\n",
    "        pred_label = \"Z\"\n",
    "        for label in label_list:\n",
    "            if pred.upper().startswith(label):\n",
    "                pred_label = label\n",
    "                break\n",
    "\n",
    "        y_true.append(example[\"answerKey\"])\n",
    "        y_pred.append(pred_label)\n",
    "\n",
    "    # Accuracy\n",
    "    correct = sum(p == t for p, t in zip(y_pred, y_true))\n",
    "    accuracy = correct / len(y_true)\n",
    "    print(f\"\\nZero-Shot CoT Accuracy on Test Set: {accuracy:.2%}\")\n",
    "\n",
    "    # Confusion Matrix\n",
    "    print(\"\\nClassification Report:\")\n",
    "    print(classification_report(y_true, y_pred, labels=label_list))\n",
    "\n",
    "    cm = confusion_matrix(y_true, y_pred, labels=label_list)\n",
    "    plt.figure(figsize=(8,6))\n",
    "    sns.heatmap(cm, annot=True, fmt='d', xticklabels=label_list, yticklabels=label_list, cmap=\"Blues\")\n",
    "    plt.xlabel(\"Predicted Label\")\n",
    "    plt.ylabel(\"True Label\")\n",
    "    plt.title(\"Confusion Matrix - Zero-Shot CoT\")\n",
    "    plt.show()\n",
    "run_zero_shot_cot(model, tokenizer, test_dataset_raw)"
   ]
  },
  {
   "cell_type": "raw",
   "id": "82f3d56b-7bb0-41f9-8d6c-29ca70461a60",
   "metadata": {},
   "source": [
    "RAG pipeline with live web search using SerpAPI"
   ]
  },
  {
   "cell_type": "code",
   "execution_count": null,
   "id": "e42cf2c6-71a2-46c0-966e-f94129587c23",
   "metadata": {},
   "outputs": [
    {
     "name": "stderr",
     "output_type": "stream",
     "text": [
      "  4%|▍         | 50/1221 [02:06<49:22,  2.53s/it]  "
     ]
    },
    {
     "name": "stdout",
     "output_type": "stream",
     "text": [
      "\n",
      "🔍 RAG + Live Search Accuracy (50 samples): 78.00%\n"
     ]
    },
    {
     "name": "stderr",
     "output_type": "stream",
     "text": [
      "\n"
     ]
    }
   ],
   "source": [
    "import os\n",
    "import requests\n",
    "import openai\n",
    "from datasets import load_dataset\n",
    "from transformers import AutoTokenizer, AutoModelForSeq2SeqLM\n",
    "import torch\n",
    "from tqdm import tqdm\n",
    "\n",
    "# Set your API keys here\n",
    "SERPAPI_API_KEY = os.environ(\"SERPAPI_API_KEY\")\n",
    "openai.api_key = os.environ(\"OPENAI_API_KEY\")\n",
    "\n",
    "# Load model and tokenizer\n",
    "model_name = \"google/flan-t5-large\"\n",
    "tokenizer = AutoTokenizer.from_pretrained(model_name)\n",
    "model = AutoModelForSeq2SeqLM.from_pretrained(model_name).to(\"cuda\" if torch.cuda.is_available() else \"cpu\")\n",
    "\n",
    "# Load dataset\n",
    "test_dataset_raw = load_dataset(\"tau/commonsense_qa\", split=\"validation\")\n",
    "\n",
    "# Helper: Format the multiple-choice question\n",
    "def format_example(example):\n",
    "    prompt = f\"Question: {example['question']}\\n\"\n",
    "    for idx, choice in enumerate(example[\"choices\"][\"text\"]):\n",
    "        prompt += f\"{chr(ord('A') + idx)}. {choice}\\n\"\n",
    "    prompt += \"Answer:\"\n",
    "    return prompt\n",
    "\n",
    "#  Helper: Run web search using SerpAPI\n",
    "def web_search_serpapi(query, serpapi_key):\n",
    "    params = {\n",
    "        \"q\": query,\n",
    "        \"api_key\": serpapi_key,\n",
    "        \"engine\": \"google\",\n",
    "        \"num\": 5,\n",
    "    }\n",
    "    response = requests.get(\"https://serpapi.com/search\", params=params)\n",
    "    data = response.json()\n",
    "    \n",
    "    # Extract snippets from top results\n",
    "    snippets = []\n",
    "    if \"organic_results\" in data:\n",
    "        for result in data[\"organic_results\"]:\n",
    "            if \"snippet\" in result:\n",
    "                snippets.append(result[\"snippet\"])\n",
    "    \n",
    "    return \" \".join(snippets[:3])  # Take top 3 snippets\n",
    "\n",
    "#  Helper: Generate answer with context\n",
    "def answer_with_context(context, prompt):\n",
    "    full_prompt = f\"{context}\\n\\n{prompt}\"\n",
    "    inputs = tokenizer(full_prompt, return_tensors=\"pt\", truncation=True, padding=True).to(model.device)\n",
    "    outputs = model.generate(**inputs, max_new_tokens=5)\n",
    "    pred = tokenizer.decode(outputs[0], skip_special_tokens=True).strip()\n",
    "    return pred\n",
    "\n",
    "#  Run RAG pipeline with live web search\n",
    "def run_rag_live(test_dataset, max_samples=50):\n",
    "    correct = 0\n",
    "    total = 0\n",
    "    \n",
    "    for i, example in enumerate(tqdm(test_dataset)):\n",
    "        if i >= max_samples:\n",
    "            break\n",
    "        question = example[\"question\"]\n",
    "        context = web_search_serpapi(question, SERPAPI_API_KEY)\n",
    "        prompt = format_example(example)\n",
    "        pred = answer_with_context(context, prompt)\n",
    "        \n",
    "        correct_ans = example[\"answerKey\"]\n",
    "        if pred.upper().startswith(correct_ans):\n",
    "            correct += 1\n",
    "        total += 1\n",
    "\n",
    "    return correct / total\n",
    "\n",
    "accuracy = run_rag_live(test_dataset_raw)\n",
    "print(f\"\\n🔍 RAG + Live Search Accuracy (50 samples): {accuracy:.2%}\")\n"
   ]
  },
  {
   "cell_type": "raw",
   "id": "bee75bf4-3023-44ff-b639-02196bcb3081",
   "metadata": {},
   "source": [
    "Interpretation :\n",
    "Zero-shot: The model performs robustly without any in-context examples, indicating strong generalization and prior knowledge. Misclassifications are minor and evenly distributed, with no class suffering disproportionately.\n",
    "Few shot: Adding some in-context examples does not significantly improve performance, likely because the model already possesses strong commonsense reasoning abilities. This suggests diminishing returns for few-shot prompting on this task/dataset.\n",
    "Zero shot chain of thought: Introducing CoT reasoning in zero-shot mode reduces overall accuracy compared to standard zero-shot/few-shot. While CoT can help in some reasoning tasks, here it introduces more confusion, especially for class B. This may be due to the model overcomplicating what is essentially a straightforward classification task, or producing verbose rationales that distract from the correct answer.\n",
    "RAG: This demonstrates the value of grounding LLMs with up-to-date or external knowledge, especially for questions that may require more than internalized commonsense. Even with a small sample size, the improvement is substantial over zero-shot CoT."
   ]
  },
  {
   "cell_type": "code",
   "execution_count": null,
   "id": "7e5f9215-6d4a-4c8f-94d8-200d89f110fb",
   "metadata": {},
   "outputs": [],
   "source": [
    "Tools used : ChatGPT, Perplexity AI, Online documentations"
   ]
  }
 ],
 "metadata": {
  "kernelspec": {
   "display_name": "Python 3 (ipykernel)",
   "language": "python",
   "name": "python3"
  },
  "language_info": {
   "codemirror_mode": {
    "name": "ipython",
    "version": 3
   },
   "file_extension": ".py",
   "mimetype": "text/x-python",
   "name": "python",
   "nbconvert_exporter": "python",
   "pygments_lexer": "ipython3",
   "version": "3.12.9"
  }
 },
 "nbformat": 4,
 "nbformat_minor": 5
}
